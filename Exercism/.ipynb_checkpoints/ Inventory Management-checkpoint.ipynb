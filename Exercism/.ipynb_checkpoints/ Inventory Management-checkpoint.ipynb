{
 "cells": [
  {
   "cell_type": "markdown",
   "id": "31fa1ccd",
   "metadata": {},
   "source": [
    "# create_inventory"
   ]
  },
  {
   "cell_type": "markdown",
   "id": "ca820c7b",
   "metadata": {},
   "source": [
    "### For loop"
   ]
  },
  {
   "cell_type": "code",
   "execution_count": 1,
   "id": "0b91ceaa",
   "metadata": {},
   "outputs": [],
   "source": [
    "def create_inventory(items):\n",
    "    \"\"\"Create a dict that tracks the amount (count) of each element on the `items` list.\n",
    "\n",
    "    :param items: list - list of items to create an inventory from.\n",
    "    :return: dict - the inventory dictionary.\n",
    "    \"\"\"\n",
    "    inventory = dict()\n",
    "    for item in items:\n",
    "        inventory.setdefault(item,items.count(item))\n",
    "    return inventory"
   ]
  },
  {
   "cell_type": "code",
   "execution_count": 2,
   "id": "dbc6b617",
   "metadata": {},
   "outputs": [
    {
     "data": {
      "text/plain": [
       "{'coal': 1, 'wood': 2, 'diamond': 3}"
      ]
     },
     "execution_count": 2,
     "metadata": {},
     "output_type": "execute_result"
    }
   ],
   "source": [
    "create_inventory([\"coal\", \"wood\", \"wood\", \"diamond\", \"diamond\", \"diamond\"])"
   ]
  },
  {
   "cell_type": "markdown",
   "id": "60fcfe9b",
   "metadata": {},
   "source": [
    "## Performant solution"
   ]
  },
  {
   "cell_type": "markdown",
   "id": "aae115c9",
   "metadata": {},
   "source": [
    "### Dictionary Comprehension"
   ]
  },
  {
   "cell_type": "code",
   "execution_count": 3,
   "id": "5e5aea95",
   "metadata": {},
   "outputs": [],
   "source": [
    "def create_inventory2(items):\n",
    "    \"\"\"Create a dict that tracks the amount (count) of each element on the `items` list.\n",
    "\n",
    "    :param items: list - list of items to create an inventory from.\n",
    "    :return: dict - the inventory dictionary.\n",
    "    \"\"\"\n",
    "    return {item: items.count(item) for item in items}"
   ]
  },
  {
   "cell_type": "code",
   "execution_count": 4,
   "id": "80e4811c",
   "metadata": {},
   "outputs": [
    {
     "data": {
      "text/plain": [
       "{'coal': 1, 'wood': 2, 'diamond': 3}"
      ]
     },
     "execution_count": 4,
     "metadata": {},
     "output_type": "execute_result"
    }
   ],
   "source": [
    "create_inventory2([\"coal\", \"wood\", \"wood\", \"diamond\", \"diamond\", \"diamond\"])"
   ]
  },
  {
   "cell_type": "code",
   "execution_count": null,
   "id": "20dfaaf9",
   "metadata": {},
   "outputs": [],
   "source": []
  },
  {
   "cell_type": "markdown",
   "id": "f6ba08db",
   "metadata": {},
   "source": [
    "# add_items()"
   ]
  },
  {
   "cell_type": "code",
   "execution_count": 5,
   "id": "b8b49850",
   "metadata": {},
   "outputs": [],
   "source": [
    "def add_items(inventory, items):\n",
    "    \"\"\"Add or increment items in inventory using elements from the items `list`.\n",
    "\n",
    "    :param inventory: dict - dictionary of existing inventory.\n",
    "    :param items: list - list of items to update the inventory with.\n",
    "    :return: dict - the inventory updated with the new items.\n",
    "    \"\"\"\n",
    "    for i in items:\n",
    "        if i not in inventory:\n",
    "            inventory.setdefault(i,1)\n",
    "        else:\n",
    "            inventory[i] +=1\n",
    "    return inventory"
   ]
  },
  {
   "cell_type": "code",
   "execution_count": 6,
   "id": "3def9a40",
   "metadata": {},
   "outputs": [
    {
     "data": {
      "text/plain": [
       "{'iron': 2, 'diamond': 2, 'wood': 2}"
      ]
     },
     "execution_count": 6,
     "metadata": {},
     "output_type": "execute_result"
    }
   ],
   "source": [
    "add_items({\"iron\": 1, \"diamond\": 2},[\"iron\", \"wood\", \"wood\"])"
   ]
  },
  {
   "cell_type": "markdown",
   "id": "0e1cee86",
   "metadata": {},
   "source": [
    "## Performant solution"
   ]
  },
  {
   "cell_type": "code",
   "execution_count": 7,
   "id": "ad993d02",
   "metadata": {},
   "outputs": [],
   "source": [
    "def add_items2(inventory, items):\n",
    "    \"\"\"Add or increment items in inventory using elements from the items `list`.\n",
    "\n",
    "    :param inventory: dict - dictionary of existing inventory.\n",
    "    :param items: list - list of items to update the inventory with.\n",
    "    :return: dict - the inventory updated with the new items.\n",
    "    \"\"\"\n",
    "    inventory = {k: inventory.get(k, 0) + items.count(k) for k in set(inventory) | set(items)}\n",
    "    return inventory"
   ]
  },
  {
   "cell_type": "code",
   "execution_count": 8,
   "id": "478a8087",
   "metadata": {
    "scrolled": true
   },
   "outputs": [
    {
     "data": {
      "text/plain": [
       "{'diamond': 2, 'wood': 2, 'iron': 2}"
      ]
     },
     "execution_count": 8,
     "metadata": {},
     "output_type": "execute_result"
    }
   ],
   "source": [
    "add_items2({\"iron\": 1, \"diamond\": 2},[\"iron\", \"wood\", \"wood\"])"
   ]
  },
  {
   "cell_type": "code",
   "execution_count": null,
   "id": "2ea4cebf",
   "metadata": {},
   "outputs": [],
   "source": []
  },
  {
   "cell_type": "markdown",
   "id": "05e3fc11",
   "metadata": {},
   "source": [
    "# decrement_items"
   ]
  },
  {
   "cell_type": "code",
   "execution_count": 9,
   "id": "5dbc0160",
   "metadata": {},
   "outputs": [],
   "source": [
    "def decrement_items(inventory, items):\n",
    "    \"\"\"Decrement items in inventory using elements from the `items` list.\n",
    "\n",
    "    :param inventory: dict - inventory dictionary.\n",
    "    :param items: list - list of items to decrement from the inventory.\n",
    "    :return: dict - updated inventory with items decremented.\n",
    "    \"\"\"\n",
    "\n",
    "    for i in items:\n",
    "        if i in inventory and inventory[i] != 0:\n",
    "            inventory[i] -=1\n",
    "    return inventory"
   ]
  },
  {
   "cell_type": "code",
   "execution_count": 10,
   "id": "fde8464b",
   "metadata": {},
   "outputs": [
    {
     "data": {
      "text/plain": [
       "{'iron': 1, 'diamond': 3, 'gold': 0}"
      ]
     },
     "execution_count": 10,
     "metadata": {},
     "output_type": "execute_result"
    }
   ],
   "source": [
    "decrement_items({\"iron\": 3, \"diamond\": 4, \"gold\": 2},[\"iron\", \"iron\", \"diamond\", \"gold\", \"gold\"])"
   ]
  },
  {
   "cell_type": "markdown",
   "id": "0f45d418",
   "metadata": {},
   "source": [
    "## Performant solution"
   ]
  },
  {
   "cell_type": "code",
   "execution_count": 11,
   "id": "ddb34956",
   "metadata": {},
   "outputs": [],
   "source": [
    "def decrement_items2(inventory, items):\n",
    "    \"\"\"Decrement items in inventory using elements from the `items` list.\n",
    "\n",
    "    :param inventory: dict - inventory dictionary.\n",
    "    :param items: list - list of items to decrement from the inventory.\n",
    "    :return: dict - updated inventory with items decremented.\n",
    "    \"\"\"\n",
    "    inventory = {k: max(0, v - items.count(k)) for k, v in inventory.items()}\n",
    "    return inventory"
   ]
  },
  {
   "cell_type": "code",
   "execution_count": 12,
   "id": "5f3ece00",
   "metadata": {},
   "outputs": [
    {
     "data": {
      "text/plain": [
       "{'iron': 1, 'diamond': 3, 'gold': 0}"
      ]
     },
     "execution_count": 12,
     "metadata": {},
     "output_type": "execute_result"
    }
   ],
   "source": [
    "decrement_items2({\"iron\": 3, \"diamond\": 4, \"gold\": 2},[\"iron\", \"iron\", \"diamond\", \"gold\", \"gold\"])"
   ]
  },
  {
   "cell_type": "code",
   "execution_count": null,
   "id": "d8b86cca",
   "metadata": {},
   "outputs": [],
   "source": []
  },
  {
   "cell_type": "markdown",
   "id": "fe7141dc",
   "metadata": {},
   "source": [
    "# remove_item"
   ]
  },
  {
   "cell_type": "code",
   "execution_count": 13,
   "id": "345035ab",
   "metadata": {},
   "outputs": [],
   "source": [
    "def remove_item(inventory, item):\n",
    "    \"\"\"Remove item from inventory if it matches `item` string.\n",
    "\n",
    "    :param inventory: dict - inventory dictionary.\n",
    "    :param item: str - item to remove from the inventory.\n",
    "    :return: dict - updated inventory with item removed. Current inventory if item does not match.\n",
    "    \"\"\"\n",
    "    if item in inventory:\n",
    "        inventory.pop(item)\n",
    "    return inventory"
   ]
  },
  {
   "cell_type": "code",
   "execution_count": 14,
   "id": "df15b816",
   "metadata": {},
   "outputs": [
    {
     "data": {
      "text/plain": [
       "{'iron': 1, 'gold': 1}"
      ]
     },
     "execution_count": 14,
     "metadata": {},
     "output_type": "execute_result"
    }
   ],
   "source": [
    "remove_item({\"iron\": 1, \"diamond\": 2, \"gold\": 1}, \"diamond\")"
   ]
  },
  {
   "cell_type": "markdown",
   "id": "6be90e91",
   "metadata": {},
   "source": [
    "### Performant solution"
   ]
  },
  {
   "cell_type": "code",
   "execution_count": 15,
   "id": "2ee60bb7",
   "metadata": {},
   "outputs": [],
   "source": [
    "def remove_item2(inventory, item):\n",
    "    \"\"\"Remove item from inventory if it matches `item` string.\n",
    "\n",
    "    :param inventory: dict - inventory dictionary.\n",
    "    :param item: str - item to remove from the inventory.\n",
    "    :return: dict - updated inventory with item removed. Current inventory if item does not match.\n",
    "    \"\"\"\n",
    "    if item in inventory:\n",
    "        del inventory[item]\n",
    "    return inventory"
   ]
  },
  {
   "cell_type": "code",
   "execution_count": 16,
   "id": "b12b40c0",
   "metadata": {},
   "outputs": [
    {
     "data": {
      "text/plain": [
       "{'iron': 1, 'gold': 1}"
      ]
     },
     "execution_count": 16,
     "metadata": {},
     "output_type": "execute_result"
    }
   ],
   "source": [
    "remove_item2({\"iron\": 1, \"diamond\": 2, \"gold\": 1}, \"diamond\")"
   ]
  },
  {
   "cell_type": "code",
   "execution_count": null,
   "id": "357cb2ec",
   "metadata": {},
   "outputs": [],
   "source": []
  },
  {
   "cell_type": "markdown",
   "id": "69d742c9",
   "metadata": {},
   "source": [
    "# list_inventory"
   ]
  },
  {
   "cell_type": "code",
   "execution_count": 17,
   "id": "507df7c3",
   "metadata": {},
   "outputs": [],
   "source": [
    "def list_inventory(inventory):\n",
    "    \"\"\"Create a list containing all (item_name, item_count) pairs in inventory.\n",
    "\n",
    "    :param inventory: dict - an inventory dictionary.\n",
    "    :return: list of tuples - list of key, value pairs from the inventory dictionary.\n",
    "    \"\"\"\n",
    "    list_inventory = []\n",
    "    for i in inventory.items():\n",
    "        if i[1] != 0:\n",
    "            list_inventory.append(i)\n",
    "    return list_inventory"
   ]
  },
  {
   "cell_type": "code",
   "execution_count": 18,
   "id": "3e92ca54",
   "metadata": {},
   "outputs": [
    {
     "data": {
      "text/plain": [
       "[('coal', 7), ('wood', 11), ('diamond', 2), ('iron', 7)]"
      ]
     },
     "execution_count": 18,
     "metadata": {},
     "output_type": "execute_result"
    }
   ],
   "source": [
    "list_inventory({\"coal\":7, \"wood\":11, \"diamond\":2, \"iron\":7, \"silver\":0})"
   ]
  },
  {
   "cell_type": "markdown",
   "id": "1f568560",
   "metadata": {},
   "source": [
    "## Performant solution"
   ]
  },
  {
   "cell_type": "code",
   "execution_count": 19,
   "id": "0258f6a3",
   "metadata": {},
   "outputs": [],
   "source": [
    "def list_inventory2(inventory):\n",
    "    \"\"\"Create a list containing all (item_name, item_count) pairs in inventory.\n",
    "\n",
    "    :param inventory: dict - an inventory dictionary.\n",
    "    :return: list of tuples - list of key, value pairs from the inventory dictionary.\n",
    "    \"\"\"\n",
    "    return [(k, v) for k, v in inventory.items() if v != 0]"
   ]
  },
  {
   "cell_type": "code",
   "execution_count": 20,
   "id": "a30c2bb9",
   "metadata": {},
   "outputs": [
    {
     "data": {
      "text/plain": [
       "[('coal', 7), ('wood', 11), ('diamond', 2), ('iron', 7)]"
      ]
     },
     "execution_count": 20,
     "metadata": {},
     "output_type": "execute_result"
    }
   ],
   "source": [
    "list_inventory2({\"coal\":7, \"wood\":11, \"diamond\":2, \"iron\":7, \"silver\":0})"
   ]
  },
  {
   "cell_type": "code",
   "execution_count": null,
   "id": "07c1c94d",
   "metadata": {},
   "outputs": [],
   "source": []
  }
 ],
 "metadata": {
  "kernelspec": {
   "display_name": "Python 3 (ipykernel)",
   "language": "python",
   "name": "python3"
  },
  "language_info": {
   "codemirror_mode": {
    "name": "ipython",
    "version": 3
   },
   "file_extension": ".py",
   "mimetype": "text/x-python",
   "name": "python",
   "nbconvert_exporter": "python",
   "pygments_lexer": "ipython3",
   "version": "3.9.13"
  }
 },
 "nbformat": 4,
 "nbformat_minor": 5
}
