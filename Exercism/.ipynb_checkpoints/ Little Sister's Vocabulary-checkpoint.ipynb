{
 "cells": [
  {
   "cell_type": "code",
   "execution_count": 19,
   "id": "53ca5b09",
   "metadata": {},
   "outputs": [],
   "source": [
    "def add_prefix_un(word):\n",
    "    \"\"\"Take the given word and add the 'un' prefix.\n",
    "\n",
    "    :param word: str - containing the root word.\n",
    "    :return: str - of root word prepended with 'un'.\n",
    "    \"\"\"\n",
    "\n",
    "    return f\"un{word}\""
   ]
  },
  {
   "cell_type": "code",
   "execution_count": 20,
   "id": "5d7f8e57",
   "metadata": {},
   "outputs": [
    {
     "data": {
      "text/plain": [
       "'unhappy'"
      ]
     },
     "execution_count": 20,
     "metadata": {},
     "output_type": "execute_result"
    }
   ],
   "source": [
    "add_prefix_un(\"happy\")"
   ]
  },
  {
   "cell_type": "code",
   "execution_count": 21,
   "id": "13601e0f",
   "metadata": {},
   "outputs": [
    {
     "data": {
      "text/plain": [
       "'unmanageable'"
      ]
     },
     "execution_count": 21,
     "metadata": {},
     "output_type": "execute_result"
    }
   ],
   "source": [
    "add_prefix_un(\"manageable\")"
   ]
  },
  {
   "cell_type": "code",
   "execution_count": 232,
   "id": "23dcba49",
   "metadata": {},
   "outputs": [],
   "source": [
    "def make_word_groups(vocab_words):\n",
    "    \"\"\"Transform a list containing a prefix and words into a string with \n",
    "    the prefix followed by the words with prefix prepended.\n",
    "\n",
    "    :param vocab_words: list - of vocabulary words with prefix in first index.\n",
    "    :return: str - of prefix followed by vocabulary words with\n",
    "            prefix applied.\n",
    "\n",
    "    This function takes a `vocab_words` list and returns a string\n",
    "    with the prefix and the words with prefix applied, separated\n",
    "     by ' :: '.\n",
    "\n",
    "    For example: list('en', 'close', 'joy', 'lighten'),\n",
    "    produces the following string: 'en :: enclose :: enjoy :: enlighten'.\n",
    "    \"\"\"\n",
    "\n",
    "    prefix = vocab_words[0]\n",
    "    words = vocab_words[1:]\n",
    "    prefixed_words = [prefix + word for word in words]\n",
    "    return prefix + ' :: ' + ' :: '.join(prefixed_words)\n",
    "\n"
   ]
  },
  {
   "cell_type": "code",
   "execution_count": 233,
   "id": "acdd19e9",
   "metadata": {},
   "outputs": [
    {
     "data": {
      "text/plain": [
       "'auto :: autodidactic :: autograph :: automate'"
      ]
     },
     "execution_count": 233,
     "metadata": {},
     "output_type": "execute_result"
    }
   ],
   "source": [
    "make_word_groups(['auto', 'didactic', 'graph', 'mate'])"
   ]
  },
  {
   "cell_type": "code",
   "execution_count": 23,
   "id": "1922da1d",
   "metadata": {},
   "outputs": [],
   "source": [
    "def remove_suffix_ness(word):\n",
    "    \"\"\"Remove the suffix from the word while keeping spelling in mind.\n",
    "\n",
    "    :param word: str - of word to remove suffix from.\n",
    "    :return: str - of word with suffix removed & spelling adjusted.\n",
    "\n",
    "    For example: \"heaviness\" becomes \"heavy\", but \"sadness\" becomes \"sad\".\n",
    "    \"\"\"\n",
    "    sliced = list(word[:-4])\n",
    "    \n",
    "    if sliced[-1] == 'i':\n",
    "        sliced[-1] = 'y'\n",
    "        \n",
    "    return ''.join(sliced)"
   ]
  },
  {
   "cell_type": "code",
   "execution_count": 24,
   "id": "4b98d07e",
   "metadata": {},
   "outputs": [
    {
     "data": {
      "text/plain": [
       "'edgy'"
      ]
     },
     "execution_count": 24,
     "metadata": {},
     "output_type": "execute_result"
    }
   ],
   "source": [
    "remove_suffix_ness('edginess')"
   ]
  },
  {
   "cell_type": "code",
   "execution_count": 25,
   "id": "9972138c",
   "metadata": {},
   "outputs": [
    {
     "data": {
      "text/plain": [
       "'alert'"
      ]
     },
     "execution_count": 25,
     "metadata": {},
     "output_type": "execute_result"
    }
   ],
   "source": [
    "remove_suffix_ness('alertness')"
   ]
  },
  {
   "cell_type": "code",
   "execution_count": 155,
   "id": "ca87cff8",
   "metadata": {},
   "outputs": [],
   "source": [
    "def adjective_to_verb(sentence, index):\n",
    "    \"\"\"Change the adjective within the sentence to a verb.\n",
    "\n",
    "    :param sentence: str - that uses the word in sentence.\n",
    "    :param index: int - index of the word to remove and transform.\n",
    "    :return: str - word that changes the extracted adjective to a verb.\n",
    "\n",
    "    For example, (\"It got dark as the sun set\", 2) becomes \"darken\".\n",
    "    \"\"\"\n",
    "    \n",
    "    verbing = list(sentence.split()[index])\n",
    "    \n",
    "    if '.' in verbing:\n",
    "        verbing = verbing[:-1]\n",
    "        \n",
    "    verbing[-1] == verbing.append('en')\n",
    "    \n",
    "    return ''.join(verbing)"
   ]
  },
  {
   "cell_type": "code",
   "execution_count": 156,
   "id": "9d054d1b",
   "metadata": {},
   "outputs": [
    {
     "data": {
      "text/plain": [
       "'brighten'"
      ]
     },
     "execution_count": 156,
     "metadata": {},
     "output_type": "execute_result"
    }
   ],
   "source": [
    "adjective_to_verb('I need to make that bright.', -1 )"
   ]
  },
  {
   "cell_type": "code",
   "execution_count": 157,
   "id": "8e7b59ff",
   "metadata": {},
   "outputs": [
    {
     "data": {
      "text/plain": [
       "'darken'"
      ]
     },
     "execution_count": 157,
     "metadata": {},
     "output_type": "execute_result"
    }
   ],
   "source": [
    "adjective_to_verb('It got dark as the sun set.', 2)"
   ]
  },
  {
   "cell_type": "code",
   "execution_count": null,
   "id": "c9badbc9",
   "metadata": {},
   "outputs": [],
   "source": []
  }
 ],
 "metadata": {
  "kernelspec": {
   "display_name": "Python 3 (ipykernel)",
   "language": "python",
   "name": "python3"
  },
  "language_info": {
   "codemirror_mode": {
    "name": "ipython",
    "version": 3
   },
   "file_extension": ".py",
   "mimetype": "text/x-python",
   "name": "python",
   "nbconvert_exporter": "python",
   "pygments_lexer": "ipython3",
   "version": "3.9.7"
  }
 },
 "nbformat": 4,
 "nbformat_minor": 5
}
