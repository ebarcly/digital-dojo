{
 "cells": [
  {
   "cell_type": "markdown",
   "id": "439c5bdf",
   "metadata": {},
   "source": [
    "# round_score\n",
    "\n",
    "Create the function round_scores() that takes a list of student_scores. This function should consume the input list and return a new list with all the scores converted to ints. The order of the scores in the resulting list is not important."
   ]
  },
  {
   "cell_type": "markdown",
   "id": "c5b677f6",
   "metadata": {},
   "source": [
    "### 1 While Loop"
   ]
  },
  {
   "cell_type": "code",
   "execution_count": null,
   "id": "855bf393",
   "metadata": {},
   "outputs": [],
   "source": [
    "def round_scores(student_scores):\n",
    "    \"\"\"Round all provided student scores.\n",
    "\n",
    "    :param student_scores: list - float or int of student exam scores.\n",
    "    :return: list - student scores *rounded* to nearest integer value.\n",
    "    \"\"\"\n",
    "    rounded_scores = []\n",
    "    \n",
    "    while student_scores:\n",
    "        last = student_scores.pop()\n",
    "        rounded_scores.append(round(last))\n",
    "        \n",
    "    return rounded_scores\n",
    "\n",
    "        "
   ]
  },
  {
   "cell_type": "code",
   "execution_count": null,
   "id": "74e24f42",
   "metadata": {},
   "outputs": [],
   "source": [
    "student_scores = [90.33, 40.5, 55.44, 70.05, 30.55, 25.45, 80.45, 95.3, 38.7, 40.3]"
   ]
  },
  {
   "cell_type": "code",
   "execution_count": null,
   "id": "d7781ac2",
   "metadata": {},
   "outputs": [],
   "source": [
    "round_scores(student_scores)"
   ]
  },
  {
   "cell_type": "markdown",
   "id": "74b20733",
   "metadata": {},
   "source": [
    "### 2 For Loop"
   ]
  },
  {
   "cell_type": "code",
   "execution_count": null,
   "id": "55335146",
   "metadata": {},
   "outputs": [],
   "source": [
    "def round_scores(student_scores):\n",
    "    \"\"\"Round all provided student scores.\n",
    "\n",
    "    :param student_scores: list - float or int of student exam scores.\n",
    "    :return: list - student scores *rounded* to nearest integer value.\n",
    "    \"\"\"\n",
    "    rounded_scores = []\n",
    "    \n",
    "    for score in student_scores:\n",
    "        rounded_scores.append(round(score))\n",
    "    return rounded_scores"
   ]
  },
  {
   "cell_type": "code",
   "execution_count": null,
   "id": "3b071e3a",
   "metadata": {},
   "outputs": [],
   "source": [
    "student_scores = [90.33, 40.5, 55.44, 70.05, 30.55, 25.45, 80.45, 95.3, 38.7, 40.3]"
   ]
  },
  {
   "cell_type": "code",
   "execution_count": null,
   "id": "4566aafc",
   "metadata": {},
   "outputs": [],
   "source": [
    "round_scores(student_scores)"
   ]
  },
  {
   "cell_type": "markdown",
   "id": "0a48960b",
   "metadata": {},
   "source": [
    "### 3 List Comprehension"
   ]
  },
  {
   "cell_type": "code",
   "execution_count": null,
   "id": "9a3170d0",
   "metadata": {},
   "outputs": [],
   "source": [
    "def round_scores(student_scores):\n",
    "    \"\"\"Round all provided student scores.\n",
    "\n",
    "    :param student_scores: list - float or int of student exam scores.\n",
    "    :return: list - student scores *rounded* to nearest integer value.\n",
    "    \"\"\"\n",
    "    return[round(score) for score in student_scores]"
   ]
  },
  {
   "cell_type": "code",
   "execution_count": null,
   "id": "d0d6dc31",
   "metadata": {},
   "outputs": [],
   "source": [
    "student_scores = [90.33, 40.5, 55.44, 70.05, 30.55, 25.45, 80.45, 95.3, 38.7, 40.3]"
   ]
  },
  {
   "cell_type": "code",
   "execution_count": null,
   "id": "1ba9db6b",
   "metadata": {},
   "outputs": [],
   "source": [
    "round_scores(student_scores)"
   ]
  },
  {
   "cell_type": "markdown",
   "id": "60ead079",
   "metadata": {},
   "source": [
    "# count_failed_students \n",
    "\n",
    "Create the function count_failed_students() that takes a list of student_scores. This function should count up the number of students who don't have passing scores and return that count as an integer. A student needs a score greater than 40 to achieve a passing grade on the exam."
   ]
  },
  {
   "cell_type": "markdown",
   "id": "9a054e59",
   "metadata": {},
   "source": [
    "### 1 - Using \"sum\" and a generator expression:"
   ]
  },
  {
   "cell_type": "code",
   "execution_count": null,
   "id": "19ae86cf",
   "metadata": {},
   "outputs": [],
   "source": [
    "def count_failed_students(student_scores):\n",
    "    return sum(1 for student in student_scores if student <= 40)"
   ]
  },
  {
   "cell_type": "code",
   "execution_count": null,
   "id": "fff3c471",
   "metadata": {},
   "outputs": [],
   "source": [
    "count_failed_students(student_scores=[90,40,55,70,30,25,80,95,38,40])"
   ]
  },
  {
   "cell_type": "markdown",
   "id": "fa8e0e45",
   "metadata": {},
   "source": [
    "### 2 - Using a list to store the students then counting length:"
   ]
  },
  {
   "cell_type": "code",
   "execution_count": null,
   "id": "eb162475",
   "metadata": {},
   "outputs": [],
   "source": [
    "def count_failed_students(student_scores):\n",
    "    \"\"\"Count the number of failing students out of the group provided.\n",
    "\n",
    "    :param student_scores: list - containing int student scores.\n",
    "    :return: int - count of student scores at or below 40.\n",
    "    \"\"\"\n",
    "    \n",
    "    failed_students = []\n",
    "    \n",
    "    for student in student_scores:\n",
    "        if student <= 40:\n",
    "            failed_students.append(student)\n",
    "        \n",
    "    return len(failed_students)"
   ]
  },
  {
   "cell_type": "code",
   "execution_count": null,
   "id": "380638e5",
   "metadata": {},
   "outputs": [],
   "source": [
    "count_failed_students(student_scores=[90,40,55,70,30,25,80,95,38,40])"
   ]
  },
  {
   "cell_type": "markdown",
   "id": "233422ec",
   "metadata": {},
   "source": [
    "### 3 - Using a counter the returning the count:"
   ]
  },
  {
   "cell_type": "code",
   "execution_count": null,
   "id": "c43c8d11",
   "metadata": {},
   "outputs": [],
   "source": [
    "def count_failed_students(student_scores):\n",
    "    \"\"\"Count the number of failing students out of the group provided.\n",
    "\n",
    "    :param student_scores: list - containing int student scores.\n",
    "    :return: int - count of student scores at or below 40.\n",
    "    \"\"\"\n",
    "    count = 0\n",
    "    for student in student_scores:\n",
    "        if student <= 40:\n",
    "            count +=1\n",
    "    return count"
   ]
  },
  {
   "cell_type": "code",
   "execution_count": null,
   "id": "30582019",
   "metadata": {},
   "outputs": [],
   "source": [
    "count_failed_students(student_scores=[90,40,55,70,30,25,80,95,38,40])"
   ]
  },
  {
   "cell_type": "markdown",
   "id": "4e05ae1c",
   "metadata": {},
   "source": [
    "## above_threshold"
   ]
  },
  {
   "cell_type": "markdown",
   "id": "90430e62",
   "metadata": {},
   "source": [
    "### 1- Using list comprehension "
   ]
  },
  {
   "cell_type": "code",
   "execution_count": null,
   "id": "e8ad6ef4",
   "metadata": {},
   "outputs": [],
   "source": [
    "def above_threshold1(student_scores, threshold):\n",
    "    \"\"\"Determine how many of the provided student scores were 'the best' based on the provided threshold.\n",
    "\n",
    "    :param student_scores: list - of integer scores.\n",
    "    :param threshold: int - threshold to cross to be the \"best\" score.\n",
    "    :return: list - of integer scores that are at or above the \"best\" threshold.\n",
    "    \"\"\"\n",
    "    \n",
    "    return [best for best in student_scores if best >= threshold]"
   ]
  },
  {
   "cell_type": "code",
   "execution_count": null,
   "id": "600060c7",
   "metadata": {},
   "outputs": [],
   "source": [
    "above_threshold(student_scores=[90,40,55,70,30,68,70,75,83,96], threshold=75)"
   ]
  },
  {
   "cell_type": "markdown",
   "id": "3d6eac69",
   "metadata": {},
   "source": [
    "### 2 - Using For Loop"
   ]
  },
  {
   "cell_type": "code",
   "execution_count": null,
   "id": "c9e64ca0",
   "metadata": {},
   "outputs": [],
   "source": [
    "def above_threshold2(student_scores, threshold):\n",
    "    \"\"\"Determine how many of the provided student scores were 'the best' based on the provided threshold.\n",
    "\n",
    "    :param student_scores: list - of integer scores.\n",
    "    :param threshold: int - threshold to cross to be the \"best\" score.\n",
    "    :return: list - of integer scores that are at or above the \"best\" threshold.\n",
    "    \"\"\"\n",
    "    bests = []\n",
    "    for best in student_scores:\n",
    "        if best >= threshold:\n",
    "            bests.append(best)\n",
    "    return bests"
   ]
  },
  {
   "cell_type": "code",
   "execution_count": null,
   "id": "0ae3ee0a",
   "metadata": {},
   "outputs": [],
   "source": [
    "above_threshold(student_scores=[90,40,55,70,30,68,70,75,83,96], threshold=75)"
   ]
  },
  {
   "cell_type": "markdown",
   "id": "49a74e00",
   "metadata": {},
   "source": [
    "## letter_grades()"
   ]
  },
  {
   "cell_type": "markdown",
   "id": "793d9378",
   "metadata": {},
   "source": [
    "To determine the letter grade lower thresholds for a given exam, you can use the following steps:\n",
    "\n",
    "Determine the highest score achieved on the exam. Let's call this score \"H\".\n",
    "\n",
    "Determine the failing threshold. This is usually a fixed value, such as 40 or 50, depending on the grading policy of the institution. Let's call this value \"F\".\n",
    "\n",
    "Calculate the score range for each letter grade. To do this, subtract the failing threshold from the highest score and divide the result by the number of letter grades, minus one. For example, if there are five letter grades (A, B, C, D, and F), the score range for each grade would be (H-F)/4.\n",
    "\n",
    "Calculate the lower threshold for each letter grade. To do this, start with the highest score (H) and subtract the score range calculated in step 3. Continue this process for each letter grade, until you reach the failing threshold (F). For example, if the score range for each grade is 10, and the highest score is 90, the lower thresholds for each grade would be: \n",
    "\n",
    "<br>\n",
    "<li>A: 90 - 0 x 10 = 90</li>\n",
    "<li>B: 90 - 1 x 10 = 80</li>\n",
    "<li>C: 90 - 2 x 10 = 70</li>\n",
    "<li>D: 90 - 3 x 10 = 60</li>\n",
    "<li>F: 40</li>\n",
    "\n",
    "Note that this method assumes that the score distribution is evenly distributed between the failing threshold and the highest score. If the distribution is skewed or has a different shape, this method may not be appropriate. Additionally, this method does not take into account any other factors that may be considered in grading, such as participation, effort, or attendance."
   ]
  },
  {
   "cell_type": "code",
   "execution_count": null,
   "id": "1233cd09",
   "metadata": {},
   "outputs": [],
   "source": [
    "def letter_grades1(highest):\n",
    "    \n",
    "    interval_size = (highest - 40) / 4\n",
    "    thresholds = [41 + i * round(interval_size) for i in range(4)]\n",
    "    return thresholds\n"
   ]
  },
  {
   "cell_type": "code",
   "execution_count": null,
   "id": "2226ebfc",
   "metadata": {},
   "outputs": [],
   "source": [
    "letter_grades1(97)"
   ]
  },
  {
   "cell_type": "code",
   "execution_count": null,
   "id": "01c627c8",
   "metadata": {},
   "outputs": [],
   "source": [
    "def letter_grades2(highest):\n",
    "\n",
    "    interval_size = (highest - 40)/4\n",
    "    tresholds = []\n",
    "    \n",
    "    for i in range(4):\n",
    "        treshold = 41 + i * round(interval_size)\n",
    "        tresholds.append(treshold)\n",
    "    return tresholds\n",
    "    "
   ]
  },
  {
   "cell_type": "code",
   "execution_count": null,
   "id": "15af8140",
   "metadata": {},
   "outputs": [],
   "source": [
    "letter_grades2(97)"
   ]
  },
  {
   "cell_type": "code",
   "execution_count": null,
   "id": "831ed752",
   "metadata": {},
   "outputs": [],
   "source": [
    "%timeit letter_grades1(97)\n",
    "%timeit letter_grades2(97)"
   ]
  },
  {
   "cell_type": "markdown",
   "id": "505efa13",
   "metadata": {},
   "source": [
    "### student_ranking"
   ]
  },
  {
   "cell_type": "code",
   "execution_count": null,
   "id": "34f8ad85",
   "metadata": {},
   "outputs": [],
   "source": [
    "def student_ranking(student_scores, student_names):\n",
    "    \"\"\"Organize the student's rank, name, and grade information in ascending order.\n",
    "\n",
    "    :param student_scores: list - of scores in descending order.\n",
    "    :param student_names: list - of string names by exam score in descending order.\n",
    "    :return: list - of strings in format [\"<rank>. <student name>: <score>\"].\n",
    "    \"\"\"\n",
    "    \n",
    "    ranking = []\n",
    "    \n",
    "    for i in range(len(student_scores)):\n",
    "        ranking.append(f\"{i+1}. {student_names[i]}: {student_scores[i]}\")\n",
    "    return ranking\n",
    "            "
   ]
  },
  {
   "cell_type": "code",
   "execution_count": null,
   "id": "d051d335",
   "metadata": {},
   "outputs": [],
   "source": [
    "student_scores = [100, 99, 90, 84, 66, 53, 47]\n",
    "student_names =  ['Joci', 'Sara','Kora','Jan','John','Bern', 'Fred']"
   ]
  },
  {
   "cell_type": "code",
   "execution_count": null,
   "id": "ed4a04da",
   "metadata": {},
   "outputs": [],
   "source": [
    "student_ranking(student_scores, student_names)"
   ]
  },
  {
   "cell_type": "markdown",
   "id": "329bb297",
   "metadata": {},
   "source": [
    "### perfect_score"
   ]
  },
  {
   "cell_type": "code",
   "execution_count": 50,
   "id": "9a947ca2",
   "metadata": {},
   "outputs": [],
   "source": [
    "def perfect_score(student_info):\n",
    "    \"\"\"Create a list that contains the name and grade of the first student to make a perfect score on the exam.\n",
    "\n",
    "    :param student_info: list - of [<student name>, <score>] lists.\n",
    "    :return: list - first `[<student name>, 100]` or `[]` if no student score of 100 is found.\n",
    "    \"\"\"\n",
    "    counter = []\n",
    "    \n",
    "    for name,score in student_info:\n",
    "        if score == 100:\n",
    "            counter.append(name)\n",
    "            counter.append(score)\n",
    "            if len(counter) == 2:\n",
    "                break\n",
    "    return counter"
   ]
  },
  {
   "cell_type": "code",
   "execution_count": 51,
   "id": "badd422c",
   "metadata": {},
   "outputs": [
    {
     "data": {
      "text/plain": [
       "['Raiana', 100]"
      ]
     },
     "execution_count": 51,
     "metadata": {},
     "output_type": "execute_result"
    }
   ],
   "source": [
    "perfect_score(student_info=[['Yoshi', 52], ['Jan', 86], ['Raiana', 100], ['Betty', 60], ['Joci', 100], ['Kora', 81], ['Bern', 41], ['Rose', 94]])"
   ]
  },
  {
   "cell_type": "code",
   "execution_count": 52,
   "id": "c5c90ebf",
   "metadata": {},
   "outputs": [
    {
     "data": {
      "text/plain": [
       "[]"
      ]
     },
     "execution_count": 52,
     "metadata": {},
     "output_type": "execute_result"
    }
   ],
   "source": [
    "perfect_score(student_info=[[\"Charles\", 90], [\"Tony\", 87]])"
   ]
  },
  {
   "cell_type": "code",
   "execution_count": null,
   "id": "8fb40831",
   "metadata": {},
   "outputs": [],
   "source": []
  },
  {
   "cell_type": "code",
   "execution_count": null,
   "id": "665c8ac6",
   "metadata": {},
   "outputs": [],
   "source": []
  }
 ],
 "metadata": {
  "kernelspec": {
   "display_name": "Python 3 (ipykernel)",
   "language": "python",
   "name": "python3"
  },
  "language_info": {
   "codemirror_mode": {
    "name": "ipython",
    "version": 3
   },
   "file_extension": ".py",
   "mimetype": "text/x-python",
   "name": "python",
   "nbconvert_exporter": "python",
   "pygments_lexer": "ipython3",
   "version": "3.9.13"
  }
 },
 "nbformat": 4,
 "nbformat_minor": 5
}
