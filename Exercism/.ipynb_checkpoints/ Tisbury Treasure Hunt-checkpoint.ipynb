{
 "cells": [
  {
   "cell_type": "markdown",
   "id": "401905bb",
   "metadata": {},
   "source": [
    "### 1"
   ]
  },
  {
   "cell_type": "code",
   "execution_count": 1,
   "id": "2a0b16c5",
   "metadata": {},
   "outputs": [],
   "source": [
    "def get_coordinate(record):\n",
    "    \"\"\"Return coordinate value from a tuple containing the treasure name, and treasure coordinate.\n",
    "\n",
    "    :param record: tuple - with a (treasure, coordinate) pair.\n",
    "    :return: str - the extracted map coordinate.\n",
    "    \"\"\"\n",
    "    coordinate = record[1]\n",
    "    \n",
    "    return coordinate\n",
    "       "
   ]
  },
  {
   "cell_type": "code",
   "execution_count": 2,
   "id": "48458fec",
   "metadata": {},
   "outputs": [
    {
     "data": {
      "text/plain": [
       "'2A'"
      ]
     },
     "execution_count": 2,
     "metadata": {},
     "output_type": "execute_result"
    }
   ],
   "source": [
    "get_coordinate(('Scrimshawed Whale Tooth', '2A'))"
   ]
  },
  {
   "cell_type": "markdown",
   "id": "4c267465",
   "metadata": {},
   "source": [
    "### 2"
   ]
  },
  {
   "cell_type": "code",
   "execution_count": 3,
   "id": "4ef80577",
   "metadata": {},
   "outputs": [],
   "source": [
    "def convert_coordinate(coordinate):\n",
    "    \"\"\"Split the given coordinate into tuple containing its individual components.\n",
    "\n",
    "    :param coordinate: str - a string map coordinate\n",
    "    :return: tuple - the string coordinate split into its individual components.\n",
    "    \"\"\"\n",
    "\n",
    "    return tuple(coordinate)"
   ]
  },
  {
   "cell_type": "code",
   "execution_count": 4,
   "id": "cc88ca71",
   "metadata": {},
   "outputs": [
    {
     "data": {
      "text/plain": [
       "('2', 'A')"
      ]
     },
     "execution_count": 4,
     "metadata": {},
     "output_type": "execute_result"
    }
   ],
   "source": [
    "convert_coordinate(\"2A\")"
   ]
  },
  {
   "cell_type": "markdown",
   "id": "3f3aa13b",
   "metadata": {},
   "source": [
    "### 3"
   ]
  },
  {
   "cell_type": "code",
   "execution_count": 5,
   "id": "7ed78121",
   "metadata": {},
   "outputs": [],
   "source": [
    "def compare_records(azara_record, rui_record):\n",
    "    \"\"\"Compare two record types and determine if their coordinates match.\n",
    "\n",
    "    :param azara_record: tuple - a (treasure, coordinate) pair.\n",
    "    :param rui_record: tuple - a (location, tuple(coordinate_1, coordinate_2), quadrant) trio.\n",
    "    :return: bool - do the coordinates match?\n",
    "    \"\"\"\n",
    "\n",
    "    record_1 = convert_coordinate(azara_record[1])\n",
    "    record_2 = rui_record[1]\n",
    "    return record_1 == record_2"
   ]
  },
  {
   "cell_type": "code",
   "execution_count": 6,
   "id": "ed0c07d3",
   "metadata": {},
   "outputs": [
    {
     "data": {
      "text/plain": [
       "False"
      ]
     },
     "execution_count": 6,
     "metadata": {},
     "output_type": "execute_result"
    }
   ],
   "source": [
    "compare_records(('Brass Spyglass', '4B'), ('Seaside Cottages', ('1', 'C'), 'blue'))"
   ]
  },
  {
   "cell_type": "code",
   "execution_count": 7,
   "id": "b702c291",
   "metadata": {},
   "outputs": [
    {
     "data": {
      "text/plain": [
       "True"
      ]
     },
     "execution_count": 7,
     "metadata": {},
     "output_type": "execute_result"
    }
   ],
   "source": [
    "compare_records(('Model Ship in Large Bottle', '8A'), ('Harbor Managers Office', ('8', 'A'), 'purple'))"
   ]
  },
  {
   "cell_type": "markdown",
   "id": "0489d80c",
   "metadata": {},
   "source": [
    "### 4"
   ]
  },
  {
   "cell_type": "code",
   "execution_count": 8,
   "id": "0ef8ad8b",
   "metadata": {},
   "outputs": [],
   "source": [
    "def create_record(azara_record, rui_record):\n",
    "    \"\"\"Combine the two record types (if possible) and create a combined record group.\n",
    "\n",
    "    :param azara_record: tuple - a (treasure, coordinate) pair.\n",
    "    :param rui_record: tuple - a (location, coordinate, quadrant) trio.\n",
    "    :return: tuple or str - the combined record (if compatible), or the string \"not a match\" (if incompatible).\n",
    "    \"\"\"\n",
    "    \n",
    "\n",
    "    if compare_records(azara_record, rui_record) == True:\n",
    "        return azara_record + rui_record\n",
    "    else: \n",
    "        return \"not a match\""
   ]
  },
  {
   "cell_type": "code",
   "execution_count": 9,
   "id": "42d54d53",
   "metadata": {},
   "outputs": [
    {
     "data": {
      "text/plain": [
       "('Brass Spyglass', '4B', 'Abandoned Lighthouse', ('4', 'B'), 'Blue')"
      ]
     },
     "execution_count": 9,
     "metadata": {},
     "output_type": "execute_result"
    }
   ],
   "source": [
    "create_record(('Brass Spyglass', '4B'), ('Abandoned Lighthouse', ('4', 'B'), 'Blue'))"
   ]
  },
  {
   "cell_type": "code",
   "execution_count": 10,
   "id": "a73acd1a",
   "metadata": {},
   "outputs": [
    {
     "data": {
      "text/plain": [
       "'not a match'"
      ]
     },
     "execution_count": 10,
     "metadata": {},
     "output_type": "execute_result"
    }
   ],
   "source": [
    "create_record(('Brass Spyglass', '4B'), ('Seaside Cottages', ('1', 'C'), 'blue'))"
   ]
  },
  {
   "cell_type": "markdown",
   "id": "7f9d0d52",
   "metadata": {},
   "source": [
    "### 5"
   ]
  },
  {
   "cell_type": "code",
   "execution_count": 11,
   "id": "26c0df86",
   "metadata": {},
   "outputs": [],
   "source": [
    "def clean_up(combined_record_group):\n",
    "    \"\"\"Clean up a combined record group into a multi-line string of single records.\n",
    "\n",
    "    :param combined_record_group: tuple - everything from both participants.\n",
    "    :return: str - everything \"cleaned\", excess coordinates and information are removed.\n",
    "\n",
    "    The return statement should be a multi-lined string with items separated by newlines.\n",
    "\n",
    "    (see HINTS.md for an example).\n",
    "    \"\"\"\n",
    "    report = \"\"\n",
    "    for t in combined_record_group:\n",
    "        report += f\"{t[0],t[2],t[3],t[4]}\" + '\\n'\n",
    "    return report\n",
    "        "
   ]
  },
  {
   "cell_type": "code",
   "execution_count": 12,
   "id": "0e63fced",
   "metadata": {},
   "outputs": [
    {
     "data": {
      "text/plain": [
       "\"('Brass Spyglass', 'Abandoned Lighthouse', ('4', 'B'), 'Blue')\\n('Vintage Pirate Hat', 'Quiet Inlet (Island of Mystery)', ('7', 'E'), 'Orange')\\n('Crystal Crab', 'Old Schooner', ('6', 'A'), 'Purple')\\n\""
      ]
     },
     "execution_count": 12,
     "metadata": {},
     "output_type": "execute_result"
    }
   ],
   "source": [
    "clean_up((('Brass Spyglass', '4B', 'Abandoned Lighthouse', ('4', 'B'), 'Blue'), ('Vintage Pirate Hat', '7E', 'Quiet Inlet (Island of Mystery)', ('7', 'E'), 'Orange'), ('Crystal Crab', '6A', 'Old Schooner', ('6', 'A'), 'Purple')))"
   ]
  },
  {
   "cell_type": "code",
   "execution_count": null,
   "id": "e19c5616",
   "metadata": {},
   "outputs": [],
   "source": []
  }
 ],
 "metadata": {
  "kernelspec": {
   "display_name": "Python 3 (ipykernel)",
   "language": "python",
   "name": "python3"
  },
  "language_info": {
   "codemirror_mode": {
    "name": "ipython",
    "version": 3
   },
   "file_extension": ".py",
   "mimetype": "text/x-python",
   "name": "python",
   "nbconvert_exporter": "python",
   "pygments_lexer": "ipython3",
   "version": "3.9.13"
  }
 },
 "nbformat": 4,
 "nbformat_minor": 5
}
