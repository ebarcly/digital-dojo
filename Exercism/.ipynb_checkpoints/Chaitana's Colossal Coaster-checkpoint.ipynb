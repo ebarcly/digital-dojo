{
 "cells": [
  {
   "cell_type": "code",
   "execution_count": 6,
   "id": "a62938f5",
   "metadata": {},
   "outputs": [],
   "source": [
    "def add_me_to_the_queue(express_queue, normal_queue, ticket_type, person_name):\n",
    "    \"\"\"Add a person to the 'express' or 'normal' queue depending on the ticket number.\n",
    "\n",
    "    :param express_queue: list - names in the Fast-track queue.\n",
    "    :param normal_queue: list - names in the normal queue.\n",
    "    :param ticket_type: int - type of ticket. 1 = express, 0 = normal.\n",
    "    :param person_name: str - name of person to add to a queue.\n",
    "    :return: list - the (updated) queue the name was added to.\n",
    "    \"\"\"\n",
    "\n",
    "    if ticket_type == 0:\n",
    "        normal_queue.append(person_name)\n",
    "        return normal_queue\n",
    "    else:\n",
    "        express_queue.append(person_name)\n",
    "        return express_queue"
   ]
  },
  {
   "cell_type": "code",
   "execution_count": 7,
   "id": "57ff0134",
   "metadata": {},
   "outputs": [
    {
     "data": {
      "text/plain": [
       "['Tony', 'Bruce', 'RichieRich']"
      ]
     },
     "execution_count": 7,
     "metadata": {},
     "output_type": "execute_result"
    }
   ],
   "source": [
    "add_me_to_the_queue(express_queue=[\"Tony\", \"Bruce\"], normal_queue=[\"RobotGuy\", \"WW\"], ticket_type=1, person_name=\"RichieRich\")"
   ]
  },
  {
   "cell_type": "code",
   "execution_count": 8,
   "id": "9a4e09df",
   "metadata": {},
   "outputs": [
    {
     "data": {
      "text/plain": [
       "['RobotGuy', 'WW', 'HawkEye']"
      ]
     },
     "execution_count": 8,
     "metadata": {},
     "output_type": "execute_result"
    }
   ],
   "source": [
    "add_me_to_the_queue(express_queue=[\"Tony\", \"Bruce\"], normal_queue=[\"RobotGuy\", \"WW\"], ticket_type=0, person_name=\"HawkEye\")"
   ]
  },
  {
   "cell_type": "code",
   "execution_count": 9,
   "id": "fe247fd6",
   "metadata": {},
   "outputs": [],
   "source": [
    "def find_my_friend(queue, friend_name):\n",
    "    \"\"\"Search the queue for a name and return their queue position (index).\n",
    "\n",
    "    :param queue: list - names in the queue.\n",
    "    :param friend_name: str - name of friend to find.\n",
    "    :return: int - index at which the friends name was found.\n",
    "    \"\"\"\n",
    "\n",
    "    return queue.index(friend_name)"
   ]
  },
  {
   "cell_type": "code",
   "execution_count": 10,
   "id": "3bcc4730",
   "metadata": {},
   "outputs": [
    {
     "data": {
      "text/plain": [
       "1"
      ]
     },
     "execution_count": 10,
     "metadata": {},
     "output_type": "execute_result"
    }
   ],
   "source": [
    "find_my_friend(queue=[\"Natasha\", \"Steve\", \"T'challa\", \"Wanda\", \"Rocket\"], friend_name=\"Steve\")"
   ]
  },
  {
   "cell_type": "code",
   "execution_count": 15,
   "id": "2f704d82",
   "metadata": {},
   "outputs": [],
   "source": [
    "def add_me_with_my_friends(queue, index, person_name):\n",
    "    \"\"\"Insert the late arrival's name at a specific index of the queue.\n",
    "\n",
    "    :param queue: list - names in the queue.\n",
    "    :param index: int - the index at which to add the new name.\n",
    "    :param person_name: str - the name to add.\n",
    "    :return: list - queue updated with new name.\n",
    "    \"\"\"\n",
    "    queue.insert(index,person_name)\n",
    "    return queue"
   ]
  },
  {
   "cell_type": "code",
   "execution_count": 16,
   "id": "f33fabe1",
   "metadata": {},
   "outputs": [
    {
     "data": {
      "text/plain": [
       "['Natasha', 'Bucky', 'Steve', \"T'challa\", 'Wanda', 'Rocket']"
      ]
     },
     "execution_count": 16,
     "metadata": {},
     "output_type": "execute_result"
    }
   ],
   "source": [
    "add_me_with_my_friends(queue=[\"Natasha\", \"Steve\", \"T'challa\", \"Wanda\", \"Rocket\"], index=1, person_name=\"Bucky\")"
   ]
  },
  {
   "cell_type": "code",
   "execution_count": 19,
   "id": "64e3b762",
   "metadata": {},
   "outputs": [],
   "source": [
    "def remove_the_mean_person(queue, person_name):\n",
    "    \"\"\"Remove the mean person from the queue by the provided name.\n",
    "\n",
    "    :param queue: list - names in the queue.\n",
    "    :param person_name: str - name of mean person.\n",
    "    :return: list - queue update with the mean persons name removed.\n",
    "    \"\"\"\n",
    "\n",
    "    queue.remove(person_name)\n",
    "    return queue"
   ]
  },
  {
   "cell_type": "code",
   "execution_count": 20,
   "id": "689771b1",
   "metadata": {},
   "outputs": [
    {
     "data": {
      "text/plain": [
       "['Natasha', 'Steve', 'Wanda', 'Rocket']"
      ]
     },
     "execution_count": 20,
     "metadata": {},
     "output_type": "execute_result"
    }
   ],
   "source": [
    "remove_the_mean_person(queue=[\"Natasha\", \"Steve\", \"Eltran\", \"Wanda\", \"Rocket\"], person_name=\"Eltran\")"
   ]
  },
  {
   "cell_type": "code",
   "execution_count": 21,
   "id": "75fad53d",
   "metadata": {},
   "outputs": [],
   "source": [
    "def how_many_namefellows(queue, person_name):\n",
    "    \"\"\"Count how many times the provided name appears in the queue.\n",
    "\n",
    "    :param queue: list - names in the queue.\n",
    "    :param person_name: str - name you wish to count or track.\n",
    "    :return: int - the number of times the name appears in the queue.\n",
    "    \"\"\"\n",
    "\n",
    "    return queue.count(person_name)"
   ]
  },
  {
   "cell_type": "code",
   "execution_count": 22,
   "id": "9270eefd",
   "metadata": {},
   "outputs": [
    {
     "data": {
      "text/plain": [
       "2"
      ]
     },
     "execution_count": 22,
     "metadata": {},
     "output_type": "execute_result"
    }
   ],
   "source": [
    "how_many_namefellows(queue=[\"Natasha\", \"Steve\", \"Eltran\", \"Natasha\", \"Rocket\"], person_name=\"Natasha\")"
   ]
  },
  {
   "cell_type": "code",
   "execution_count": 23,
   "id": "7ed075f4",
   "metadata": {},
   "outputs": [],
   "source": [
    "def remove_the_last_person(queue):\n",
    "    \"\"\"Remove the person in the last index from the queue and return their name.\n",
    "\n",
    "    :param queue: list - names in the queue.\n",
    "    :return: str - name that has been removed from the end of the queue.\n",
    "    \"\"\"\n",
    "\n",
    "    name = queue.pop()\n",
    "    return name"
   ]
  },
  {
   "cell_type": "code",
   "execution_count": 26,
   "id": "8250d2d1",
   "metadata": {},
   "outputs": [
    {
     "data": {
      "text/plain": [
       "'camilo'"
      ]
     },
     "execution_count": 26,
     "metadata": {},
     "output_type": "execute_result"
    }
   ],
   "source": [
    "remove_the_last_person(queue = [\"kat\", \"james\", \"nico\", \"paolo\", \"camilo\"])"
   ]
  },
  {
   "cell_type": "code",
   "execution_count": 32,
   "id": "cc0bf114",
   "metadata": {},
   "outputs": [],
   "source": [
    "def sorted_names(queue):\n",
    "    \"\"\"Sort the names in the queue in alphabetical order and return the result.\n",
    "\n",
    "    :param queue: list - names in the queue.\n",
    "    :return: list - copy of the queue in alphabetical order.\n",
    "    \"\"\"\n",
    "\n",
    "    return sorted(queue, reverse=False)\n"
   ]
  },
  {
   "cell_type": "code",
   "execution_count": 33,
   "id": "65d87b97",
   "metadata": {},
   "outputs": [
    {
     "data": {
      "text/plain": [
       "['camilo', 'james', 'kat', 'nico', 'paolo']"
      ]
     },
     "execution_count": 33,
     "metadata": {},
     "output_type": "execute_result"
    }
   ],
   "source": [
    "sorted_names(queue = [\"kat\", \"james\", \"nico\", \"paolo\", \"camilo\"])"
   ]
  },
  {
   "cell_type": "code",
   "execution_count": null,
   "id": "280fb353",
   "metadata": {},
   "outputs": [],
   "source": []
  }
 ],
 "metadata": {
  "kernelspec": {
   "display_name": "Python 3 (ipykernel)",
   "language": "python",
   "name": "python3"
  },
  "language_info": {
   "codemirror_mode": {
    "name": "ipython",
    "version": 3
   },
   "file_extension": ".py",
   "mimetype": "text/x-python",
   "name": "python",
   "nbconvert_exporter": "python",
   "pygments_lexer": "ipython3",
   "version": "3.9.7"
  }
 },
 "nbformat": 4,
 "nbformat_minor": 5
}
