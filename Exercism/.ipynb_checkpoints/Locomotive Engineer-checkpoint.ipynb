{
 "cells": [
  {
   "cell_type": "code",
   "execution_count": 58,
   "id": "f8a392cb",
   "metadata": {},
   "outputs": [],
   "source": [
    "def get_list_of_wagons(*args):\n",
    "    \"\"\"Return a list of wagons.\n",
    "\n",
    "    :param: arbitrary number of wagons.\n",
    "    :return: list - list of wagons.\n",
    "    \"\"\"\n",
    "    return [*args]"
   ]
  },
  {
   "cell_type": "code",
   "execution_count": 59,
   "id": "dc927d57",
   "metadata": {},
   "outputs": [
    {
     "data": {
      "text/plain": [
       "[(1, 7, 12), (3, 14, 8, 5)]"
      ]
     },
     "execution_count": 59,
     "metadata": {},
     "output_type": "execute_result"
    }
   ],
   "source": [
    "get_list_of_wagons((1, 7, 12), (3, 14, 8, 5))"
   ]
  },
  {
   "cell_type": "code",
   "execution_count": null,
   "id": "793f92d2",
   "metadata": {},
   "outputs": [],
   "source": []
  },
  {
   "cell_type": "code",
   "execution_count": 82,
   "id": "fd7496dd",
   "metadata": {},
   "outputs": [],
   "source": [
    "def fix_list_of_wagons(each_wagons_id, missing_wagons):\n",
    "    \"\"\"Fix the list of wagons.\n",
    "\n",
    "    :parm each_wagons_id: list - the list of wagons.\n",
    "    :parm missing_wagons: list - the list of missing wagons.\n",
    "    :return: list - list of wagons.\n",
    "    \"\"\"\n",
    "    y, z, *rest = each_wagons_id\n",
    "    a, *rest = rest\n",
    "    all_wagons = [a, *missing_wagons, *rest, y, z]\n",
    "    return all_wagons"
   ]
  },
  {
   "cell_type": "code",
   "execution_count": 83,
   "id": "4574483d",
   "metadata": {},
   "outputs": [
    {
     "data": {
      "text/plain": [
       "[1, 3, 17, 6, 15, 7, 4, 12, 6, 3, 13, 2, 5]"
      ]
     },
     "execution_count": 83,
     "metadata": {},
     "output_type": "execute_result"
    }
   ],
   "source": [
    "fix_list_of_wagons([2, 5, 1, 7, 4, 12, 6, 3, 13], [3, 17, 6, 15])"
   ]
  },
  {
   "cell_type": "code",
   "execution_count": null,
   "id": "445f1f9d",
   "metadata": {},
   "outputs": [],
   "source": []
  },
  {
   "cell_type": "code",
   "execution_count": 229,
   "id": "a95ec85a",
   "metadata": {},
   "outputs": [],
   "source": [
    "def add_missing_stops(route, **stops):\n",
    "    \"\"\"Add missing stops to route dict.\n",
    "\n",
    "    :param route: dict - the dict of routing information.\n",
    "    :param: arbitrary number of stops, dictionary or key=value pairs.\n",
    "    :return: dict - updated route dictionary.\n",
    "    \"\"\"\n",
    "    return {**route, \"stops\": list(stops.values())}"
   ]
  },
  {
   "cell_type": "code",
   "execution_count": 230,
   "id": "0c3b3124",
   "metadata": {},
   "outputs": [
    {
     "data": {
      "text/plain": [
       "{'from': 'New York',\n",
       " 'to': 'Miami',\n",
       " 'stops': ['Washington, DC',\n",
       "  'Charlotte',\n",
       "  'Atlanta',\n",
       "  'Jacksonville',\n",
       "  'Orlando']}"
      ]
     },
     "execution_count": 230,
     "metadata": {},
     "output_type": "execute_result"
    }
   ],
   "source": [
    "add_missing_stops({\"from\": \"New York\", \"to\": \"Miami\"},\n",
    "                      stop_1=\"Washington, DC\", stop_2=\"Charlotte\", stop_3=\"Atlanta\",\n",
    "                      stop_4=\"Jacksonville\", stop_5=\"Orlando\")"
   ]
  },
  {
   "cell_type": "code",
   "execution_count": 231,
   "id": "f8d130ec",
   "metadata": {},
   "outputs": [],
   "source": [
    "def extend_route_information(route, more_route_information):\n",
    "    \"\"\"Extend route information with more_route_information.\n",
    "\n",
    "    :param route: dict - the route information.\n",
    "    :param more_route_information: dict -  extra route information.\n",
    "    :return: dict - extended route information.\n",
    "    \"\"\"\n",
    "    pass"
   ]
  },
  {
   "cell_type": "code",
   "execution_count": null,
   "id": "632a492f",
   "metadata": {},
   "outputs": [],
   "source": []
  },
  {
   "cell_type": "code",
   "execution_count": 91,
   "id": "83077fd7",
   "metadata": {},
   "outputs": [],
   "source": [
    "def extend_route_information(route, more_route_information):\n",
    "    \"\"\"Extend route information with more_route_information.\n",
    "\n",
    "    :param route: dict - the route information.\n",
    "    :param more_route_information: dict -  extra route information.\n",
    "    :return: dict - extended route information.\n",
    "    \"\"\"\n",
    "    extended_route = {**route, **more_route_information}\n",
    "    return extended_route"
   ]
  },
  {
   "cell_type": "code",
   "execution_count": 92,
   "id": "d1a4969f",
   "metadata": {},
   "outputs": [
    {
     "data": {
      "text/plain": [
       "{'from': 'Berlin',\n",
       " 'to': 'Hamburg',\n",
       " 'timeOfArrival': '12:00',\n",
       " 'precipitation': '10',\n",
       " 'temperature': '5',\n",
       " 'caboose': 'yes'}"
      ]
     },
     "execution_count": 92,
     "metadata": {},
     "output_type": "execute_result"
    }
   ],
   "source": [
    "extend_route_information({\"from\": \"Berlin\", \"to\": \"Hamburg\"}, {'timeOfArrival': '12:00', 'precipitation': '10', 'temperature': '5', 'caboose': 'yes'})"
   ]
  },
  {
   "cell_type": "code",
   "execution_count": null,
   "id": "a737ecb0",
   "metadata": {},
   "outputs": [],
   "source": []
  },
  {
   "cell_type": "code",
   "execution_count": 204,
   "id": "6f011bce",
   "metadata": {},
   "outputs": [],
   "source": [
    "def fix_wagon_depot(wagons_rows):\n",
    "    \"\"\"Fix the list of rows of wagons.\n",
    "\n",
    "    :param wagons_rows: list[list[tuple]] - the list of rows of wagons.\n",
    "    :return: list[list[tuple]] - list of rows of wagons.\n",
    "    \"\"\"\n",
    "    return [list(wagons) for wagons in zip(*wagons_rows)]"
   ]
  },
  {
   "cell_type": "code",
   "execution_count": 205,
   "id": "d9d7b89b",
   "metadata": {},
   "outputs": [
    {
     "data": {
      "text/plain": [
       "[[(2, 'red'), (5, 'blue'), (3, 'orange')],\n",
       " [(4, 'red'), (9, 'blue'), (7, 'orange')],\n",
       " [(8, 'red'), (13, 'blue'), (11, 'orange')]]"
      ]
     },
     "execution_count": 205,
     "metadata": {},
     "output_type": "execute_result"
    }
   ],
   "source": [
    "fix_wagon_depot([\n",
    "                    [(2, \"red\"), (4, \"red\"), (8, \"red\")],\n",
    "                    [(5, \"blue\"), (9, \"blue\"), (13,\"blue\")],\n",
    "                    [(3, \"orange\"), (7, \"orange\"), (11, \"orange\")],\n",
    "                    ])"
   ]
  },
  {
   "cell_type": "code",
   "execution_count": null,
   "id": "d72a449f",
   "metadata": {},
   "outputs": [],
   "source": [
    "[\n",
    "[(2, \"red\"), (5, \"blue\"), (3, \"orange\")],\n",
    "[(4, \"red\"), (9, \"blue\"), (7, \"orange\")],\n",
    "[(8, \"red\"), (13,\"blue\"), (11, \"orange\")]\n",
    "]"
   ]
  },
  {
   "cell_type": "code",
   "execution_count": null,
   "id": "8c3671d2",
   "metadata": {},
   "outputs": [],
   "source": []
  },
  {
   "cell_type": "code",
   "execution_count": null,
   "id": "336099ee",
   "metadata": {},
   "outputs": [],
   "source": []
  },
  {
   "cell_type": "markdown",
   "id": "a1be857d",
   "metadata": {},
   "source": []
  },
  {
   "cell_type": "code",
   "execution_count": 30,
   "id": "d23aada0",
   "metadata": {},
   "outputs": [],
   "source": [
    "def multiple_arr(nums):\n",
    "    added = []\n",
    "    for i in range(len(nums) - 1):\n",
    "        a = nums[i] * nums[i + 1]\n",
    "        added.append(a)\n",
    "    return added"
   ]
  },
  {
   "cell_type": "code",
   "execution_count": 31,
   "id": "f947624e",
   "metadata": {},
   "outputs": [
    {
     "data": {
      "text/plain": [
       "[8, 24, 48, 80]"
      ]
     },
     "execution_count": 31,
     "metadata": {},
     "output_type": "execute_result"
    }
   ],
   "source": [
    "multiple_arr([2,4,6,8,10])"
   ]
  },
  {
   "cell_type": "code",
   "execution_count": null,
   "id": "0041d7eb",
   "metadata": {},
   "outputs": [],
   "source": []
  },
  {
   "cell_type": "code",
   "execution_count": 223,
   "id": "6a543175",
   "metadata": {},
   "outputs": [
    {
     "name": "stdout",
     "output_type": "stream",
     "text": [
      "[('John', 85), ('Mary', 90), ('Peter', 78), ('Susan', 92)]\n"
     ]
    }
   ],
   "source": [
    "students = ['John', 'Mary', 'Peter', 'Susan']\n",
    "grades = [85, 90, 78, 92]\n",
    "\n",
    "pairs = zip(students, grades)\n",
    "print(list((pairs)))"
   ]
  },
  {
   "cell_type": "code",
   "execution_count": null,
   "id": "c380fb8b",
   "metadata": {},
   "outputs": [],
   "source": []
  },
  {
   "cell_type": "code",
   "execution_count": 226,
   "id": "8e208bc2",
   "metadata": {},
   "outputs": [
    {
     "name": "stdout",
     "output_type": "stream",
     "text": [
      "[('To Kill a Mockingbird', 'Harper Lee', 1960), ('1984', 'George Orwell', 1949), ('The Great Gatsby', 'F. Scott Fitzgerald', 1925)]\n"
     ]
    }
   ],
   "source": [
    "titles = ['To Kill a Mockingbird', '1984', 'The Great Gatsby']\n",
    "authors = ['Harper Lee', 'George Orwell', 'F. Scott Fitzgerald']\n",
    "years = [1960, 1949, 1925]\n",
    "\n",
    "books = list(zip(titles, authors, years))\n",
    "print(books)"
   ]
  },
  {
   "cell_type": "code",
   "execution_count": null,
   "id": "959bd6a3",
   "metadata": {},
   "outputs": [],
   "source": []
  },
  {
   "cell_type": "code",
   "execution_count": 229,
   "id": "ef59198c",
   "metadata": {},
   "outputs": [
    {
     "name": "stdout",
     "output_type": "stream",
     "text": [
      "[(1, 4, 7), (2, 5, 8), (3, 6, 9)]\n"
     ]
    }
   ],
   "source": [
    "matrix = [[1, 2, 3], [4, 5, 6], [7, 8, 9]]\n",
    "new_matrix = list(zip(matrix[0], matrix[1], matrix[2]))\n",
    "print(new_matrix)"
   ]
  },
  {
   "cell_type": "code",
   "execution_count": null,
   "id": "9a5f9dfe",
   "metadata": {},
   "outputs": [],
   "source": []
  },
  {
   "cell_type": "code",
   "execution_count": null,
   "id": "c08b42dd",
   "metadata": {},
   "outputs": [],
   "source": []
  },
  {
   "cell_type": "code",
   "execution_count": null,
   "id": "fadca82a",
   "metadata": {},
   "outputs": [],
   "source": []
  }
 ],
 "metadata": {
  "kernelspec": {
   "display_name": "Python 3 (ipykernel)",
   "language": "python",
   "name": "python3"
  },
  "language_info": {
   "codemirror_mode": {
    "name": "ipython",
    "version": 3
   },
   "file_extension": ".py",
   "mimetype": "text/x-python",
   "name": "python",
   "nbconvert_exporter": "python",
   "pygments_lexer": "ipython3",
   "version": "3.9.13"
  }
 },
 "nbformat": 4,
 "nbformat_minor": 5
}
