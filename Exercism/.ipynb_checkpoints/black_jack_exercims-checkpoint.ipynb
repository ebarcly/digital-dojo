{
 "cells": [
  {
   "cell_type": "code",
   "execution_count": 1,
   "id": "92e70725",
   "metadata": {},
   "outputs": [],
   "source": [
    "def value_of_card(card):\n",
    "    \"\"\"Determine the scoring value of a card.\n",
    "\n",
    "    :param card: str - given card.\n",
    "    :return: int - value of a given card.  See below for values.\n",
    "\n",
    "    1.  'J', 'Q', or 'K' (otherwise known as \"face cards\") = 10\n",
    "    2.  'A' (ace card) = 1\n",
    "    3.  '2' - '10' = numerical value.\n",
    "    \"\"\"\n",
    "\n",
    "    values = {'2':2, '3':3, '4':4, '5':5, '6':6, '7':7, '8':8, '9':9, '10':10, 'J':10,\n",
    "         'Q':10, 'K':10, 'A':1}\n",
    "    \n",
    "    card = values.get(card)\n",
    "    return card"
   ]
  },
  {
   "cell_type": "code",
   "execution_count": 2,
   "id": "291eee30",
   "metadata": {},
   "outputs": [
    {
     "data": {
      "text/plain": [
       "10"
      ]
     },
     "execution_count": 2,
     "metadata": {},
     "output_type": "execute_result"
    }
   ],
   "source": [
    "value_of_card('K')"
   ]
  },
  {
   "cell_type": "code",
   "execution_count": 3,
   "id": "4a281ebe",
   "metadata": {},
   "outputs": [],
   "source": [
    "def can_double_down(card_one, card_two):\n",
    "    \"\"\"Determine if a blackjack player can place a double down bet.\n",
    "\n",
    "    :param card_one, card_two: str - first and second cards in hand.\n",
    "    :return: bool - can the hand can be doubled down? (i.e. totals 9, 10 or 11 points).\n",
    "    \"\"\"\n",
    "\n",
    "    total = int(card_one) + int(card_two)\n",
    "    return total >= 9 and total <= 11"
   ]
  },
  {
   "cell_type": "code",
   "execution_count": 4,
   "id": "d066aeed",
   "metadata": {},
   "outputs": [
    {
     "data": {
      "text/plain": [
       "True"
      ]
     },
     "execution_count": 4,
     "metadata": {},
     "output_type": "execute_result"
    }
   ],
   "source": [
    "can_double_down('1', '9')"
   ]
  },
  {
   "cell_type": "code",
   "execution_count": 5,
   "id": "809cfe3b",
   "metadata": {},
   "outputs": [],
   "source": [
    "def higher_card(card_one, card_two):\n",
    "    \n",
    "    values = {'2':2, '3':3, '4':4, '5':5, '6':6, '7':7, '8':8, '9':9, '10':10, 'J':10, \n",
    "              'Q':10, 'K':10, 'A':1}\n",
    "    \n",
    "    card_one_value = values.get(card_one)\n",
    "    card_two_value = values.get(card_two)\n",
    "    \n",
    "    if card_one_value > card_two_value:\n",
    "        return card_one\n",
    "    elif card_one_value < card_two_value:\n",
    "        return card_two\n",
    "    else:\n",
    "        return card_one, card_two\n"
   ]
  },
  {
   "cell_type": "code",
   "execution_count": 6,
   "id": "b03e650a",
   "metadata": {},
   "outputs": [
    {
     "data": {
      "text/plain": [
       "('K', 'K')"
      ]
     },
     "execution_count": 6,
     "metadata": {},
     "output_type": "execute_result"
    }
   ],
   "source": [
    "higher_card('K','K')"
   ]
  },
  {
   "cell_type": "code",
   "execution_count": 7,
   "id": "f726fbfd",
   "metadata": {},
   "outputs": [
    {
     "data": {
      "text/plain": [
       "'K'"
      ]
     },
     "execution_count": 7,
     "metadata": {},
     "output_type": "execute_result"
    }
   ],
   "source": [
    "higher_card('2', 'K')"
   ]
  },
  {
   "cell_type": "code",
   "execution_count": null,
   "id": "34c7616b",
   "metadata": {},
   "outputs": [],
   "source": [
    "def value_of_ace(card_one, card_two):\n",
    "    \"\"\"Calculate the most advantageous value for the ace card.\n",
    "\n",
    "    :param card_one, card_two: str - card dealt. See below for values.\n",
    "    :return: int - either 1 or 11 value of the upcoming ace card.\n",
    "\n",
    "    1.  'J', 'Q', or 'K' (otherwise known as \"face cards\") = 10\n",
    "    2.  'A' (ace card) = 11 (if already in hand)\n",
    "    3.  '2' - '10' = numerical value.\n",
    "    \"\"\"\n",
    "\n",
    "    pass"
   ]
  }
 ],
 "metadata": {
  "kernelspec": {
   "display_name": "Python 3 (ipykernel)",
   "language": "python",
   "name": "python3"
  },
  "language_info": {
   "codemirror_mode": {
    "name": "ipython",
    "version": 3
   },
   "file_extension": ".py",
   "mimetype": "text/x-python",
   "name": "python",
   "nbconvert_exporter": "python",
   "pygments_lexer": "ipython3",
   "version": "3.9.7"
  }
 },
 "nbformat": 4,
 "nbformat_minor": 5
}
