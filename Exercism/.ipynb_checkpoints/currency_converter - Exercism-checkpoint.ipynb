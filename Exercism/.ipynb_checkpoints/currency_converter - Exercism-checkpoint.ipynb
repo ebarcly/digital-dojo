{
 "cells": [
  {
   "cell_type": "code",
   "execution_count": null,
   "id": "1999f627",
   "metadata": {},
   "outputs": [],
   "source": [
    "def exchange_money(budget, exchange_rate):\n",
    "    \"\"\"\n",
    "\n",
    "    :param budget: float - amount of money you are planning to exchange.\n",
    "    :param exchange_rate: float - unit value of the foreign currency.\n",
    "    :return: float - exchanged value of the foreign currency you can receive.\n",
    "    \"\"\"\n",
    "\n",
    "    value = budget / exchange_rate\n",
    "    return value\n"
   ]
  },
  {
   "cell_type": "code",
   "execution_count": null,
   "id": "33e42cc8",
   "metadata": {},
   "outputs": [],
   "source": [
    "exchange_money(budget=20,exchange_rate=1.5)"
   ]
  },
  {
   "cell_type": "code",
   "execution_count": null,
   "id": "f54e3543",
   "metadata": {},
   "outputs": [],
   "source": [
    "def get_change(budget, exchanging_value):\n",
    "    \"\"\"\n",
    "\n",
    "    :param budget: float - amount of money you own.\n",
    "    :param exchanging_value: float - amount of your money you want to exchange now.\n",
    "    :return: float - amount left of your starting currency after exchanging.\n",
    "    \"\"\"\n",
    "\n",
    "    amount = budget - exchanging_value\n",
    "    return amount\n"
   ]
  },
  {
   "cell_type": "code",
   "execution_count": null,
   "id": "41d96a04",
   "metadata": {},
   "outputs": [],
   "source": [
    "get_change(20,15)"
   ]
  },
  {
   "cell_type": "code",
   "execution_count": 5,
   "id": "a9481023",
   "metadata": {},
   "outputs": [],
   "source": [
    "def get_value_of_bills(denomination, number_of_bills):\n",
    "    \"\"\"\n",
    "\n",
    "    :param denomination: int - the value of a bill.\n",
    "    :param number_of_bills: int - amount of bills you received.\n",
    "    :return: int - total value of bills you now have.\n",
    "    \"\"\"\n",
    "\n",
    "    total_value = denomination * number_of_bills\n",
    "    \n",
    "    remainder = total_value // denomination\n",
    "    \n",
    "    return int(total_value)\n",
    "    \n"
   ]
  },
  {
   "cell_type": "code",
   "execution_count": 6,
   "id": "9f2a7552",
   "metadata": {},
   "outputs": [
    {
     "data": {
      "text/plain": [
       "640"
      ]
     },
     "execution_count": 6,
     "metadata": {},
     "output_type": "execute_result"
    }
   ],
   "source": [
    "get_value_of_bills(5,128)"
   ]
  },
  {
   "cell_type": "code",
   "execution_count": 11,
   "id": "37e34846",
   "metadata": {},
   "outputs": [],
   "source": [
    "def get_number_of_bills(budget, denomination):\n",
    "    \"\"\"\n",
    "\n",
    "    :param budget: float - the amount of money you are planning to exchange.\n",
    "    :param denomination: int - the value of a single bill.\n",
    "    :return: int - number of bills after exchanging all your money.\n",
    "    \"\"\"\n",
    "\n",
    "    number_of_bills = budget // denomination\n",
    "    \n",
    "    return int(number_of_bills)"
   ]
  },
  {
   "cell_type": "code",
   "execution_count": 12,
   "id": "74c33b8a",
   "metadata": {},
   "outputs": [
    {
     "data": {
      "text/plain": [
       "25"
      ]
     },
     "execution_count": 12,
     "metadata": {},
     "output_type": "execute_result"
    }
   ],
   "source": [
    "get_number_of_bills(127.5, 5)"
   ]
  },
  {
   "cell_type": "code",
   "execution_count": 13,
   "id": "bbc0499d",
   "metadata": {},
   "outputs": [],
   "source": [
    "def get_leftover_of_bills(budget, denomination):\n",
    "    \"\"\"\n",
    "\n",
    "    :param budget: float - the amount of money you are planning to exchange.\n",
    "    :param denomination: int - the value of a single bill.\n",
    "    :return: float - the leftover amount that cannot be exchanged given the current denomination.\n",
    "    \"\"\"\n",
    "\n",
    "    leftover = budget % denomination\n",
    "    \n",
    "    return leftover"
   ]
  },
  {
   "cell_type": "code",
   "execution_count": 14,
   "id": "59c8990a",
   "metadata": {},
   "outputs": [
    {
     "data": {
      "text/plain": [
       "7.5"
      ]
     },
     "execution_count": 14,
     "metadata": {},
     "output_type": "execute_result"
    }
   ],
   "source": [
    "get_leftover_of_bills(127.5, 20)"
   ]
  },
  {
   "cell_type": "code",
   "execution_count": 17,
   "id": "f5ffd12f",
   "metadata": {},
   "outputs": [],
   "source": [
    "def exchangeable_value(budget, exchange_rate, spread, denomination):\n",
    "    \"\"\"\n",
    "\n",
    "    :param budget: float - the amount of your money you are planning to exchange.\n",
    "    :param exchange_rate: float - the unit value of the foreign currency.\n",
    "    :param spread: int - percentage that is taken as an exchange fee.\n",
    "    :param denomination: int - the value of a single bill.\n",
    "    :return: int - maximum value you can get.\n",
    "    \"\"\"\n",
    "\n",
    "    \n",
    "    spread_percentage = spread * exchange_rate\n",
    "    \n",
    "    new_rate = spread_percentage + exchange_rate\n",
    "    \n",
    "    \n",
    "    \n",
    "    "
   ]
  },
  {
   "cell_type": "code",
   "execution_count": null,
   "id": "5136bd6d",
   "metadata": {},
   "outputs": [],
   "source": []
  },
  {
   "cell_type": "code",
   "execution_count": null,
   "id": "22ec5377",
   "metadata": {},
   "outputs": [],
   "source": []
  }
 ],
 "metadata": {
  "kernelspec": {
   "display_name": "Python 3 (ipykernel)",
   "language": "python",
   "name": "python3"
  },
  "language_info": {
   "codemirror_mode": {
    "name": "ipython",
    "version": 3
   },
   "file_extension": ".py",
   "mimetype": "text/x-python",
   "name": "python",
   "nbconvert_exporter": "python",
   "pygments_lexer": "ipython3",
   "version": "3.9.7"
  }
 },
 "nbformat": 4,
 "nbformat_minor": 5
}
