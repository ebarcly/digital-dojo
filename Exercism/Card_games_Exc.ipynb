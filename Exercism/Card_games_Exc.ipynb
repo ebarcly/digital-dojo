{
 "cells": [
  {
   "cell_type": "code",
   "execution_count": 1,
   "id": "1a36b42d",
   "metadata": {},
   "outputs": [],
   "source": [
    "def get_rounds(number):\n",
    "    \"\"\"Create a list containing the current and next two round numbers.\n",
    "\n",
    "    :param number: int - current round number.\n",
    "    :return: list - current round and the two that follow.\n",
    "    \"\"\"\n",
    "\n",
    "    return [number, number+1, number+2]"
   ]
  },
  {
   "cell_type": "code",
   "execution_count": 2,
   "id": "5e7c54a6",
   "metadata": {},
   "outputs": [
    {
     "data": {
      "text/plain": [
       "[27, 28, 29]"
      ]
     },
     "execution_count": 2,
     "metadata": {},
     "output_type": "execute_result"
    }
   ],
   "source": [
    "get_rounds(27)"
   ]
  },
  {
   "cell_type": "code",
   "execution_count": 3,
   "id": "d29a3e12",
   "metadata": {},
   "outputs": [],
   "source": [
    "def concatenate_rounds(rounds_1, rounds_2):\n",
    "    \"\"\"Concatenate two lists of round numbers.\n",
    "\n",
    "    :param rounds_1: list - first rounds played.\n",
    "    :param rounds_2: list - second set of rounds played.\n",
    "    :return: list - all rounds played.\n",
    "    \"\"\"\n",
    "\n",
    "    return rounds_1 + rounds_2"
   ]
  },
  {
   "cell_type": "code",
   "execution_count": 4,
   "id": "cc36b0bf",
   "metadata": {},
   "outputs": [
    {
     "data": {
      "text/plain": [
       "[27, 28, 29, 35, 36]"
      ]
     },
     "execution_count": 4,
     "metadata": {},
     "output_type": "execute_result"
    }
   ],
   "source": [
    "concatenate_rounds([27, 28, 29], [35, 36])"
   ]
  },
  {
   "cell_type": "code",
   "execution_count": 5,
   "id": "a4f74ce8",
   "metadata": {},
   "outputs": [],
   "source": [
    "def list_contains_round(rounds, number):\n",
    "    \"\"\"Check if the list of rounds contains the specified number.\n",
    "\n",
    "    :param rounds: list - rounds played.\n",
    "    :param number: int - round number.\n",
    "    :return: bool - was the round played?\n",
    "    \"\"\"\n",
    "\n",
    "    return number in rounds"
   ]
  },
  {
   "cell_type": "code",
   "execution_count": 6,
   "id": "58090e9f",
   "metadata": {},
   "outputs": [
    {
     "data": {
      "text/plain": [
       "False"
      ]
     },
     "execution_count": 6,
     "metadata": {},
     "output_type": "execute_result"
    }
   ],
   "source": [
    "list_contains_round([27, 28, 29, 35, 36], 30)"
   ]
  },
  {
   "cell_type": "code",
   "execution_count": 7,
   "id": "311ece6c",
   "metadata": {},
   "outputs": [],
   "source": [
    "def card_average(hand):\n",
    "    \"\"\"Calculate and returns the average card value from the list.\n",
    "\n",
    "    :param hand: list - cards in hand.\n",
    "    :return: float - average value of the cards in the hand.\n",
    "    \"\"\"\n",
    "    \n",
    "\n",
    "    return sum(hand) / len(hand)"
   ]
  },
  {
   "cell_type": "code",
   "execution_count": 8,
   "id": "3117f726",
   "metadata": {},
   "outputs": [
    {
     "data": {
      "text/plain": [
       "6.0"
      ]
     },
     "execution_count": 8,
     "metadata": {},
     "output_type": "execute_result"
    }
   ],
   "source": [
    "card_average([5, 6, 7])"
   ]
  },
  {
   "cell_type": "code",
   "execution_count": 9,
   "id": "dd89e7b9",
   "metadata": {},
   "outputs": [],
   "source": [
    "from statistics import median\n",
    "\n",
    "def approx_average_is_average(hand):\n",
    "    \"\"\"Return if an average is using (first + last index values ) OR ('middle' card) == calculated average.\n",
    "\n",
    "    :param hand: list - cards in hand.\n",
    "    :return: bool - does one of the approximate averages equal the `true average`?\n",
    "    \"\"\"\n",
    "    first_and_last = hand[0] + hand[-1]\n",
    "    first_avg = first_and_last / 2\n",
    "    midddle_card = median(hand)\n",
    "    true_average = card_average(hand)\n",
    "    \n",
    "    return first_avg == true_average or midddle_card == true_average\n",
    "    \n",
    "    "
   ]
  },
  {
   "cell_type": "code",
   "execution_count": 10,
   "id": "3ec56f73",
   "metadata": {},
   "outputs": [
    {
     "data": {
      "text/plain": [
       "True"
      ]
     },
     "execution_count": 10,
     "metadata": {},
     "output_type": "execute_result"
    }
   ],
   "source": [
    "approx_average_is_average([1, 2, 4, 5, 8])"
   ]
  },
  {
   "cell_type": "code",
   "execution_count": 27,
   "id": "827012a3",
   "metadata": {},
   "outputs": [],
   "source": [
    "def average_even_is_average_odd(hand):\n",
    "    \"\"\"Return if the (average of even indexed card values) == (average of odd indexed card values).\n",
    "\n",
    "    :param hand: list - cards in hand.\n",
    "    :return: bool - are even and odd averages equal?\n",
    "    \"\"\"\n",
    "\n",
    "    even_avg = card_average(hand[::2])\n",
    "    odd_avg = card_average(hand[::1])\n",
    "    \n",
    "    return even_avg == odd_avg"
   ]
  },
  {
   "cell_type": "code",
   "execution_count": 28,
   "id": "f7e8cab9",
   "metadata": {},
   "outputs": [
    {
     "data": {
      "text/plain": [
       "True"
      ]
     },
     "execution_count": 28,
     "metadata": {},
     "output_type": "execute_result"
    }
   ],
   "source": [
    "average_even_is_average_odd([1, 2, 3])"
   ]
  },
  {
   "cell_type": "code",
   "execution_count": 55,
   "id": "6c6ac447",
   "metadata": {},
   "outputs": [],
   "source": [
    "def maybe_double_last(hand):\n",
    "    \"\"\"Multiply a Jack card value in the last index position by 2.\n",
    "\n",
    "    :param hand: list - cards in hand.\n",
    "    :return: list - hand with Jacks (if present) value doubled.\n",
    "    \"\"\"\n",
    "    \n",
    "    if hand[-1] == 11:\n",
    "        hand[-1] = hand[-1] * 2\n",
    "        return hand\n",
    "        \n",
    "    else:\n",
    "        return hand\n",
    "       "
   ]
  },
  {
   "cell_type": "code",
   "execution_count": 58,
   "id": "933749a8",
   "metadata": {},
   "outputs": [],
   "source": [
    "hand = [5, 9, 10]"
   ]
  },
  {
   "cell_type": "code",
   "execution_count": 59,
   "id": "dfe5ac95",
   "metadata": {},
   "outputs": [
    {
     "data": {
      "text/plain": [
       "[5, 9, 10]"
      ]
     },
     "execution_count": 59,
     "metadata": {},
     "output_type": "execute_result"
    }
   ],
   "source": [
    "maybe_double_last(hand)"
   ]
  },
  {
   "cell_type": "code",
   "execution_count": null,
   "id": "580b7160",
   "metadata": {},
   "outputs": [],
   "source": []
  }
 ],
 "metadata": {
  "kernelspec": {
   "display_name": "Python 3 (ipykernel)",
   "language": "python",
   "name": "python3"
  },
  "language_info": {
   "codemirror_mode": {
    "name": "ipython",
    "version": 3
   },
   "file_extension": ".py",
   "mimetype": "text/x-python",
   "name": "python",
   "nbconvert_exporter": "python",
   "pygments_lexer": "ipython3",
   "version": "3.9.7"
  }
 },
 "nbformat": 4,
 "nbformat_minor": 5
}
