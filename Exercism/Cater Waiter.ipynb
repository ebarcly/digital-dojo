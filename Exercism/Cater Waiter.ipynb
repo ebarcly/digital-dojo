{
 "cells": [
  {
   "cell_type": "code",
   "execution_count": 20,
   "id": "2dec5466",
   "metadata": {},
   "outputs": [],
   "source": [
    "def clean_ingredients(dish_name, dish_ingredients):\n",
    "    \"\"\"Remove duplicates from `dish_ingredients`.\n",
    "\n",
    "    :param dish_name: str - containing the dish name.\n",
    "    :param dish_ingredients: list - dish ingredients.\n",
    "    :return: tuple - containing (dish_name, ingredient set).\n",
    "\n",
    "    This function should return a `tuple` with the name of the dish as the first item,\n",
    "    followed by the de-duped `set` of ingredients as the second item.\n",
    "    \"\"\"\n",
    "    unique_ingredients = set(dish_ingredients)\n",
    "    new_dish = (dish_name, unique_ingredients)\n",
    "    return new_dish"
   ]
  },
  {
   "cell_type": "code",
   "execution_count": 21,
   "id": "95b13ee0",
   "metadata": {},
   "outputs": [
    {
     "data": {
      "text/plain": [
       "('Punjabi-Style Chole',\n",
       " {'bay leaves',\n",
       "  'cardamom',\n",
       "  'chickpeas',\n",
       "  'cilantro',\n",
       "  'cloves',\n",
       "  'coriander powder',\n",
       "  'cumin powder',\n",
       "  'garam masala',\n",
       "  'garlic paste',\n",
       "  'ginger',\n",
       "  'ginger paste',\n",
       "  'ground turmeric',\n",
       "  'onions',\n",
       "  'peppercorns',\n",
       "  'red chili powder',\n",
       "  'tomatoes',\n",
       "  'vegetable oil'})"
      ]
     },
     "execution_count": 21,
     "metadata": {},
     "output_type": "execute_result"
    }
   ],
   "source": [
    "clean_ingredients('Punjabi-Style Chole', ['onions', 'tomatoes', 'ginger paste', 'garlic paste', 'ginger paste', 'vegetable oil', 'bay leaves', 'cloves', 'cardamom', 'cilantro', 'peppercorns', 'cumin powder', 'chickpeas', 'coriander powder', 'red chili powder', 'ground turmeric', 'garam masala', 'chickpeas', 'ginger', 'cilantro'])"
   ]
  },
  {
   "cell_type": "code",
   "execution_count": 5,
   "id": "2169cd59",
   "metadata": {},
   "outputs": [
    {
     "data": {
      "text/plain": [
       "('Punjabi-Style Chole',\n",
       " {'bay leaves',\n",
       "  'cardamom',\n",
       "  'chickpeas',\n",
       "  'cilantro',\n",
       "  'cloves',\n",
       "  'coriander powder',\n",
       "  'cumin powder',\n",
       "  'garam masala',\n",
       "  'garlic paste',\n",
       "  'ginger',\n",
       "  'ginger paste',\n",
       "  'ground turmeric',\n",
       "  'onions',\n",
       "  'peppercorns',\n",
       "  'red chili powder',\n",
       "  'tomatoes',\n",
       "  'vegetable oil'})"
      ]
     },
     "execution_count": 5,
     "metadata": {},
     "output_type": "execute_result"
    }
   ],
   "source": [
    "('Punjabi-Style Chole', {'garam masala', 'bay leaves', 'ground turmeric', 'ginger', 'garlic paste', 'peppercorns', 'ginger paste', 'red chili powder', 'cardamom', 'chickpeas', 'cumin powder', 'vegetable oil', 'tomatoes', 'coriander powder', 'onions', 'cilantro', 'cloves'})"
   ]
  },
  {
   "cell_type": "code",
   "execution_count": 3,
   "id": "6f986b0e",
   "metadata": {},
   "outputs": [],
   "source": [
    "ALCOHOLS = {\"whiskey\", \"whisky\", \"white rum\", \"dark rum\", \"bourbon\", \"rye\", \"scotch\", \"vodka\",\n",
    "            \"tequila\", \"gin\", \"dry vermouth\", \"sweet vermouth\", \"prosecco\",\"aperol\", \"brandy\", \"mezcal\",\n",
    "            \"triple sec\", \"coffee liqueur\", \"almond liqueur\", \"champagne\", \"orange curacao\", \"rum\"\n",
    "            }"
   ]
  },
  {
   "cell_type": "code",
   "execution_count": 15,
   "id": "3a670803",
   "metadata": {},
   "outputs": [],
   "source": [
    "def check_drinks(drink_name, drink_ingredients):\n",
    "    \"\"\"Append \"Cocktail\" (alcohol)  or \"Mocktail\" (no alcohol) to `drink_name`, based on `drink_ingredients`.\n",
    "\n",
    "    :param drink_name: str - name of the drink.\n",
    "    :param drink_ingredients: list - ingredients in the drink.\n",
    "    :return: str - drink_name appended with \"Mocktail\" or \"Cocktail\".\n",
    "\n",
    "    The function should return the name of the drink followed by \"Mocktail\" (non-alcoholic) and drink\n",
    "    name followed by \"Cocktail\" (includes alcohol).\n",
    "\n",
    "    \"\"\"\n",
    "\n",
    "    if ALCOHOLS.isdisjoint(drink_ingredients):\n",
    "        return drink_name + ' Mocktail'\n",
    "    else:\n",
    "        return drink_name + ' Cocktail'"
   ]
  },
  {
   "cell_type": "code",
   "execution_count": 16,
   "id": "f8a86281",
   "metadata": {},
   "outputs": [
    {
     "data": {
      "text/plain": [
       "'Honeydew Cucumber Mocktail'"
      ]
     },
     "execution_count": 16,
     "metadata": {},
     "output_type": "execute_result"
    }
   ],
   "source": [
    "check_drinks('Honeydew Cucumber', ['honeydew', 'coconut water', 'mint leaves', 'lime juice', 'salt', 'english cucumber'])"
   ]
  },
  {
   "cell_type": "code",
   "execution_count": 17,
   "id": "7418a5ee",
   "metadata": {},
   "outputs": [
    {
     "data": {
      "text/plain": [
       "'Shirley Tonic Cocktail'"
      ]
     },
     "execution_count": 17,
     "metadata": {},
     "output_type": "execute_result"
    }
   ],
   "source": [
    "check_drinks('Shirley Tonic', ['cinnamon stick', 'scotch', 'whole cloves', 'ginger', 'pomegranate juice', 'sugar', 'club soda'])"
   ]
  },
  {
   "cell_type": "code",
   "execution_count": null,
   "id": "0cfb3402",
   "metadata": {},
   "outputs": [],
   "source": []
  },
  {
   "cell_type": "code",
   "execution_count": 20,
   "id": "641bbb9d",
   "metadata": {},
   "outputs": [],
   "source": [
    "VEGAN = {\n",
    "         'chives', 'nutritional yeast', 'tomato', 'orange zest', 'pareve puff pastry', 'cashews', 'tofu',\n",
    "         'rice vinegar', 'black pepper', 'cardamom powder', 'mustard seeds', 'parev shortcrust pastry',\n",
    "         'scallions', 'water', 'chinese eggplants', 'lemon juice', 'smoked paprika', 'cloves', 'basmati rice',\n",
    "         'cayenne pepper', 'green onions', 'sunflower oil', 'mixed herbs', 'garlic paste', 'parsley',\n",
    "         'fresh red chili', 'flour', 'garlic', 'oregano', 'green beans', 'harissa', 'brandy', 'fresh basil',\n",
    "         'coriander',  'vinegar', 'thyme', 'coriander seeds', 'clove powder', 'pomegranate seeds',\n",
    "         'sugar', 'yukon gold potato', 'sesame oil', 'cinnamon powder', 'butternut squash', 'allspice powder',\n",
    "         'red pepper flakes', 'soy sauce', 'sesame seeds', 'cornstarch', 'mango powder', 'vegetable stock',\n",
    "         'raisins', 'barley malt', 'olive oil', 'ground almonds', 'white rice', 'garlic powder', 'walnuts',\n",
    "         'saffron powder', 'red chili powder', 'turmeric powder', 'spring onions', 'yeast', 'khmeli suneli',\n",
    "         'peanuts', 'bulgur', 'cilantro', 'onion', 'calabash nutmeg', 'black-eyed peas', 'grains of selim',\n",
    "         'zucchini', 'currants', 'spaghetti', 'figs', 'red bell pepper', 'lemon zest', 'ground turmeric',\n",
    "         'chili flakes', 'chickpea flour', 'hing', 'slivered almonds', 'vegetable oil', 'serrano chili',\n",
    "         'salt', 'yellow onions', 'salt', 'coriander powder', 'orange zest', 'garam masala', 'yellow onion',\n",
    "         'smoked tofu', 'bell pepper', 'apples', 'brown sugar', 'coconut oil', 'orange juice',\n",
    "         'sorghum stems', 'dried blueberries', 'tomato paste', 'curry leaves', 'vegetarian worcestershire sauce',\n",
    "         'hot water', 'fresh ginger', 'firm tofu', 'eggplants', 'bell pepper', 'siracha', 'carrot', 'nigella seeds',\n",
    "         'vegan butter', \"za'atar\", 'baking soda', 'brown sugar', 'dried cranberries', 'kosher salt', 'mangoes',\n",
    "         'vegan unsweetened yoghurt', 'black peppercorn', 'vinegar', 'dill', 'barberries', 'honey', 'tomatoes',\n",
    "         'yellow split peas', 'persian cucumber', 'turmeric', 'lemon', 'cumin', 'oil', 'mushrooms', 'spring onion',\n",
    "         'pomegranate concentrate', 'cumin seeds', 'balsamic vinegar', 'ripe plantains', 'celeriac', 'breadcrumbs',\n",
    "         'ginger', 'dried cherries', 'red onion', 'rosemary', 'chopped parsley', 'corn', 'cumin powder', 'pecans',\n",
    "         'silken tofu', 'pomegranate molasses', 'carrot', 'corn flour', 'mashed potatoes'\n",
    "        }\n",
    "\n",
    "\n",
    "VEGETARIAN = {\n",
    "              'almonds', 'chives', 'limes', 'puff pastry', 'onion', 'cashews', 'red cabbage', 'red wine vinegar',\n",
    "              'brussel sprouts', 'fresh corn', 'black pepper', 'lemon juice', 'roasted corn', 'eggs',\n",
    "              'fresh cilantro leaves', 'shiitake mushrooms', 'sunflower oil', 'sage', 'dijon mustard',\n",
    "              'blanched almonds', 'dates', 'flour', 'fresh pea tendrils', 'garlic', 'egg', 'green beans',\n",
    "              'yukon gold potato', 'vermicelli noodles', 'onions', 'avocado', 'dried lasagna noodles',\n",
    "              'thyme', 'cauliflower', 'basil', 'watercress', 'black beans', 'butternut squash', 'red thai chili',\n",
    "              'masa', 'red chili', 'red onions', 'jalapeño chili', 'grated nutmeg', 'feta cheese', 'hazelnuts',\n",
    "              'soy sauce', 'shallots', 'chipotle chili', 'vegetable bullion', 'fresh cherry tomatoes', 'olive oil',\n",
    "              'milk', 'fresh cherry bocconcini', 'crema', 'marmite', 'walnuts', 'nutmeg', 'ricotta cheese',\n",
    "              'chestnuts', 'mint leaves', 'lime juice', 'white wine', 'apples', 'pearl barley', 'cotija cheese',\n",
    "              'zucchini', 'currants', 'leek', 'pomegranate', 'lemon zest', 'avocados', 'parmesan cheese', 'mint',\n",
    "              'leeks', 'fresh artichoke hearts', 'vegetable oil', 'brazil nuts', 'red chili', 'sharp white cheddar',\n",
    "              'salt', 'pepitas', 'green lentils', 'beets', 'celery', 'smoked tofu', 'fresh tomatoes',\n",
    "              'puff pastry sheets', 'palm sugar', 'vegetarian fish sauce', 'oil marinated artichokes', 'hot water',\n",
    "              'chickpeas', 'firm tofu', 'wombok', 'carrot', 'asparagus', 'bean sprouts', 'kosher salt',\n",
    "              'pasilla chili', 'tomatillos', 'parmesan rind', 'pasta sheets', 'cream', 'butter', 'croutons',\n",
    "              'lacinato kale', 'fresh or frozen fava beans', 'fresh pumpkin', 'honey', 'tomatoes', 'olives',\n",
    "              'capers', 'pine nuts', 'lemon', 'cumin', 'ancho chili', 'fresh peas', 'spring roll wrappers',\n",
    "              'balsamic vinegar', 'portobello mushrooms', 'breadcrumbs', 'blue cheese', 'red onion',\n",
    "              'rosemary', 'pecans', 'carrot', 'corn flour', 'toasted peanuts'\n",
    "              }\n",
    "\n",
    "PALEO = {\n",
    "         'cinnamon', 'chiles de árbol', 'chives', 'limes', 'allspice', 'zucchini', 'seranno chili', 'lemon zest',\n",
    "         'apple cider vinegar', 'avocados', 'cashews', 'mango', 'cilantro leaves', 'pepitas', 'white chicken',\n",
    "         'chipotles', 'black pepper', 'scallions', 'pumpkin puree', 'water', 'serrano chili', 'lemon juice',\n",
    "         'smoked paprika', 'homemade apricot honey preserves', 'eggs', 'salt', 'flank steak', 'fresh cilantro leaves',\n",
    "         'cider vinegar', 'cloves', 'purple sweet potato', 'coconut yogurt', 'green onions', 'tilapia',\n",
    "         'yellow bell pepper', 'coconut oil', 'whole chicken', 'coconut oil', 'safflower oil', 'roma tomatoes',\n",
    "         'fresh red chili', 'fresh thai chili', 'shrimp', 'garlic', 'onions', 'lime', 'avocado', 'fresh parsley',\n",
    "         'cauliflower', 'shredded red cabbage', 'basil', 'baking soda', 'serrano chili',\n",
    "         'cherry tomatoes', 'kale', 'bacon', 'kosher salt', 'mangoes', 'lacinato kale', 'shallots', 'pineapple',\n",
    "         'chipotle chili', 'white vinegar', 'honey', 'tomatoes', 'homemade tamarind concentrate',\n",
    "         'mexican oregano', 'olive oil', 'pine nuts', 'garlic powder', 'coconut flour', 'green bell pepper',\n",
    "         'dried apricots', 'cumin', 'nutmeg', 'kosher salt', 'onions', 'mustard seed', 'lemons', 'lime zest',\n",
    "         'ground cumin', 'almond butter', 'chili powder', 'lime juice', 'paleo mayonnaise', 'pork chops',\n",
    "         'cilantro', 'onion', 'red bell pepper', 'paleo parmesan cheese', 'radishes', 'avocado oil',\n",
    "         'dijon mustard', 'avocado mayonnaise', 'castelfranco radicchio', 'worcestershire sauce', 'treviso'\n",
    "        }\n",
    "\n",
    "KETO = {\n",
    "        'cinnamon', 'avocado oil', 'chives', 'sriacha', 'almond flour', 'crunchy peanut butter',\n",
    "        'cucumbers', 'cream cheese', 'red cabbage', 'red wine vinegar', 'brussel sprouts', 'black pepper',\n",
    "        'cardamom powder', 'mustard seeds', 'scallions', 'kecap manis', 'lemon juice', 'eggs', 'tahini',\n",
    "        'cloves', 'green onions', 'dijon mustard', 'garlic paste', 'watermelon radishes', 'parmesan',\n",
    "        'parsley', 'star anise', 'fresh cucumber', 'fresh red chili', 'shrimp', 'garlic', 'oregano',\n",
    "        'fennel bulb', 'harissa', 'dutch carrot', 'fresh basil', 'avocado', 'clove powder', 'coriander seeds',\n",
    "        'thyme', 'fresh parsley', 'chicken', 'cauliflower', 'basil', 'watercress', 'cinnamon powder',\n",
    "        'cherry tomatoes', 'soy sauce', 'sesame seeds', 'micro cilantro', 'mozzarella cheese', 'shallots',\n",
    "        'mango powder', 'chipotle chili', 'olive oil', 'spinach', 'pink peppercorns', 'coconut flour',\n",
    "        'salmon steaks', 'dark soy sauce', 'red chili powder', 'turmeric powder', 'spring onions',\n",
    "        'lime juice', 'ginger garlic paste', 'pork chops', 'peanuts', 'dried fenugreek leaves', 'cilantro',\n",
    "        'onion', 'salmon fillets', 'toasted buckwheat', 'whole small crimini mushrooms', 'caster sugar',\n",
    "        'granny smith apples', 'green cabbage', 'apple cider vinegar', 'chili flakes', 'parmesan cheese',\n",
    "        'hing', 'castelfranco radicchio', 'cilantro leaves', 'fresh greek yogurt', 'roasted chicken', 'ghee',\n",
    "        'flaxmeal', 'flank steak', 'salt', 'coriander powder', 'boned chicken', 'red chili flakes',\n",
    "        'garam masala', 'almond meal', 'peanut oil', 'tomato paste', 'oyster sauce',\n",
    "        'curry leaves', 'fresh ginger', 'cardamom', 'radishes', 'little gem lettuce heads',\n",
    "        'grilled king fish', 'carrot', 'cinnamon sticks', 'heavy cream', 'asparagus', 'nigella seeds',\n",
    "        'light soy sauce', 'pork belly', 'green chili', 'mangoes', 'red and green thai chili', 'butter',\n",
    "        'vinegar', 'dill', 'fish sauce', 'white vinegar', 'tomatoes', 'mirin',\n",
    "        'avocado mayonnaise', 'turmeric', 'lemon', 'cumin', 'fennel seeds', 'lemon juice',  'salt',\n",
    "        'roasted peanuts', 'ginger', 'red onion', 'rosemary', 'cumin powder', 'cashew nuts', 'pecans',\n",
    "        'green chili','whole small crimini mushrooms', 'monk fruit', 'sour cream'\n",
    "        }\n",
    "\n",
    "OMNIVORE = {\n",
    "            'clams', 'prawns', 'white wine vinegar', 'date syrup', 'limes', 'tomato', 'coriander',\n",
    "            'black chickpeas', 'yellow bell pepper', 'black cardamom', 'baby squid', 'pepitas',\n",
    "            'red cabbage', 'baby scallops', 'green cardamom', 'black pepper', 'chaat masala', 'water',\n",
    "            'lemon juice', 'tahini', 'cloves', 'white pepper', 'fennel bulbs', 'tomato puree',\n",
    "            'maggi cubes', 'couscous', 'yellow mustard', 'parsley', 'sriracha', 'roma tomatoes',\n",
    "            'shrimp', 'garlic', 'oregano', 'chicken wings', 'yukon gold potato', 'harissa', 'onions',\n",
    "            'avocado', 'thyme', 'chicken', 'sugar', 'flat-leaf parsley', 'celery seeds', 'cherry tomatoes',\n",
    "            'mayonnaise', 'scallion chutney', 'red pepper flakes', 'hazelnuts', 'soy sauce', 'sesame seeds',\n",
    "            'red snapper', 'white onion', 'vegetable bullion', 'marjoram', 'pani puri', 'olive oil', 'rice',\n",
    "            'serrano chili', 'tamarind concentrate', 'lime juice', 'white wine', 'beef brisket', 'cilantro',\n",
    "            'onion', 'crushed red pepper flakes', 'chiles de árbol', 'fresh mint', 'zucchini', 'red bell pepper',\n",
    "            'yoghurt', 'apple cider vinegar', 'parmesan cheese', 'slivered almonds', 'whole-milk yogurt',\n",
    "            'anchovy fillets', 'fresh ricotta', 'mint', 'chile manzano', 'roasted chicken', 'sea salt',\n",
    "            'fresh thyme', 'vegetable oil', 'salt', 'mexican crema', 'celery', 'yellow onion',\n",
    "            'worcestershire sauce', 'fresh tortillas', 'tomato paste', 'oranges', 'chickpeas',\n",
    "            'scotch bonnet pepper', 'shelled large shrimp', 'mussels', 'summer squash', 'salsa',\n",
    "            'garlic cloves', 'fish stock', 'bell pepper', 'green bell pepper', 'carrot', 'cinnamon sticks',\n",
    "            'thin sev', 'brown sugar', 'baby carrot', 'bacon', 'kosher salt', 'bay leaves', 'anaheim chili',\n",
    "            'oaxaca cheese', 'butter', 'vinegar', 'crab legs', 'white vinegar', 'honey', 'tomatoes',\n",
    "            'green cabbage', 'toasted bread', 'turmeric', 'lemon', 'cumin', 'black peppercorns', 'poblano chili',\n",
    "            'arborio risotto rice', 'fresh corn tortillas', 'balsamic vinegar', 'rhubarb', 'ginger',\n",
    "            'guajillo chile', 'filo pastry', 'leg of lamb', 'red onion', 'chipotle adobo sauce', 'rosemary',\n",
    "            'chili powder', 'beer', 'carrot'\n",
    "            }"
   ]
  },
  {
   "cell_type": "code",
   "execution_count": 44,
   "id": "a435dee2",
   "metadata": {},
   "outputs": [],
   "source": [
    "def categorize_dish(dish_name, dish_ingredients):\n",
    "    \"\"\"Categorize `dish_name` based on `dish_ingredients`.\n",
    "\n",
    "    :param dish_name: str - dish to be categorized.\n",
    "    :param dish_ingredients: list - ingredients for the dish.\n",
    "    :return: str - the dish name appended with \": <CATEGORY>\".\n",
    "\n",
    "    This function should return a string with the `dish name: <CATEGORY>` (which meal category the dish belongs to).\n",
    "    `<CATEGORY>` can be any one of  (VEGAN, VEGETARIAN, PALEO, KETO, or OMNIVORE).\n",
    "    All dishes will \"fit\" into one of the categories imported from `sets_categories_data.py`\n",
    "\n",
    "    \"\"\"\n",
    "\n",
    "    dish_ingredients_set = set(dish_ingredients)\n",
    "    \n",
    "    if dish_ingredients_set.issubset(VEGAN):\n",
    "        return f'{dish_name}: VEGAN'\n",
    "    elif dish_ingredients_set.issubset(VEGETARIAN):\n",
    "        return f'{dish_name}: VEGETARIAN'\n",
    "    elif dish_ingredients_set.issubset(PALEO):\n",
    "        return f'{dish_name}: PALEO'\n",
    "    elif dish_ingredients_set.issubset(KETO):\n",
    "        return f'{dish_name}: KETO'\n",
    "    elif dish_ingredients_set.issubset(OMNIVORE):\n",
    "        return f'{dish_name}: OMNIVORE'\n",
    "    else:\n",
    "        return f'{dish_name}: CATEGORY NOT FOUND'"
   ]
  },
  {
   "cell_type": "code",
   "execution_count": 45,
   "id": "1d52eae6",
   "metadata": {},
   "outputs": [
    {
     "data": {
      "text/plain": [
       "'Sticky Lemon Tofu: VEGAN'"
      ]
     },
     "execution_count": 45,
     "metadata": {},
     "output_type": "execute_result"
    }
   ],
   "source": [
    "categorize_dish('Sticky Lemon Tofu', {'tofu', 'soy sauce', 'salt', 'black pepper', 'cornstarch', 'vegetable oil', 'garlic', 'ginger', 'water', 'vegetable stock', 'lemon juice', 'lemon zest', 'sugar'})"
   ]
  },
  {
   "cell_type": "code",
   "execution_count": 46,
   "id": "6a28cc89",
   "metadata": {},
   "outputs": [
    {
     "data": {
      "text/plain": [
       "'Shrimp Bacon and Crispy Chickpea Tacos with Salsa de Guacamole: OMNIVORE'"
      ]
     },
     "execution_count": 46,
     "metadata": {},
     "output_type": "execute_result"
    }
   ],
   "source": [
    "categorize_dish('Shrimp Bacon and Crispy Chickpea Tacos with Salsa de Guacamole', {'shrimp', 'bacon', 'avocado', 'chickpeas', 'fresh tortillas', 'sea salt', 'guajillo chile', 'slivered almonds', 'olive oil', 'butter', 'black pepper', 'garlic', 'onion'})"
   ]
  },
  {
   "cell_type": "code",
   "execution_count": 2,
   "id": "3e1251a1",
   "metadata": {},
   "outputs": [],
   "source": [
    "SPECIAL_INGREDIENTS = {'cream','bacon', 'garlic', 'baby scallops', 'mussels', 'baby squid', 'cashews', 'salmon fillets',\n",
    "                       'filo pastry', 'almonds', 'milk', 'blue cheese', 'clams', 'shrimp', 'tomato puree', 'chocolate',\n",
    "                       'honey', 'anchovy fillets', 'bulgur', 'prawns', 'parmesan cheese', 'fish', 'shelled large shrimp',\n",
    "                       'gluten', 'crab legs', 'feta cheese', 'whole-milk yogurt', 'crema', 'firm tofu', 'fish stock',\n",
    "                       'fresh ricotta', 'tomato paste', 'fresh cherry tomatoes', 'pork chops', 'eggs', 'greek yogurt',\n",
    "                       'hazelnuts', 'pecans', 'brie cheese', 'oaxaca cheese', 'yellow onion', 'whey', 'silken tofu',\n",
    "                       'toasted bread', 'parmesan', 'beef', 'tofu', 'flour', 'tomatoes', 'red onion', 'slivered almonds',\n",
    "                       'strawberries', 'onions', 'pine nuts', 'cherry tomatoes', 'soy sauce', 'oyster sauce',\n",
    "                       'mozzarella cheese', 'roma tomatoes', 'heavy cream', 'paneer', 'pork tenderloin', 'garlic cloves',\n",
    "                       'swiss cheese', 'grilled king fish', 'ground almonds', 'tilapia', 'sprint onion', 'couscous',\n",
    "                       'walnuts', 'semolina', 'yogurt', 'cotija cheese', 'oysters', 'spaghetti', 'cheddar cheese',\n",
    "                       'butter', 'lobster', 'smoked tofu', 'peanuts', 'ground pork', 'fresh cherry bocconcini',\n",
    "                       'pork belly', 'toasted peanuts', 'roasted peanuts'\n",
    "                       }"
   ]
  },
  {
   "cell_type": "code",
   "execution_count": 20,
   "id": "28a9f20a",
   "metadata": {},
   "outputs": [],
   "source": [
    "def tag_special_ingredients(dish):\n",
    "    \"\"\"Compare `dish` ingredients to `SPECIAL_INGREDIENTS`.\n",
    "\n",
    "    :param dish: tuple - of (dish name, list of dish ingredients).\n",
    "    :return: tuple - containing (dish name, dish special ingredients).\n",
    "\n",
    "    Return the dish name followed by the `set` of ingredients that require a special note on the dish description.\n",
    "    For the purposes of this exercise, all allergens or special ingredients that need to be tracked are in the\n",
    "    SPECIAL_INGREDIENTS constant imported from `sets_categories_data.py`.\n",
    "    \"\"\"\n",
    "\n",
    "    dish_ingredients = set(dish[1])\n",
    "    return (dish[0], dish_ingredients.intersection(SPECIAL_INGREDIENTS))"
   ]
  },
  {
   "cell_type": "code",
   "execution_count": 21,
   "id": "45c47d28",
   "metadata": {},
   "outputs": [
    {
     "data": {
      "text/plain": [
       "('Ginger Glazed Tofu Cutlets', {'garlic', 'soy sauce', 'tofu'})"
      ]
     },
     "execution_count": 21,
     "metadata": {},
     "output_type": "execute_result"
    }
   ],
   "source": [
    "tag_special_ingredients(('Ginger Glazed Tofu Cutlets', ['tofu', 'soy sauce', 'ginger', 'corn starch', 'garlic', 'brown sugar', 'sesame seeds', 'lemon juice']))"
   ]
  },
  {
   "cell_type": "code",
   "execution_count": 22,
   "id": "01e78889",
   "metadata": {},
   "outputs": [
    {
     "data": {
      "text/plain": [
       "('Arugula and Roasted Pork Salad',\n",
       " {'blue cheese', 'onions', 'pine nuts', 'pork tenderloin'})"
      ]
     },
     "execution_count": 22,
     "metadata": {},
     "output_type": "execute_result"
    }
   ],
   "source": [
    "tag_special_ingredients(('Arugula and Roasted Pork Salad', ['pork tenderloin', 'arugula', 'pears', 'blue cheese', 'pine nuts', 'balsamic vinegar', 'onions', 'black pepper']))"
   ]
  },
  {
   "cell_type": "code",
   "execution_count": null,
   "id": "0aa2bab4",
   "metadata": {},
   "outputs": [],
   "source": []
  },
  {
   "cell_type": "code",
   "execution_count": null,
   "id": "6965300d",
   "metadata": {},
   "outputs": [],
   "source": [
    "def compile_ingredients(dishes):\n",
    "    \"\"\"Create a master list of ingredients.\n",
    "\n",
    "    :param dishes: list - of dish ingredient sets.\n",
    "    :return: set - of ingredients compiled from `dishes`.\n",
    "\n",
    "    This function should return a `set` of all ingredients from all listed dishes.\n",
    "    \"\"\"\n",
    "\n",
    "    pass"
   ]
  }
 ],
 "metadata": {
  "kernelspec": {
   "display_name": "Python 3 (ipykernel)",
   "language": "python",
   "name": "python3"
  },
  "language_info": {
   "codemirror_mode": {
    "name": "ipython",
    "version": 3
   },
   "file_extension": ".py",
   "mimetype": "text/x-python",
   "name": "python",
   "nbconvert_exporter": "python",
   "pygments_lexer": "ipython3",
   "version": "3.9.13"
  }
 },
 "nbformat": 4,
 "nbformat_minor": 5
}
