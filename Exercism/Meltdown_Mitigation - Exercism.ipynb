{
 "cells": [
  {
   "cell_type": "code",
   "execution_count": 1,
   "id": "e6734100",
   "metadata": {},
   "outputs": [],
   "source": [
    "\"\"\"Functions to prevent a nuclear meltdown.\"\"\"\n",
    "\n",
    "\n",
    "def is_criticality_balanced(temperature, neutrons_emitted):\n",
    "    \"\"\"Verify criticality is balanced.\n",
    "\n",
    "    :param temperature: int or float - temperature value in kelvin.\n",
    "    :param neutrons_emitted: int or float - number of neutrons emitted per second.\n",
    "    :return: bool - is criticality balanced?\n",
    "\n",
    "    A reactor is said to be critical if it satisfies the following conditions:\n",
    "    - The temperature is less than 800 K.\n",
    "    - The number of neutrons emitted per second is greater than 500.\n",
    "    - The product of temperature and neutrons emitted per second is less than 500000.\n",
    "    \"\"\"\n",
    "    \n",
    "    if temperature < 800 and neutrons_emitted > 500 and temperature * neutrons_emitted < 500000:\n",
    "        return True\n",
    "    else:\n",
    "        return False\n",
    "        "
   ]
  },
  {
   "cell_type": "code",
   "execution_count": 15,
   "id": "9ed076a8",
   "metadata": {},
   "outputs": [
    {
     "data": {
      "text/plain": [
       "True"
      ]
     },
     "execution_count": 15,
     "metadata": {},
     "output_type": "execute_result"
    }
   ],
   "source": [
    "is_criticality_balanced(799, 501)"
   ]
  },
  {
   "cell_type": "code",
   "execution_count": 39,
   "id": "f1e1d8d5",
   "metadata": {},
   "outputs": [],
   "source": [
    "def reactor_efficiency(voltage, current, theoretical_max_power):\n",
    "    \"\"\"Assess reactor efficiency zone.\n",
    "\n",
    "    :param voltage: int or float - voltage value.\n",
    "    :param current: int or float - current value.\n",
    "    :param theoretical_max_power: int or float - power that corresponds to a 100% efficiency.\n",
    "    :return: str - one of ('green', 'orange', 'red', or 'black').\n",
    "\n",
    "    Efficiency can be grouped into 4 bands:\n",
    "\n",
    "    1. green -> efficiency of 80% or more,\n",
    "    2. orange -> efficiency of less than 80% but at least 60%,\n",
    "    3. red -> efficiency below 60%, but still 30% or more,\n",
    "    4. black ->  less than 30% efficient.\n",
    "\n",
    "    The percentage value is calculated as\n",
    "    (generated power/ theoretical max power)*100\n",
    "    where generated power = voltage * current\n",
    "    \"\"\"\n",
    "\n",
    "    generated_power = voltage * current\n",
    "    percentage = (generated_power / theoretical_max_power)*100\n",
    "    \n",
    "    if percentage >= 80:\n",
    "        return 'green'\n",
    "    elif percentage >= 60:\n",
    "        return 'orange'\n",
    "    elif percentage >= 30:\n",
    "        return 'red'\n",
    "    else:\n",
    "        return 'black'\n",
    "    "
   ]
  },
  {
   "cell_type": "code",
   "execution_count": 45,
   "id": "30151963",
   "metadata": {},
   "outputs": [
    {
     "data": {
      "text/plain": [
       "'green'"
      ]
     },
     "execution_count": 45,
     "metadata": {},
     "output_type": "execute_result"
    }
   ],
   "source": [
    "reactor_efficiency(200,60,15000)"
   ]
  },
  {
   "cell_type": "code",
   "execution_count": 97,
   "id": "674be242",
   "metadata": {},
   "outputs": [],
   "source": [
    "def fail_safe(temperature, neutrons_produced_per_second, threshold):\n",
    "    \"\"\"Assess and return status code for the reactor.\n",
    "\n",
    "    :param temperature: int or float - value of the temperature in kelvin.\n",
    "    :param neutrons_produced_per_second: int or float - neutron flux.\n",
    "    :param threshold: int or float - threshold for category.\n",
    "    :return: str - one of ('LOW', 'NORMAL', 'DANGER').\n",
    "\n",
    "    1. 'LOW' -> `temperature * neutrons per second` < 90% of `threshold`\n",
    "    2. 'NORMAL' -> `temperature * neutrons per second` +/- 10% of `threshold`\n",
    "    3. 'DANGER' -> `temperature * neutrons per second` is not in the above-stated ranges\n",
    "    \"\"\"\n",
    "    \n",
    "    value = temperature * neutrons_produced_per_second\n",
    "    \n",
    "    low_threshold = 0.9 * threshold\n",
    "    high_threshold = 1.1 * threshold\n",
    "    \n",
    "\n",
    "    if value < low_threshold:\n",
    "        return 'LOW'\n",
    "    elif low_threshold <= value <= high_threshold:\n",
    "        return 'NORMAL'\n",
    "    else:\n",
    "        return 'DANGER'\n"
   ]
  },
  {
   "cell_type": "code",
   "execution_count": 98,
   "id": "a9cd1c91",
   "metadata": {},
   "outputs": [
    {
     "data": {
      "text/plain": [
       "'DANGER'"
      ]
     },
     "execution_count": 98,
     "metadata": {},
     "output_type": "execute_result"
    }
   ],
   "source": [
    "fail_safe(1000,30,5000)"
   ]
  },
  {
   "cell_type": "code",
   "execution_count": null,
   "id": "9c16b02a",
   "metadata": {},
   "outputs": [],
   "source": []
  }
 ],
 "metadata": {
  "kernelspec": {
   "display_name": "Python 3 (ipykernel)",
   "language": "python",
   "name": "python3"
  },
  "language_info": {
   "codemirror_mode": {
    "name": "ipython",
    "version": 3
   },
   "file_extension": ".py",
   "mimetype": "text/x-python",
   "name": "python",
   "nbconvert_exporter": "python",
   "pygments_lexer": "ipython3",
   "version": "3.9.7"
  }
 },
 "nbformat": 4,
 "nbformat_minor": 5
}
