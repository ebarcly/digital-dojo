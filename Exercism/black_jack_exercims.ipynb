{
 "cells": [
  {
   "cell_type": "code",
   "execution_count": 1,
   "id": "92e70725",
   "metadata": {},
   "outputs": [],
   "source": [
    "def value_of_card(card):\n",
    "    \"\"\"Determine the scoring value of a card.\n",
    "\n",
    "    :param card: str - given card.\n",
    "    :return: int - value of a given card.  See below for values.\n",
    "\n",
    "    1.  'J', 'Q', or 'K' (otherwise known as \"face cards\") = 10\n",
    "    2.  'A' (ace card) = 1\n",
    "    3.  '2' - '10' = numerical value.\n",
    "    \"\"\"\n",
    "\n",
    "    values = {'2':2, '3':3, '4':4, '5':5, '6':6, '7':7, '8':8, '9':9, '10':10, 'J':10,\n",
    "         'Q':10, 'K':10, 'A':1}\n",
    "    \n",
    "    card = values.get(card)\n",
    "    return card"
   ]
  },
  {
   "cell_type": "code",
   "execution_count": 2,
   "id": "291eee30",
   "metadata": {},
   "outputs": [
    {
     "data": {
      "text/plain": [
       "10"
      ]
     },
     "execution_count": 2,
     "metadata": {},
     "output_type": "execute_result"
    }
   ],
   "source": [
    "value_of_card('K')"
   ]
  },
  {
   "cell_type": "code",
   "execution_count": 3,
   "id": "4a281ebe",
   "metadata": {},
   "outputs": [],
   "source": [
    "def can_double_down(card_one, card_two):\n",
    "    \"\"\"Determine if a blackjack player can place a double down bet.\n",
    "\n",
    "    :param card_one, card_two: str - first and second cards in hand.\n",
    "    :return: bool - can the hand can be doubled down? (i.e. totals 9, 10 or 11 points).\n",
    "    \"\"\"\n",
    "\n",
    "    total = int(card_one) + int(card_two)\n",
    "    return total >= 9 and total <= 11"
   ]
  },
  {
   "cell_type": "code",
   "execution_count": 4,
   "id": "d066aeed",
   "metadata": {},
   "outputs": [
    {
     "data": {
      "text/plain": [
       "True"
      ]
     },
     "execution_count": 4,
     "metadata": {},
     "output_type": "execute_result"
    }
   ],
   "source": [
    "can_double_down('1', '9')"
   ]
  },
  {
   "cell_type": "code",
   "execution_count": 5,
   "id": "809cfe3b",
   "metadata": {},
   "outputs": [],
   "source": [
    "def higher_card(card_one, card_two):\n",
    "    \n",
    "    values = {'2':2, '3':3, '4':4, '5':5, '6':6, '7':7, '8':8, '9':9, '10':10, 'J':10, \n",
    "              'Q':10, 'K':10, 'A':1}\n",
    "    \n",
    "    card_one_value = values.get(card_one)\n",
    "    card_two_value = values.get(card_two)\n",
    "    \n",
    "    if card_one_value > card_two_value:\n",
    "        return card_one\n",
    "    elif card_one_value < card_two_value:\n",
    "        return card_two\n",
    "    else:\n",
    "        return card_one, card_two\n"
   ]
  },
  {
   "cell_type": "code",
   "execution_count": 6,
   "id": "b03e650a",
   "metadata": {},
   "outputs": [
    {
     "data": {
      "text/plain": [
       "('K', 'K')"
      ]
     },
     "execution_count": 6,
     "metadata": {},
     "output_type": "execute_result"
    }
   ],
   "source": [
    "higher_card('K','K')"
   ]
  },
  {
   "cell_type": "code",
   "execution_count": 7,
   "id": "f726fbfd",
   "metadata": {},
   "outputs": [
    {
     "data": {
      "text/plain": [
       "'K'"
      ]
     },
     "execution_count": 7,
     "metadata": {},
     "output_type": "execute_result"
    }
   ],
   "source": [
    "higher_card('2', 'K')"
   ]
  },
  {
   "cell_type": "code",
   "execution_count": 108,
   "id": "34c7616b",
   "metadata": {},
   "outputs": [],
   "source": [
    "def value_of_ace(card_one, card_two):\n",
    "\n",
    "    values = {'2':2, '3':3, '4':4, '5':5, '6':6, '7':7, '8':8, '9':9, '10':10, 'J':10, \n",
    "              'Q':10, 'K':10, 'A':11}\n",
    "    \n",
    "    card_one_value = values.get(card_one)\n",
    "    card_two_value = values.get(card_two)\n",
    "    ace = 1\n",
    "\n",
    "    if card_one_value + card_two_value <= 10:\n",
    "        ace = 11\n",
    "        return ace\n",
    "   \n",
    "    else:\n",
    "        return ace"
   ]
  },
  {
   "cell_type": "code",
   "execution_count": 112,
   "id": "37c59c88",
   "metadata": {},
   "outputs": [
    {
     "data": {
      "text/plain": [
       "11"
      ]
     },
     "execution_count": 112,
     "metadata": {},
     "output_type": "execute_result"
    }
   ],
   "source": [
    "value_of_ace('5','3')"
   ]
  },
  {
   "cell_type": "code",
   "execution_count": 165,
   "id": "ef19ec7a",
   "metadata": {},
   "outputs": [],
   "source": [
    "def is_blackjack(card_one, card_two):\n",
    "    \"\"\"Determine if the hand is a 'natural' or 'blackjack'.\n",
    "\n",
    "    :param card_one, card_two: str - card dealt. See below for values.\n",
    "    :return: bool - is the hand is a blackjack (two cards worth 21).\n",
    "\n",
    "    1.  'J', 'Q', or 'K' (otherwise known as \"face cards\") = 10\n",
    "    2.  'A' (ace card) = 11 (if already in hand)\n",
    "    3.  '2' - '10' = numerical value.\n",
    "    \"\"\"\n",
    "    \n",
    "    values = {'2':2, '3':3, '4':4, '5':5, '6':6, '7':7, '8':8, '9':9, '10':10, 'J':10, \n",
    "              'Q':10, 'K':10, 'A':11}\n",
    "    \n",
    "    if card_one == 'A' and card_two == 'A':\n",
    "        return False\n",
    "    \n",
    "    elif 'A' in (card_one,card_two):\n",
    "        return True\n",
    "    \n",
    "    else:\n",
    "        return False"
   ]
  },
  {
   "cell_type": "code",
   "execution_count": 166,
   "id": "23fe958e",
   "metadata": {},
   "outputs": [
    {
     "data": {
      "text/plain": [
       "False"
      ]
     },
     "execution_count": 166,
     "metadata": {},
     "output_type": "execute_result"
    }
   ],
   "source": [
    "is_blackjack('A', 'A')"
   ]
  },
  {
   "cell_type": "code",
   "execution_count": 167,
   "id": "ea39dc87",
   "metadata": {},
   "outputs": [
    {
     "data": {
      "text/plain": [
       "True"
      ]
     },
     "execution_count": 167,
     "metadata": {},
     "output_type": "execute_result"
    }
   ],
   "source": [
    "is_blackjack('A', 'K')"
   ]
  },
  {
   "cell_type": "code",
   "execution_count": 168,
   "id": "109a7706",
   "metadata": {},
   "outputs": [],
   "source": [
    "def can_split_pairs(card_one, card_two):\n",
    "    \"\"\"Determine if a player can split their hand into two hands.\n",
    "\n",
    "    :param card_one, card_two: str - cards dealt.\n",
    "    :return: bool - can the hand be split into two pairs? (i.e. cards are of the same value).\n",
    "    \"\"\"\n",
    "\n",
    "    values = {'2':2, '3':3, '4':4, '5':5, '6':6, '7':7, '8':8, '9':9, '10':10, 'J':10, \n",
    "              'Q':10, 'K':10, 'A':11}\n",
    "    \n",
    "    card_one_value = values.get(card_one)\n",
    "    card_two_value = values.get(card_two)\n",
    "    \n",
    "    if card_one_value == card_two_value:\n",
    "        return True\n",
    "    else:\n",
    "        return False"
   ]
  },
  {
   "cell_type": "code",
   "execution_count": 169,
   "id": "78cd7883",
   "metadata": {},
   "outputs": [
    {
     "data": {
      "text/plain": [
       "True"
      ]
     },
     "execution_count": 169,
     "metadata": {},
     "output_type": "execute_result"
    }
   ],
   "source": [
    "can_split_pairs('Q', 'K')"
   ]
  },
  {
   "cell_type": "code",
   "execution_count": 170,
   "id": "868c1075",
   "metadata": {},
   "outputs": [
    {
     "data": {
      "text/plain": [
       "False"
      ]
     },
     "execution_count": 170,
     "metadata": {},
     "output_type": "execute_result"
    }
   ],
   "source": [
    "can_split_pairs('10', 'A')"
   ]
  },
  {
   "cell_type": "code",
   "execution_count": 176,
   "id": "0bc5e507",
   "metadata": {},
   "outputs": [],
   "source": [
    "def can_double_down(card_one, card_two):\n",
    "    \"\"\"Determine if a blackjack player can place a double down bet.\n",
    "\n",
    "    :param card_one, card_two: str - first and second cards in hand.\n",
    "    :return: bool - can the hand can be doubled down? (i.e. totals 9, 10 or 11 points).\n",
    "    \"\"\"\n",
    "    values = {'2':2, '3':3, '4':4, '5':5, '6':6, '7':7, '8':8, '9':9, '10':10, 'J':10, \n",
    "              'Q':10, 'K':10, 'A':1}\n",
    "    \n",
    "    card_one_value = values.get(card_one)\n",
    "    card_two_value = values.get(card_two)\n",
    "\n",
    "    total = int(card_one_value) + int(card_two_value)\n",
    "    return total >= 9 and total <= 11"
   ]
  },
  {
   "cell_type": "code",
   "execution_count": 178,
   "id": "1d9d32b8",
   "metadata": {},
   "outputs": [
    {
     "data": {
      "text/plain": [
       "False"
      ]
     },
     "execution_count": 178,
     "metadata": {},
     "output_type": "execute_result"
    }
   ],
   "source": [
    "can_double_down('10', '2')"
   ]
  },
  {
   "cell_type": "code",
   "execution_count": null,
   "id": "4f8e0a16",
   "metadata": {},
   "outputs": [],
   "source": []
  },
  {
   "cell_type": "code",
   "execution_count": null,
   "id": "f4e01ea1",
   "metadata": {},
   "outputs": [],
   "source": []
  }
 ],
 "metadata": {
  "kernelspec": {
   "display_name": "Python 3 (ipykernel)",
   "language": "python",
   "name": "python3"
  },
  "language_info": {
   "codemirror_mode": {
    "name": "ipython",
    "version": 3
   },
   "file_extension": ".py",
   "mimetype": "text/x-python",
   "name": "python",
   "nbconvert_exporter": "python",
   "pygments_lexer": "ipython3",
   "version": "3.9.7"
  }
 },
 "nbformat": 4,
 "nbformat_minor": 5
}
