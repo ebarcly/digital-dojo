{
 "cells": [
  {
   "cell_type": "code",
   "execution_count": null,
   "id": "1c5674c9",
   "metadata": {},
   "outputs": [],
   "source": [
    "def exchange_money(budget, exchange_rate):\n",
    "    \"\"\"\n",
    "\n",
    "    :param budget: float - amount of money you are planning to exchange.\n",
    "    :param exchange_rate: float - unit value of the foreign currency.\n",
    "    :return: float - exchanged value of the foreign currency you can receive.\n",
    "    \"\"\"\n",
    "\n",
    "    value = budget / exchange_rate\n",
    "    return value\n"
   ]
  },
  {
   "cell_type": "code",
   "execution_count": null,
   "id": "86d35005",
   "metadata": {},
   "outputs": [],
   "source": [
    "exchange_money(budget=20,exchange_rate=1.5)"
   ]
  },
  {
   "cell_type": "code",
   "execution_count": null,
   "id": "86508757",
   "metadata": {},
   "outputs": [],
   "source": [
    "def get_change(budget, exchanging_value):\n",
    "    \"\"\"\n",
    "\n",
    "    :param budget: float - amount of money you own.\n",
    "    :param exchanging_value: float - amount of your money you want to exchange now.\n",
    "    :return: float - amount left of your starting currency after exchanging.\n",
    "    \"\"\"\n",
    "\n",
    "    amount = budget - exchanging_value\n",
    "    return amount\n"
   ]
  },
  {
   "cell_type": "code",
   "execution_count": null,
   "id": "a5ef5c78",
   "metadata": {},
   "outputs": [],
   "source": [
    "get_change(20,15)"
   ]
  },
  {
   "cell_type": "code",
   "execution_count": 5,
   "id": "c00f5b06",
   "metadata": {},
   "outputs": [],
   "source": [
    "def get_value_of_bills(denomination, number_of_bills):\n",
    "    \"\"\"\n",
    "\n",
    "    :param denomination: int - the value of a bill.\n",
    "    :param number_of_bills: int - amount of bills you received.\n",
    "    :return: int - total value of bills you now have.\n",
    "    \"\"\"\n",
    "\n",
    "    total_value = denomination * number_of_bills\n",
    "    \n",
    "    remainder = total_value // denomination\n",
    "    \n",
    "    return int(total_value)\n",
    "    \n"
   ]
  },
  {
   "cell_type": "code",
   "execution_count": 6,
   "id": "7b7f9024",
   "metadata": {},
   "outputs": [
    {
     "data": {
      "text/plain": [
       "640"
      ]
     },
     "execution_count": 6,
     "metadata": {},
     "output_type": "execute_result"
    }
   ],
   "source": [
    "get_value_of_bills(5,128)"
   ]
  },
  {
   "cell_type": "code",
   "execution_count": 11,
   "id": "5f5b47fb",
   "metadata": {},
   "outputs": [],
   "source": [
    "def get_number_of_bills(budget, denomination):\n",
    "    \"\"\"\n",
    "\n",
    "    :param budget: float - the amount of money you are planning to exchange.\n",
    "    :param denomination: int - the value of a single bill.\n",
    "    :return: int - number of bills after exchanging all your money.\n",
    "    \"\"\"\n",
    "\n",
    "    number_of_bills = budget // denomination\n",
    "    \n",
    "    return int(number_of_bills)"
   ]
  },
  {
   "cell_type": "code",
   "execution_count": 12,
   "id": "35fdbb1f",
   "metadata": {},
   "outputs": [
    {
     "data": {
      "text/plain": [
       "25"
      ]
     },
     "execution_count": 12,
     "metadata": {},
     "output_type": "execute_result"
    }
   ],
   "source": [
    "get_number_of_bills(127.5, 5)"
   ]
  },
  {
   "cell_type": "code",
   "execution_count": 13,
   "id": "b1c43fb4",
   "metadata": {},
   "outputs": [],
   "source": [
    "def get_leftover_of_bills(budget, denomination):\n",
    "    \"\"\"\n",
    "\n",
    "    :param budget: float - the amount of money you are planning to exchange.\n",
    "    :param denomination: int - the value of a single bill.\n",
    "    :return: float - the leftover amount that cannot be exchanged given the current denomination.\n",
    "    \"\"\"\n",
    "\n",
    "    leftover = budget % denomination\n",
    "    \n",
    "    return leftover"
   ]
  },
  {
   "cell_type": "code",
   "execution_count": 14,
   "id": "fb67b959",
   "metadata": {},
   "outputs": [
    {
     "data": {
      "text/plain": [
       "7.5"
      ]
     },
     "execution_count": 14,
     "metadata": {},
     "output_type": "execute_result"
    }
   ],
   "source": [
    "get_leftover_of_bills(127.5, 20)"
   ]
  },
  {
   "cell_type": "code",
   "execution_count": 107,
   "id": "6efe225d",
   "metadata": {},
   "outputs": [],
   "source": [
    "budget = 127.25\n",
    "spread = 10\n",
    "exchange_rate = 1.20\n",
    "denomination = 5"
   ]
  },
  {
   "cell_type": "code",
   "execution_count": 108,
   "id": "2cc76247",
   "metadata": {},
   "outputs": [],
   "source": [
    "spread_percentage = spread /100 * exchange_rate"
   ]
  },
  {
   "cell_type": "code",
   "execution_count": 109,
   "id": "da07e307",
   "metadata": {},
   "outputs": [
    {
     "data": {
      "text/plain": [
       "0.12"
      ]
     },
     "execution_count": 109,
     "metadata": {},
     "output_type": "execute_result"
    }
   ],
   "source": [
    "spread_percentage"
   ]
  },
  {
   "cell_type": "code",
   "execution_count": 110,
   "id": "35aa71e1",
   "metadata": {},
   "outputs": [],
   "source": [
    "new_rate = spread_percentage + exchange_rate"
   ]
  },
  {
   "cell_type": "code",
   "execution_count": 111,
   "id": "a728abc1",
   "metadata": {},
   "outputs": [
    {
     "data": {
      "text/plain": [
       "1.3199999999999998"
      ]
     },
     "execution_count": 111,
     "metadata": {},
     "output_type": "execute_result"
    }
   ],
   "source": [
    "new_rate"
   ]
  },
  {
   "cell_type": "code",
   "execution_count": 112,
   "id": "6163472b",
   "metadata": {},
   "outputs": [],
   "source": [
    "max_currency = budget / new_rate"
   ]
  },
  {
   "cell_type": "code",
   "execution_count": 113,
   "id": "131a1835",
   "metadata": {},
   "outputs": [
    {
     "data": {
      "text/plain": [
       "96.40151515151517"
      ]
     },
     "execution_count": 113,
     "metadata": {},
     "output_type": "execute_result"
    }
   ],
   "source": [
    "max_currency"
   ]
  },
  {
   "cell_type": "code",
   "execution_count": 120,
   "id": "f0c52a02",
   "metadata": {},
   "outputs": [],
   "source": [
    "number_of_bills = max_currency // denomination"
   ]
  },
  {
   "cell_type": "code",
   "execution_count": 121,
   "id": "e37e560d",
   "metadata": {},
   "outputs": [
    {
     "data": {
      "text/plain": [
       "19.0"
      ]
     },
     "execution_count": 121,
     "metadata": {},
     "output_type": "execute_result"
    }
   ],
   "source": [
    "number_of_bills"
   ]
  },
  {
   "cell_type": "code",
   "execution_count": 116,
   "id": "07ec53f5",
   "metadata": {},
   "outputs": [],
   "source": [
    "max_value = int(number_of_bills) * denomination"
   ]
  },
  {
   "cell_type": "code",
   "execution_count": 117,
   "id": "7bcc483d",
   "metadata": {},
   "outputs": [
    {
     "data": {
      "text/plain": [
       "95"
      ]
     },
     "execution_count": 117,
     "metadata": {},
     "output_type": "execute_result"
    }
   ],
   "source": [
    "max_value"
   ]
  },
  {
   "cell_type": "code",
   "execution_count": 22,
   "id": "25dc6861",
   "metadata": {},
   "outputs": [],
   "source": [
    "def exchangeable_value(budget, exchange_rate, spread, denomination):\n",
    "    \"\"\"\n",
    "\n",
    "    :param budget: float - the amount of your money you are planning to exchange.\n",
    "    :param exchange_rate: float - the unit value of the foreign currency.\n",
    "    :param spread: int - percentage that is taken as an exchange fee.\n",
    "    :param denomination: int - the value of a single bill.\n",
    "    :return: int - maximum value you can get.\n",
    "    \"\"\"\n",
    "\n",
    "    spread_percentage = spread /100 * exchange_rate\n",
    "    new_rate = spread_percentage + exchange_rate\n",
    "    max_currency = budget / new_rate\n",
    "    number_of_bills = max_currency // denomination\n",
    "    max_value = int(number_of_bills) * denomination\n",
    "    \n",
    "    return max_value"
   ]
  },
  {
   "cell_type": "code",
   "execution_count": null,
   "id": "c315c699",
   "metadata": {},
   "outputs": [],
   "source": []
  }
 ],
 "metadata": {
  "kernelspec": {
   "display_name": "Python 3 (ipykernel)",
   "language": "python",
   "name": "python3"
  },
  "language_info": {
   "codemirror_mode": {
    "name": "ipython",
    "version": 3
   },
   "file_extension": ".py",
   "mimetype": "text/x-python",
   "name": "python",
   "nbconvert_exporter": "python",
   "pygments_lexer": "ipython3",
   "version": "3.9.7"
  }
 },
 "nbformat": 4,
 "nbformat_minor": 5
}
