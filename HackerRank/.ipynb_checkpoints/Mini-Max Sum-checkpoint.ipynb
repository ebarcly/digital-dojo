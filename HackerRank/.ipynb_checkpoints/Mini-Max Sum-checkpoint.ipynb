{
 "cells": [
  {
   "cell_type": "code",
   "execution_count": 1,
   "id": "a517e99d",
   "metadata": {},
   "outputs": [
    {
     "name": "stdout",
     "output_type": "stream",
     "text": [
      "299 9271\n"
     ]
    }
   ],
   "source": [
    "# Mini-Max Sum: 1st implementation\n",
    "\n",
    "def miniMaxSum(arr):\n",
    "    min_sum = 0\n",
    "    max_sum = 0\n",
    "    \n",
    "    sorted_arr = sorted(arr)\n",
    "    \n",
    "    for n in sorted_arr[:-1]:\n",
    "        min_sum += n\n",
    "    for n in sorted_arr[1:]:\n",
    "        max_sum += n\n",
    "    \n",
    "    print(min_sum, max_sum)\n",
    "\n",
    "miniMaxSum([7, 69, 2, 221, 8974])"
   ]
  },
  {
   "cell_type": "code",
   "execution_count": 3,
   "id": "d06b4ad5",
   "metadata": {},
   "outputs": [
    {
     "name": "stdout",
     "output_type": "stream",
     "text": [
      "299 9271\n"
     ]
    }
   ],
   "source": [
    "# Improved implementation\n",
    "\n",
    "def miniMaxSum(arr):\n",
    "    a, b, c, d, e = arr\n",
    "    total = a + b + c + d + e\n",
    "    \n",
    "    min_sum = total - max(arr)\n",
    "    max_sum = total - min(arr)\n",
    "    \n",
    "    print(min_sum, max_sum)\n",
    "    \n",
    "miniMaxSum([7, 69, 2, 221, 8974])"
   ]
  },
  {
   "cell_type": "code",
   "execution_count": null,
   "id": "eb0f04d0",
   "metadata": {},
   "outputs": [],
   "source": []
  }
 ],
 "metadata": {
  "kernelspec": {
   "display_name": "Python 3 (ipykernel)",
   "language": "python",
   "name": "python3"
  },
  "language_info": {
   "codemirror_mode": {
    "name": "ipython",
    "version": 3
   },
   "file_extension": ".py",
   "mimetype": "text/x-python",
   "name": "python",
   "nbconvert_exporter": "python",
   "pygments_lexer": "ipython3",
   "version": "3.9.13"
  }
 },
 "nbformat": 4,
 "nbformat_minor": 5
}
