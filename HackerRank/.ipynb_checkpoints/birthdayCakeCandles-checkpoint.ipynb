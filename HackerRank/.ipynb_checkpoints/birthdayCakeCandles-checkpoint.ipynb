{
 "cells": [
  {
   "cell_type": "code",
   "execution_count": 1,
   "id": "32db9bf0",
   "metadata": {},
   "outputs": [
    {
     "data": {
      "text/plain": [
       "2"
      ]
     },
     "execution_count": 1,
     "metadata": {},
     "output_type": "execute_result"
    }
   ],
   "source": [
    "# First implementation - using python methods\n",
    "\n",
    "def birthdayCakeCandles(candles):\n",
    "    tallest_candles = candles.count(max(candles))\n",
    "    \n",
    "    return tallest_candles\n",
    "\n",
    "birthdayCakeCandles([2, 3, 3, 5, 6, 4, 6])"
   ]
  },
  {
   "cell_type": "code",
   "execution_count": 9,
   "id": "dbcd2824",
   "metadata": {},
   "outputs": [],
   "source": [
    "# Improved implementation ✅\n",
    "# one single pass through the array, better readability and flexibility\n",
    "\n",
    "def birthdayCakeCandlesBetter(candles):\n",
    "    if not candles:\n",
    "        return 0\n",
    "    \n",
    "    tallest_candle = 0\n",
    "    count = 0\n",
    "    \n",
    "    for candle in candles:\n",
    "        if candle > tallest_candle:\n",
    "            tallest_candle = candle\n",
    "            count = 1\n",
    "        elif candle == tallest_candle:\n",
    "            count += 1\n",
    "    \n",
    "    return count\n"
   ]
  },
  {
   "cell_type": "code",
   "execution_count": 10,
   "id": "8342b010",
   "metadata": {},
   "outputs": [
    {
     "data": {
      "text/plain": [
       "3"
      ]
     },
     "execution_count": 10,
     "metadata": {},
     "output_type": "execute_result"
    }
   ],
   "source": [
    "birthdayCakeCandlesBetter([2, 3, 3, 5, 5, 4, 5])"
   ]
  },
  {
   "cell_type": "code",
   "execution_count": 11,
   "id": "8e73eb19",
   "metadata": {},
   "outputs": [
    {
     "data": {
      "text/plain": [
       "0"
      ]
     },
     "execution_count": 11,
     "metadata": {},
     "output_type": "execute_result"
    }
   ],
   "source": [
    "birthdayCakeCandlesBetter([])"
   ]
  },
  {
   "cell_type": "code",
   "execution_count": null,
   "id": "e1c20b62",
   "metadata": {},
   "outputs": [],
   "source": []
  }
 ],
 "metadata": {
  "kernelspec": {
   "display_name": "Python 3 (ipykernel)",
   "language": "python",
   "name": "python3"
  },
  "language_info": {
   "codemirror_mode": {
    "name": "ipython",
    "version": 3
   },
   "file_extension": ".py",
   "mimetype": "text/x-python",
   "name": "python",
   "nbconvert_exporter": "python",
   "pygments_lexer": "ipython3",
   "version": "3.9.13"
  }
 },
 "nbformat": 4,
 "nbformat_minor": 5
}
