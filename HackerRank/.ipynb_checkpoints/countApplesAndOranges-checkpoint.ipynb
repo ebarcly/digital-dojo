{
 "cells": [
  {
   "cell_type": "code",
   "execution_count": 1,
   "id": "88f547a7",
   "metadata": {},
   "outputs": [],
   "source": [
    "# First implementation\n",
    "\n",
    "def countApplesAndOranges(s, t, a, b, apples, oranges):\n",
    "    # Write your code here\n",
    "    num_apples = 0\n",
    "    num_oranges = 0\n",
    "    \n",
    "    for apple in apples:\n",
    "        apple_distance = a + (apple)\n",
    "        if apple_distance >= s and apple_distance <= t:\n",
    "            num_apples += 1\n",
    "    print(num_apples)\n",
    "            \n",
    "    for orange in oranges:\n",
    "        orange_distance = b + (orange)\n",
    "        if orange_distance >= s and orange_distance <= t:\n",
    "            num_oranges += 1\n",
    "    print(num_oranges)"
   ]
  },
  {
   "cell_type": "code",
   "execution_count": null,
   "id": "21d28224",
   "metadata": {},
   "outputs": [],
   "source": []
  },
  {
   "cell_type": "code",
   "execution_count": 2,
   "id": "95daa725",
   "metadata": {},
   "outputs": [],
   "source": []
  },
  {
   "cell_type": "code",
   "execution_count": 5,
   "id": "0eff3113",
   "metadata": {},
   "outputs": [],
   "source": [
    "# Second Implementation\n",
    "\n",
    "def countApplesAndOranges(s, t, a, b, apples, oranges):\n",
    "    apple_count = 0\n",
    "    orange_count = 0\n",
    "    \n",
    "    for apple_distance in apples:\n",
    "        landing_spot = a + apple_distance\n",
    "        if s <= landing_spot <= t:\n",
    "            apple_count += 1\n",
    "    \n",
    "    for orange_distance in oranges:\n",
    "        landing_spot = b + orange_distance\n",
    "        if s <= landing_spot <= t:\n",
    "            orange_count += 1\n",
    "    \n",
    "    print(apple_count)\n",
    "    print(orange_count)"
   ]
  },
  {
   "cell_type": "code",
   "execution_count": null,
   "id": "bb1f6e46",
   "metadata": {},
   "outputs": [],
   "source": []
  }
 ],
 "metadata": {
  "kernelspec": {
   "display_name": "Python 3 (ipykernel)",
   "language": "python",
   "name": "python3"
  },
  "language_info": {
   "codemirror_mode": {
    "name": "ipython",
    "version": 3
   },
   "file_extension": ".py",
   "mimetype": "text/x-python",
   "name": "python",
   "nbconvert_exporter": "python",
   "pygments_lexer": "ipython3",
   "version": "3.9.13"
  }
 },
 "nbformat": 4,
 "nbformat_minor": 5
}
