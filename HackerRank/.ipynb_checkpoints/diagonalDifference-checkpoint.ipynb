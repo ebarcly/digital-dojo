{
 "cells": [
  {
   "cell_type": "code",
   "execution_count": 117,
   "id": "eb8e60a9",
   "metadata": {},
   "outputs": [
    {
     "name": "stdout",
     "output_type": "stream",
     "text": [
      "Main Diagonal (Primary Diagonal): Top-Left to Bottom-Right\n",
      "11\n",
      "5\n",
      "-12\n",
      "\n",
      "\n",
      "Anti-Diagonal (Secondary Diagonal): Top-Right to Bottom-Left\n",
      "4\n",
      "5\n",
      "10\n"
     ]
    }
   ],
   "source": [
    "matrix = [[11, 2, 4],\n",
    "           [4, 5, 6],\n",
    "           [10, 8, -12]]\n",
    "          \n",
    "# Main Diagonal (Primary Diagonal): Top-Left to Bottom-Right\n",
    "print(\"Main Diagonal (Primary Diagonal): Top-Left to Bottom-Right\")\n",
    "print(matrix[0][0])\n",
    "print(matrix[1][1])\n",
    "print(matrix[2][2])\n",
    "print(\"\\n\")\n",
    "# Anti-Diagonal (Secondary Diagonal): Top-Right to Bottom-Left\n",
    "print(\"Anti-Diagonal (Secondary Diagonal): Top-Right to Bottom-Left\")\n",
    "print(matrix[0][-1])\n",
    "print(matrix[1][-2])\n",
    "print(matrix[2][-3])"
   ]
  },
  {
   "cell_type": "code",
   "execution_count": 118,
   "id": "2b1f6bf8",
   "metadata": {},
   "outputs": [],
   "source": [
    "def diagonal_Difference(arr):\n",
    "    matrix = len(arr)\n",
    "    \n",
    "    diag_sum = 0\n",
    "    anti_sum = 0\n",
    "    \n",
    "    for n in range(matrix):\n",
    "        diag_sum += arr[n][n]\n",
    "        anti_sum += arr[n][matrix - n - 1]\n",
    "    return abs(diag_sum - anti_sum)\n"
   ]
  },
  {
   "cell_type": "code",
   "execution_count": 119,
   "id": "1c816d35",
   "metadata": {},
   "outputs": [
    {
     "data": {
      "text/plain": [
       "15"
      ]
     },
     "execution_count": 119,
     "metadata": {},
     "output_type": "execute_result"
    }
   ],
   "source": [
    "diagonal_Difference(matrix)"
   ]
  },
  {
   "cell_type": "code",
   "execution_count": null,
   "id": "28f0ee94",
   "metadata": {},
   "outputs": [],
   "source": []
  }
 ],
 "metadata": {
  "kernelspec": {
   "display_name": "Python 3 (ipykernel)",
   "language": "python",
   "name": "python3"
  },
  "language_info": {
   "codemirror_mode": {
    "name": "ipython",
    "version": 3
   },
   "file_extension": ".py",
   "mimetype": "text/x-python",
   "name": "python",
   "nbconvert_exporter": "python",
   "pygments_lexer": "ipython3",
   "version": "3.9.13"
  }
 },
 "nbformat": 4,
 "nbformat_minor": 5
}
