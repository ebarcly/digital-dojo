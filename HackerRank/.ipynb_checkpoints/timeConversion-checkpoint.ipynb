{
 "cells": [
  {
   "cell_type": "code",
   "execution_count": 3,
   "id": "da968a5d",
   "metadata": {},
   "outputs": [],
   "source": [
    "def timeConversion(s):\n",
    "    if \"PM\" in s:\n",
    "        time = s.split(\":\")\n",
    "        hour = int(time[0])\n",
    "        minutes = time[1]\n",
    "        seconds = time[2]\n",
    "        seconds = seconds.strip('PM')\n",
    "        if hour == 12:\n",
    "            return f\"{hour}:{minutes}:{seconds}\"\n",
    "        else:\n",
    "            return f\"{hour + 12}:{minutes}:{seconds}\"\n",
    "    else:\n",
    "        if \"AM\" in s:\n",
    "            time = s.split(\":\")\n",
    "            hour = int(time[0])\n",
    "            minutes = time[1]\n",
    "            seconds = time[2]\n",
    "            seconds = seconds.strip('AM')\n",
    "            if hour == 12:\n",
    "                return f\"0{hour - 12}:{minutes}:{seconds}\"\n",
    "        return s.strip('AM')"
   ]
  },
  {
   "cell_type": "code",
   "execution_count": 10,
   "id": "576f8b12",
   "metadata": {},
   "outputs": [
    {
     "data": {
      "text/plain": [
       "'00:01:00'"
      ]
     },
     "execution_count": 10,
     "metadata": {},
     "output_type": "execute_result"
    }
   ],
   "source": [
    "# Time Conversion\n",
    "r = \"06:12:00AM\"  # --> 06:12:00 (Before noon - remains the same)\n",
    "s = \"06:12:00PM\"  # --> 18:12:00 (After noon - changes to 24 format)\n",
    "t = \"12:01:00PM\"  # --> 12:01:00 (At noon remains the same)\n",
    "u = \"12:01:00AM\"  # --> 00:01:00 (At midnight restarts to 0)\n",
    "\n",
    "timeConversion(u)"
   ]
  },
  {
   "cell_type": "code",
   "execution_count": 26,
   "id": "b65f6da9",
   "metadata": {},
   "outputs": [],
   "source": [
    "def timeConversionBetter(s):\n",
    "    hours, minutes, seconds = s[:-2].split(':')\n",
    "    period = s[-2:]\n",
    "    \n",
    "    hours = int(hours)\n",
    "    if period == \"PM\" and hours != 12:\n",
    "        hours += 12\n",
    "    elif period == \"AM\" and hours == 12:\n",
    "        hours = 0\n",
    "    \n",
    "    return f'{hours:02d}:{minutes}:{seconds}'"
   ]
  },
  {
   "cell_type": "code",
   "execution_count": 27,
   "id": "0cf110be",
   "metadata": {
    "scrolled": true
   },
   "outputs": [],
   "source": [
    "# Time Conversion\n",
    "r = \"06:12:00AM\"  # --> 06:12:00 (Before noon - remains the same)\n",
    "s = \"06:12:00PM\"  # --> 18:12:00 (After noon - changes to 24 format)\n",
    "t = \"12:01:00PM\"  # --> 12:01:00 (At noon remains the same)\n",
    "u = \"12:01:00AM\"  # --> 00:01:00 (At midnight restarts to 0)\n"
   ]
  },
  {
   "cell_type": "code",
   "execution_count": 28,
   "id": "dd07f374",
   "metadata": {},
   "outputs": [
    {
     "data": {
      "text/plain": [
       "'00:01:00'"
      ]
     },
     "execution_count": 28,
     "metadata": {},
     "output_type": "execute_result"
    }
   ],
   "source": [
    "timeConversionBetter(u)"
   ]
  },
  {
   "cell_type": "code",
   "execution_count": null,
   "id": "ad9fe30a",
   "metadata": {},
   "outputs": [],
   "source": []
  }
 ],
 "metadata": {
  "kernelspec": {
   "display_name": "Python 3 (ipykernel)",
   "language": "python",
   "name": "python3"
  },
  "language_info": {
   "codemirror_mode": {
    "name": "ipython",
    "version": 3
   },
   "file_extension": ".py",
   "mimetype": "text/x-python",
   "name": "python",
   "nbconvert_exporter": "python",
   "pygments_lexer": "ipython3",
   "version": "3.9.13"
  }
 },
 "nbformat": 4,
 "nbformat_minor": 5
}
