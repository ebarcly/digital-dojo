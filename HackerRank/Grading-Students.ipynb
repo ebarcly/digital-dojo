{
 "cells": [
  {
   "cell_type": "code",
   "execution_count": 164,
   "id": "9d458ca7",
   "metadata": {},
   "outputs": [],
   "source": [
    "# Grading Students \n",
    "# First attempt \n",
    "def gradingStudents(grades):\n",
    "    \n",
    "    new_grades = []\n",
    "    \n",
    "    for grade in grades:\n",
    "        first = (grade + 1)\n",
    "        second = (grade + 2)\n",
    "        if grade >= 38 and first % 5 == 0 or grade >= 38 and second % 5 == 0:\n",
    "            if first % 5 == 0:\n",
    "                new_grades.append(first)\n",
    "            elif second % 5 == 0:\n",
    "                new_grades.append(second)\n",
    "        else:\n",
    "            new_grades.append(grade)\n",
    "    return new_grades"
   ]
  },
  {
   "cell_type": "code",
   "execution_count": 165,
   "id": "ae0abad3",
   "metadata": {},
   "outputs": [
    {
     "data": {
      "text/plain": [
       "[80, 33, 40, 95, 67, 40]"
      ]
     },
     "execution_count": 165,
     "metadata": {},
     "output_type": "execute_result"
    }
   ],
   "source": [
    "grades = [78, 33, 38, 94, 67, 40]\n",
    "gradingStudents(grades)"
   ]
  },
  {
   "cell_type": "code",
   "execution_count": null,
   "id": "8d63cbeb",
   "metadata": {},
   "outputs": [],
   "source": [
    "(x + (n - 1) // n) * n = m"
   ]
  },
  {
   "cell_type": "code",
   "execution_count": 195,
   "id": "777e958f",
   "metadata": {},
   "outputs": [
    {
     "data": {
      "text/plain": [
       "80"
      ]
     },
     "execution_count": 195,
     "metadata": {},
     "output_type": "execute_result"
    }
   ],
   "source": [
    "((78 + 4) // 5) * 5"
   ]
  },
  {
   "cell_type": "code",
   "execution_count": null,
   "id": "c47ae24b",
   "metadata": {},
   "outputs": [],
   "source": []
  },
  {
   "cell_type": "code",
   "execution_count": null,
   "id": "400b0513",
   "metadata": {},
   "outputs": [],
   "source": []
  },
  {
   "cell_type": "code",
   "execution_count": null,
   "id": "6b18a382",
   "metadata": {},
   "outputs": [],
   "source": []
  },
  {
   "cell_type": "code",
   "execution_count": null,
   "id": "08697128",
   "metadata": {},
   "outputs": [],
   "source": []
  },
  {
   "cell_type": "code",
   "execution_count": null,
   "id": "88497c37",
   "metadata": {},
   "outputs": [],
   "source": []
  },
  {
   "cell_type": "code",
   "execution_count": null,
   "id": "3303119b",
   "metadata": {},
   "outputs": [],
   "source": []
  },
  {
   "cell_type": "code",
   "execution_count": null,
   "id": "159201d0",
   "metadata": {},
   "outputs": [],
   "source": []
  },
  {
   "cell_type": "code",
   "execution_count": 192,
   "id": "9b9d3aa5",
   "metadata": {},
   "outputs": [],
   "source": [
    "def gradingStudentsBetter(grades):\n",
    "    def round_grade(grade):\n",
    "        if grade < 38:\n",
    "            return grade\n",
    "        next_multiple = ((grade + 4) // 5) * 5\n",
    "        return next_multiple if next_multiple - grade < 3 else grade\n",
    "\n",
    "    return [round_grade(grade) for grade in grades]"
   ]
  },
  {
   "cell_type": "code",
   "execution_count": 193,
   "id": "a39d696d",
   "metadata": {},
   "outputs": [
    {
     "data": {
      "text/plain": [
       "[80, 33, 40, 95, 67, 40]"
      ]
     },
     "execution_count": 193,
     "metadata": {},
     "output_type": "execute_result"
    }
   ],
   "source": [
    "grades = [78, 33, 38, 94, 67, 40]\n",
    "gradingStudentsBetter(grades)"
   ]
  },
  {
   "cell_type": "code",
   "execution_count": null,
   "id": "adc4c78a",
   "metadata": {},
   "outputs": [],
   "source": []
  },
  {
   "cell_type": "code",
   "execution_count": null,
   "id": "e2709f25",
   "metadata": {},
   "outputs": [],
   "source": []
  },
  {
   "cell_type": "code",
   "execution_count": null,
   "id": "f79a43a7",
   "metadata": {},
   "outputs": [],
   "source": []
  },
  {
   "cell_type": "code",
   "execution_count": null,
   "id": "dfd1abda",
   "metadata": {},
   "outputs": [],
   "source": []
  }
 ],
 "metadata": {
  "kernelspec": {
   "display_name": "Python 3 (ipykernel)",
   "language": "python",
   "name": "python3"
  },
  "language_info": {
   "codemirror_mode": {
    "name": "ipython",
    "version": 3
   },
   "file_extension": ".py",
   "mimetype": "text/x-python",
   "name": "python",
   "nbconvert_exporter": "python",
   "pygments_lexer": "ipython3",
   "version": "3.9.13"
  }
 },
 "nbformat": 4,
 "nbformat_minor": 5
}
