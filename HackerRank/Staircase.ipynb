{
 "cells": [
  {
   "cell_type": "code",
   "execution_count": 83,
   "id": "02464a16",
   "metadata": {},
   "outputs": [
    {
     "name": "stdout",
     "output_type": "stream",
     "text": [
      "           #\n",
      "          ##\n",
      "         ###\n",
      "        ####\n",
      "       #####\n",
      "      ######\n",
      "     #######\n",
      "    ########\n",
      "   #########\n",
      "  ##########\n",
      " ###########\n",
      "############\n"
     ]
    }
   ],
   "source": [
    "def staircase(n):\n",
    "    symbol = \"#\"\n",
    "    for i in range(n):\n",
    "        print(f\"{symbol * (i + 1)}\".rjust(n))\n",
    "        \n",
    "\n",
    "case_1 = staircase(5)\n"
   ]
  },
  {
   "cell_type": "code",
   "execution_count": 94,
   "id": "163ccd26",
   "metadata": {},
   "outputs": [
    {
     "name": "stdout",
     "output_type": "stream",
     "text": [
      "    #\n",
      "   ##\n",
      "  ###\n",
      " ####\n",
      "#####\n"
     ]
    }
   ],
   "source": [
    "def staircase(n):\n",
    "    for i in range(1, n + 1):\n",
    "        spaces = ' ' * (n - i)\n",
    "        symbols = \"#\" * i\n",
    "        print(spaces + symbols)\n",
    "    \n",
    "staircase(5)"
   ]
  },
  {
   "cell_type": "code",
   "execution_count": null,
   "id": "f024be16",
   "metadata": {},
   "outputs": [],
   "source": []
  }
 ],
 "metadata": {
  "kernelspec": {
   "display_name": "Python 3 (ipykernel)",
   "language": "python",
   "name": "python3"
  },
  "language_info": {
   "codemirror_mode": {
    "name": "ipython",
    "version": 3
   },
   "file_extension": ".py",
   "mimetype": "text/x-python",
   "name": "python",
   "nbconvert_exporter": "python",
   "pygments_lexer": "ipython3",
   "version": "3.9.13"
  }
 },
 "nbformat": 4,
 "nbformat_minor": 5
}
