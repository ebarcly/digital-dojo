{
 "cells": [
  {
   "cell_type": "code",
   "execution_count": 89,
   "id": "abbd59cf",
   "metadata": {},
   "outputs": [],
   "source": [
    "def topKFrequent(nums, k):\n",
    "\n",
    "    freq_counter = {}\n",
    "    sort_freq = [[] for i in range(len(nums) + 1)]\n",
    "    # output list\n",
    "    result = []\n",
    "    \n",
    "    # hash elements to the ht\n",
    "    for n in nums:\n",
    "        freq_counter[n] = 1 + freq_counter.get(n, 0)\n",
    "    # sorting elements\n",
    "    for i, v in freq_counter.items():\n",
    "        sort_freq[v].append(i)\n",
    "    \n",
    "    for i in range(len(sort_freq) -1, 0, -1):\n",
    "        for n in sort_freq[i]:\n",
    "            result.append(n)\n",
    "            if len(result) == k:\n",
    "                return result"
   ]
  },
  {
   "cell_type": "code",
   "execution_count": 90,
   "id": "2ee3921c",
   "metadata": {},
   "outputs": [
    {
     "data": {
      "text/plain": [
       "[1, 2]"
      ]
     },
     "execution_count": 90,
     "metadata": {},
     "output_type": "execute_result"
    }
   ],
   "source": [
    "topKFrequent(nums = [1,1,1,2,2,3], k = 2)"
   ]
  },
  {
   "cell_type": "code",
   "execution_count": null,
   "id": "2abf1631",
   "metadata": {},
   "outputs": [],
   "source": []
  },
  {
   "cell_type": "code",
   "execution_count": null,
   "id": "0ec7f04d",
   "metadata": {},
   "outputs": [],
   "source": []
  }
 ],
 "metadata": {
  "kernelspec": {
   "display_name": "Python 3 (ipykernel)",
   "language": "python",
   "name": "python3"
  },
  "language_info": {
   "codemirror_mode": {
    "name": "ipython",
    "version": 3
   },
   "file_extension": ".py",
   "mimetype": "text/x-python",
   "name": "python",
   "nbconvert_exporter": "python",
   "pygments_lexer": "ipython3",
   "version": "3.9.13"
  }
 },
 "nbformat": 4,
 "nbformat_minor": 5
}
