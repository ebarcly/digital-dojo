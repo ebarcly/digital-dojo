{
 "cells": [
  {
   "cell_type": "code",
   "execution_count": 13,
   "id": "c7f320b7",
   "metadata": {},
   "outputs": [],
   "source": [
    "def wordPattern(pattern: str, s: str) -> bool:\n",
    "    # number of letters in pattern have to match number of words in string\n",
    "#     if len(pattern) != len(s.split()):\n",
    "#         return true\n",
    "    print(len(pattern))\n",
    "    print(len(s.split()))"
   ]
  },
  {
   "cell_type": "code",
   "execution_count": 15,
   "id": "b65ad697",
   "metadata": {},
   "outputs": [
    {
     "name": "stdout",
     "output_type": "stream",
     "text": [
      "4\n",
      "3\n"
     ]
    }
   ],
   "source": [
    "wordPattern(pattern=\"abba\", s=\"dog, cat, cat, dog\")"
   ]
  },
  {
   "cell_type": "code",
   "execution_count": null,
   "id": "030d3dab",
   "metadata": {},
   "outputs": [],
   "source": []
  }
 ],
 "metadata": {
  "kernelspec": {
   "display_name": "Python 3 (ipykernel)",
   "language": "python",
   "name": "python3"
  },
  "language_info": {
   "codemirror_mode": {
    "name": "ipython",
    "version": 3
   },
   "file_extension": ".py",
   "mimetype": "text/x-python",
   "name": "python",
   "nbconvert_exporter": "python",
   "pygments_lexer": "ipython3",
   "version": "3.9.13"
  }
 },
 "nbformat": 4,
 "nbformat_minor": 5
}
