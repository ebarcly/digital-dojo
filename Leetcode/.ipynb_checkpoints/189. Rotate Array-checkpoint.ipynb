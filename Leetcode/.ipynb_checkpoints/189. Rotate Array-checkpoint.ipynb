{
 "cells": [
  {
   "cell_type": "code",
   "execution_count": 349,
   "id": "25f795a2",
   "metadata": {},
   "outputs": [],
   "source": [
    "def rotate(nums: [int], k: int) -> None:\n",
    "    \"\"\"\n",
    "    Do not return anything, modify nums in-place instead.\n",
    "    \"\"\"\n",
    "    # edge: k larger than array\n",
    "    if k > len(nums):\n",
    "        k = k % len(nums)\n",
    "    \n",
    "    # helper function\n",
    "    def swap(start, end):\n",
    "        while start < end:\n",
    "            nums[start], nums[end] = nums[end], nums[start]\n",
    "            start += 1\n",
    "            end -= 1\n",
    "        \n",
    "    # reverse array\n",
    "    swap(0, len(nums)-1)\n",
    "        \n",
    "    # reverse k elements\n",
    "    swap(0, k-1)\n",
    "        \n",
    "     # reverse n - k elements\n",
    "    swap(k, len(nums)-1)"
   ]
  },
  {
   "cell_type": "code",
   "execution_count": 351,
   "id": "736b064f",
   "metadata": {},
   "outputs": [
    {
     "name": "stdout",
     "output_type": "stream",
     "text": [
      "[3, 4, 5, 6, 7, 1, 2]\n"
     ]
    }
   ],
   "source": [
    "rotate([1,2,3,4,5,6,7], 5)"
   ]
  },
  {
   "cell_type": "code",
   "execution_count": null,
   "id": "b37dde21",
   "metadata": {},
   "outputs": [],
   "source": []
  },
  {
   "cell_type": "code",
   "execution_count": null,
   "id": "460e1004",
   "metadata": {},
   "outputs": [],
   "source": []
  }
 ],
 "metadata": {
  "kernelspec": {
   "display_name": "Python 3 (ipykernel)",
   "language": "python",
   "name": "python3"
  },
  "language_info": {
   "codemirror_mode": {
    "name": "ipython",
    "version": 3
   },
   "file_extension": ".py",
   "mimetype": "text/x-python",
   "name": "python",
   "nbconvert_exporter": "python",
   "pygments_lexer": "ipython3",
   "version": "3.9.13"
  }
 },
 "nbformat": 4,
 "nbformat_minor": 5
}
