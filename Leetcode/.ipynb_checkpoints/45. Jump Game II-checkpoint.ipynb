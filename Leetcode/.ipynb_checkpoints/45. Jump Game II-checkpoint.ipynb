{
 "cells": [
  {
   "cell_type": "code",
   "execution_count": 62,
   "id": "3bab687d",
   "metadata": {},
   "outputs": [],
   "source": [
    "def jump(nums: [int]) -> int:\n",
    "    currEnd = 0\n",
    "    max_reach = 0\n",
    "    jumps = 0\n",
    "    \n",
    "    for i in range(len(nums)-1):\n",
    "        max_reach = max(max_reach, i + nums[i])        \n",
    "        if i == currEnd:\n",
    "            jumps += 1\n",
    "            currEnd = max_reach\n",
    "    return jumps\n"
   ]
  },
  {
   "cell_type": "code",
   "execution_count": 63,
   "id": "6600f138",
   "metadata": {},
   "outputs": [
    {
     "data": {
      "text/plain": [
       "2"
      ]
     },
     "execution_count": 63,
     "metadata": {},
     "output_type": "execute_result"
    }
   ],
   "source": [
    "jump([2,3,1,1,4])"
   ]
  },
  {
   "cell_type": "code",
   "execution_count": 64,
   "id": "9be0c2ab",
   "metadata": {},
   "outputs": [
    {
     "data": {
      "text/plain": [
       "2"
      ]
     },
     "execution_count": 64,
     "metadata": {},
     "output_type": "execute_result"
    }
   ],
   "source": [
    "jump([2,3,0,1,4])"
   ]
  },
  {
   "cell_type": "code",
   "execution_count": null,
   "id": "38633fd2",
   "metadata": {},
   "outputs": [],
   "source": []
  }
 ],
 "metadata": {
  "kernelspec": {
   "display_name": "Python 3 (ipykernel)",
   "language": "python",
   "name": "python3"
  },
  "language_info": {
   "codemirror_mode": {
    "name": "ipython",
    "version": 3
   },
   "file_extension": ".py",
   "mimetype": "text/x-python",
   "name": "python",
   "nbconvert_exporter": "python",
   "pygments_lexer": "ipython3",
   "version": "3.9.13"
  }
 },
 "nbformat": 4,
 "nbformat_minor": 5
}
