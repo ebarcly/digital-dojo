{
 "cells": [
  {
   "cell_type": "code",
   "execution_count": 70,
   "id": "ff0422c3",
   "metadata": {},
   "outputs": [],
   "source": [
    "def canPlaceFlowers(flowerbed: list[int], n: int) -> bool:\n",
    "    count = 0\n",
    "    i = 0\n",
    "    while i < len(flowerbed):\n",
    "        if flowerbed[i] == 0:\n",
    "            left = (i == 0) or flowerbed[i - 1] == 0\n",
    "            right = ( i == len(flowerbed) - 1) or (flowerbed[i + 1] == 0)\n",
    "            \n",
    "            if left and right:\n",
    "                flowerbed[i] = 1\n",
    "                count += 1\n",
    "                if count >= n :\n",
    "                    return True\n",
    "                i += 1\n",
    "        i += 1\n",
    "    return count >= n"
   ]
  },
  {
   "cell_type": "code",
   "execution_count": 72,
   "id": "825e16b8",
   "metadata": {},
   "outputs": [
    {
     "data": {
      "text/plain": [
       "False"
      ]
     },
     "execution_count": 72,
     "metadata": {},
     "output_type": "execute_result"
    }
   ],
   "source": [
    "canPlaceFlowers([1,0,0,0,1], 2)"
   ]
  },
  {
   "cell_type": "code",
   "execution_count": null,
   "id": "7ef11d1d",
   "metadata": {},
   "outputs": [],
   "source": []
  }
 ],
 "metadata": {
  "kernelspec": {
   "display_name": "Python 3 (ipykernel)",
   "language": "python",
   "name": "python3"
  },
  "language_info": {
   "codemirror_mode": {
    "name": "ipython",
    "version": 3
   },
   "file_extension": ".py",
   "mimetype": "text/x-python",
   "name": "python",
   "nbconvert_exporter": "python",
   "pygments_lexer": "ipython3",
   "version": "3.9.13"
  }
 },
 "nbformat": 4,
 "nbformat_minor": 5
}
