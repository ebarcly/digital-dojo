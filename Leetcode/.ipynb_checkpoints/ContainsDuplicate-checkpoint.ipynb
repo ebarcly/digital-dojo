{
 "cells": [
  {
   "cell_type": "code",
   "execution_count": 114,
   "id": "cb9cecf8",
   "metadata": {},
   "outputs": [],
   "source": [
    "def containsDuplicate(nums):\n",
    "    \n",
    "    counter = {}\n",
    "    \n",
    "    for i in nums:\n",
    "        counter[i] = counter.get(i,0) + 1\n",
    "        \n",
    "    if counter[i] >= 2:\n",
    "        return True\n",
    "    else:\n",
    "        return False\n",
    "    return counter"
   ]
  },
  {
   "cell_type": "code",
   "execution_count": 115,
   "id": "4fb8bb8c",
   "metadata": {},
   "outputs": [
    {
     "data": {
      "text/plain": [
       "True"
      ]
     },
     "execution_count": 115,
     "metadata": {},
     "output_type": "execute_result"
    }
   ],
   "source": [
    "containsDuplicate([2,14,18,22,22])"
   ]
  },
  {
   "cell_type": "code",
   "execution_count": 116,
   "id": "d38932b9",
   "metadata": {},
   "outputs": [
    {
     "data": {
      "text/plain": [
       "False"
      ]
     },
     "execution_count": 116,
     "metadata": {},
     "output_type": "execute_result"
    }
   ],
   "source": [
    "containsDuplicate([1,2,3,4])"
   ]
  },
  {
   "cell_type": "code",
   "execution_count": 117,
   "id": "26e161a6",
   "metadata": {},
   "outputs": [
    {
     "data": {
      "text/plain": [
       "False"
      ]
     },
     "execution_count": 117,
     "metadata": {},
     "output_type": "execute_result"
    }
   ],
   "source": [
    "containsDuplicate([0,4,5,0,3,6])"
   ]
  },
  {
   "cell_type": "code",
   "execution_count": null,
   "id": "f7462924",
   "metadata": {},
   "outputs": [],
   "source": []
  },
  {
   "cell_type": "code",
   "execution_count": 20,
   "id": "e28408e6",
   "metadata": {},
   "outputs": [],
   "source": [
    "def containsDuplicate2(nums):\n",
    "    seen = set()\n",
    "    counter = {}\n",
    "    \n",
    "    for i in nums:\n",
    "        if i in seen:\n",
    "            return True\n",
    "        else:\n",
    "            seen.add(i)\n",
    "            counter[i] = counter.get(i, 0) + 1\n",
    "            if counter[i] >= 2:\n",
    "                return True\n",
    "    \n",
    "    return False"
   ]
  },
  {
   "cell_type": "code",
   "execution_count": 21,
   "id": "8662f5db",
   "metadata": {},
   "outputs": [
    {
     "data": {
      "text/plain": [
       "True"
      ]
     },
     "execution_count": 21,
     "metadata": {},
     "output_type": "execute_result"
    }
   ],
   "source": [
    "containsDuplicate2([2,14,18,22,22])"
   ]
  },
  {
   "cell_type": "code",
   "execution_count": 12,
   "id": "dbe81ec3",
   "metadata": {},
   "outputs": [
    {
     "name": "stdout",
     "output_type": "stream",
     "text": [
      "1.29 µs ± 22.4 ns per loop (mean ± std. dev. of 7 runs, 1000000 loops each)\n",
      "692 ns ± 11.2 ns per loop (mean ± std. dev. of 7 runs, 1000000 loops each)\n"
     ]
    }
   ],
   "source": [
    "%timeit containsDuplicate([1,1,1,3,3,4,3,2,4,2,1,1,1,3,3,4,3,2,4,2,1,1,1,3,3,4,3,2,4,2,1,1,1,3,3,4,3,2,4,2,1,1,1,3,3,4,3,2,4,2,1,1,1,3,3,4,3,2,4,2,1,1,1,3,3,4,3,2,4,2,1,1,1,3,3,4,3,2,4,2,1,1,1,3,3,4,3,2,4,2,1,1,1,3,3,4,3,2,4,2,1,1,1,3,3,4,3,2,4,2])\n",
    "%timeit containsDuplicate2([1,1,1,3,3,4,3,2,4,2,1,1,1,3,3,4,3,2,4,2,1,1,1,3,3,4,3,2,4,2,1,1,1,3,3,4,3,2,4,2,1,1,1,3,3,4,3,2,4,2,1,1,1,3,3,4,3,2,4,2,1,1,1,3,3,4,3,2,4,2,1,1,1,3,3,4,3,2,4,2,1,1,1,3,3,4,3,2,4,2,1,1,1,3,3,4,3,2,4,2,1,1,1,3,3,4,3,2,4,2])"
   ]
  },
  {
   "cell_type": "code",
   "execution_count": null,
   "id": "dadcc02e",
   "metadata": {},
   "outputs": [],
   "source": []
  }
 ],
 "metadata": {
  "kernelspec": {
   "display_name": "Python 3 (ipykernel)",
   "language": "python",
   "name": "python3"
  },
  "language_info": {
   "codemirror_mode": {
    "name": "ipython",
    "version": 3
   },
   "file_extension": ".py",
   "mimetype": "text/x-python",
   "name": "python",
   "nbconvert_exporter": "python",
   "pygments_lexer": "ipython3",
   "version": "3.9.13"
  }
 },
 "nbformat": 4,
 "nbformat_minor": 5
}
