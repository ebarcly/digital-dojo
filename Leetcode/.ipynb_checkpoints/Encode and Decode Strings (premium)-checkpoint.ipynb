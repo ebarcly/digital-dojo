{
 "cells": [
  {
   "cell_type": "code",
   "execution_count": 16,
   "id": "bd0727da",
   "metadata": {},
   "outputs": [],
   "source": [
    "def encode(strs):\n",
    "    # write your code here\n",
    "    encoded = ''\n",
    "    \n",
    "    for s in strs:\n",
    "        encoded += str(len(s)) + ':' + s\n",
    "    return encoded\n",
    "    \n",
    "def decode(s):\n",
    "    decoded = []\n",
    "    start = 0\n",
    "\n",
    "    while start < len(s):\n",
    "        end = start\n",
    "        while s[end] != ':':\n",
    "            end += 1\n",
    "        length = int(s[start:end])\n",
    "        start = end + 1\n",
    "        end = start + length\n",
    "        decoded.append(s[start:end])\n",
    "        start = end\n",
    "    return decoded"
   ]
  },
  {
   "cell_type": "code",
   "execution_count": 17,
   "id": "690fb655",
   "metadata": {},
   "outputs": [
    {
     "data": {
      "text/plain": [
       "'4:lint4:code4:love3:you'"
      ]
     },
     "execution_count": 17,
     "metadata": {},
     "output_type": "execute_result"
    }
   ],
   "source": [
    "encode([\"lint\",\"code\",\"love\",\"you\"])"
   ]
  },
  {
   "cell_type": "code",
   "execution_count": 18,
   "id": "8b1d82e8",
   "metadata": {},
   "outputs": [
    {
     "ename": "ValueError",
     "evalue": "invalid literal for int() with base 10: ''",
     "output_type": "error",
     "traceback": [
      "\u001b[0;31m---------------------------------------------------------------------------\u001b[0m",
      "\u001b[0;31mValueError\u001b[0m                                Traceback (most recent call last)",
      "\u001b[0;32m/var/folders/xd/1cw16g4d0m94ftkyqspyyr9c0000gn/T/ipykernel_5834/344966380.py\u001b[0m in \u001b[0;36m<module>\u001b[0;34m\u001b[0m\n\u001b[0;32m----> 1\u001b[0;31m \u001b[0mdecode\u001b[0m\u001b[0;34m(\u001b[0m\u001b[0;34m'4:lint4:code4:love3:you'\u001b[0m\u001b[0;34m)\u001b[0m\u001b[0;34m\u001b[0m\u001b[0;34m\u001b[0m\u001b[0m\n\u001b[0m",
      "\u001b[0;32m/var/folders/xd/1cw16g4d0m94ftkyqspyyr9c0000gn/T/ipykernel_5834/437823837.py\u001b[0m in \u001b[0;36mdecode\u001b[0;34m(s)\u001b[0m\n\u001b[1;32m     15\u001b[0m         \u001b[0;32mwhile\u001b[0m \u001b[0ms\u001b[0m\u001b[0;34m[\u001b[0m\u001b[0mend\u001b[0m\u001b[0;34m]\u001b[0m \u001b[0;34m!=\u001b[0m \u001b[0;34m':'\u001b[0m\u001b[0;34m:\u001b[0m\u001b[0;34m\u001b[0m\u001b[0;34m\u001b[0m\u001b[0m\n\u001b[1;32m     16\u001b[0m             \u001b[0mend\u001b[0m \u001b[0;34m+=\u001b[0m \u001b[0;36m1\u001b[0m\u001b[0;34m\u001b[0m\u001b[0;34m\u001b[0m\u001b[0m\n\u001b[0;32m---> 17\u001b[0;31m         \u001b[0mlength\u001b[0m \u001b[0;34m=\u001b[0m \u001b[0mint\u001b[0m\u001b[0;34m(\u001b[0m\u001b[0ms\u001b[0m\u001b[0;34m[\u001b[0m\u001b[0mstart\u001b[0m\u001b[0;34m:\u001b[0m\u001b[0mend\u001b[0m\u001b[0;34m]\u001b[0m\u001b[0;34m)\u001b[0m\u001b[0;34m\u001b[0m\u001b[0;34m\u001b[0m\u001b[0m\n\u001b[0m\u001b[1;32m     18\u001b[0m         \u001b[0mstart\u001b[0m \u001b[0;34m=\u001b[0m \u001b[0mend\u001b[0m \u001b[0;34m+\u001b[0m \u001b[0;36m1\u001b[0m\u001b[0;34m\u001b[0m\u001b[0;34m\u001b[0m\u001b[0m\n\u001b[1;32m     19\u001b[0m         \u001b[0mend\u001b[0m \u001b[0;34m=\u001b[0m \u001b[0mstart\u001b[0m \u001b[0;34m+\u001b[0m \u001b[0mlength\u001b[0m\u001b[0;34m\u001b[0m\u001b[0;34m\u001b[0m\u001b[0m\n",
      "\u001b[0;31mValueError\u001b[0m: invalid literal for int() with base 10: ''"
     ]
    }
   ],
   "source": [
    "decode('4:lint4:code4:love3:you')"
   ]
  },
  {
   "cell_type": "code",
   "execution_count": null,
   "id": "435c3f81",
   "metadata": {},
   "outputs": [],
   "source": []
  }
 ],
 "metadata": {
  "kernelspec": {
   "display_name": "Python 3 (ipykernel)",
   "language": "python",
   "name": "python3"
  },
  "language_info": {
   "codemirror_mode": {
    "name": "ipython",
    "version": 3
   },
   "file_extension": ".py",
   "mimetype": "text/x-python",
   "name": "python",
   "nbconvert_exporter": "python",
   "pygments_lexer": "ipython3",
   "version": "3.9.13"
  }
 },
 "nbformat": 4,
 "nbformat_minor": 5
}
