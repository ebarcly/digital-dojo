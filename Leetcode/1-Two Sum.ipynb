{
 "cells": [
  {
   "cell_type": "code",
   "execution_count": 1,
   "metadata": {},
   "outputs": [],
   "source": [
    "def twoSum(nums: list[int], target: int) -> list[int]:  # \n",
    "    \"\"\"\n",
    "    Given an array of integers nums and an integer target, return indices of the two numbers such that they add up to target.\n",
    "    You may assume that each input would have exactly one solution, and you may not use the same element twice.\n",
    "    You can return the answer in any order.\n",
    "    \"\"\"\n",
    "    hashmap = {}  # create a hashmap to store the complement and index\n",
    " \n",
    "    for i, n in enumerate(nums):  # iterate through the list \n",
    "        diff = target - n  # find the complement of the current number\n",
    "        if diff in hashmap:  # if the complement is in the hashmap, return the index of the complement and the current number\n",
    "            return [hashmap[diff], i]  # return the index of the complement and the current number \n",
    "        hashmap[n] = i # add the current number and its index to the hashmap"
   ]
  },
  {
   "cell_type": "code",
   "execution_count": 2,
   "metadata": {},
   "outputs": [
    {
     "data": {
      "text/plain": [
       "[0, 1]"
      ]
     },
     "execution_count": 2,
     "metadata": {},
     "output_type": "execute_result"
    }
   ],
   "source": [
    "twoSum([2,7,11,15], 9)"
   ]
  },
  {
   "cell_type": "code",
   "execution_count": null,
   "metadata": {},
   "outputs": [],
   "source": [
    "# Q: What is th time complexity of this function? A: O(n) Q: Why? A: Because we are iterating through the list once.\n",
    "# Q: What is the space complexity of this function? A: O(n) Q: Why? A: Because we are creating a hashmap that is the same size as the list.\n",
    "# Q: Can you think of a way to make this function more efficient? A: No, I cannot think of a way to make this function more efficient."
   ]
  }
 ],
 "metadata": {
  "kernelspec": {
   "display_name": "base",
   "language": "python",
   "name": "python3"
  },
  "language_info": {
   "codemirror_mode": {
    "name": "ipython",
    "version": 3
   },
   "file_extension": ".py",
   "mimetype": "text/x-python",
   "name": "python",
   "nbconvert_exporter": "python",
   "pygments_lexer": "ipython3",
   "version": "3.9.13"
  },
  "orig_nbformat": 4
 },
 "nbformat": 4,
 "nbformat_minor": 2
}
