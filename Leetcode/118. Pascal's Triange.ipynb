{
 "cells": [
  {
   "cell_type": "code",
   "execution_count": 1,
   "metadata": {},
   "outputs": [],
   "source": [
    "def generate(numRows): # Space Complexity: O(n^2)\n",
    "    res = [] # Initialize the result\n",
    "    for i in range(numRows): # Loop through the rows of the triangle \n",
    "        res.append([1]*(i+1)) # Initialize the row with 1 \n",
    "        for j in range(1, i): # Loop through the columns of the triangle\n",
    "            res[i][j] = res[i-1][j-1] + res[i-1][j] # Use the formula to calculate the value\n",
    "    return res # Return the result \n"
   ]
  },
  {
   "cell_type": "code",
   "execution_count": 3,
   "metadata": {},
   "outputs": [
    {
     "data": {
      "text/plain": [
       "[[1], [1, 1], [1, 2, 1], [1, 3, 3, 1], [1, 4, 6, 4, 1], [1, 5, 10, 10, 5, 1]]"
      ]
     },
     "execution_count": 3,
     "metadata": {},
     "output_type": "execute_result"
    }
   ],
   "source": [
    "generate(6)"
   ]
  },
  {
   "cell_type": "code",
   "execution_count": 24,
   "metadata": {},
   "outputs": [],
   "source": [
    "def generate2(numRows): # Use the same array to store the result of each row and update it\n",
    "    \"\"\"\n",
    "    Time Complexity: O(n^2)\n",
    "    Space Complexity: \n",
    "    \"\"\"\n",
    "    if numRows == 0:  # Edge case\n",
    "        return []  \n",
    "    res = [[1]] # Initialize the result array with the first row\n",
    "    for i in range(1, numRows): # Iterate through each row starting from the second row\n",
    "        res.append([1]) # Add 1 at the beginning of each row\n",
    "        for j in range(len(res[i-1])-1):  # Iterate through each element in the previous row\n",
    "# Add the sum of the current element and the next element in the previous row to the current row\n",
    "            res[i].append(res[i-1][j] + res[i-1][j+1])  \n",
    "        res[i].append(1)    # Add 1 at the end of each row\n",
    "    return res  # Return the result array\n"
   ]
  },
  {
   "cell_type": "code",
   "execution_count": 25,
   "metadata": {},
   "outputs": [
    {
     "data": {
      "text/plain": [
       "[[1], [1, 1], [1, 2, 1], [1, 3, 3, 1], [1, 4, 6, 4, 1]]"
      ]
     },
     "execution_count": 25,
     "metadata": {},
     "output_type": "execute_result"
    }
   ],
   "source": [
    "generate2(5)"
   ]
  },
  {
   "cell_type": "code",
   "execution_count": null,
   "metadata": {},
   "outputs": [],
   "source": []
  }
 ],
 "metadata": {
  "kernelspec": {
   "display_name": "base",
   "language": "python",
   "name": "python3"
  },
  "language_info": {
   "codemirror_mode": {
    "name": "ipython",
    "version": 3
   },
   "file_extension": ".py",
   "mimetype": "text/x-python",
   "name": "python",
   "nbconvert_exporter": "python",
   "pygments_lexer": "ipython3",
   "version": "3.9.13"
  },
  "orig_nbformat": 4
 },
 "nbformat": 4,
 "nbformat_minor": 2
}
