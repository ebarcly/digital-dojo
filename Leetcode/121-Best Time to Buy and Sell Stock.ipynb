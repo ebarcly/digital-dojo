{
 "cells": [
  {
   "cell_type": "markdown",
   "metadata": {},
   "source": [
    "## 121. Best Time to Buy and Sell Stock\n",
    "\n",
    "## Solution: Max function\n",
    "\n"
   ]
  },
  {
   "cell_type": "code",
   "execution_count": 41,
   "metadata": {},
   "outputs": [],
   "source": [
    "def maxProfit(prices):\n",
    "\n",
    "    max_profit = 0\n",
    "\n",
    "    min_price = prices[0]\n",
    "    for price in prices:\n",
    "        if price < min_price:\n",
    "            min_price = price\n",
    "\n",
    "        max_profit = max(max_profit, price - min_price)\n",
    "    \n",
    "    return max_profit\n",
    "\n"
   ]
  },
  {
   "cell_type": "code",
   "execution_count": 42,
   "metadata": {},
   "outputs": [
    {
     "data": {
      "text/plain": [
       "5"
      ]
     },
     "execution_count": 42,
     "metadata": {},
     "output_type": "execute_result"
    }
   ],
   "source": [
    "maxProfit([7,1,5,3,6,4])"
   ]
  },
  {
   "cell_type": "markdown",
   "metadata": {},
   "source": [
    "### Solution 2: Two pointers\n",
    "\n",
    "In this solution, we will use two pointers to iterate through the list of prices and find the maximum profit.\n",
    "\n",
    "TIME COMPLEXITY: O(n)\n",
    "SPACE COMPLEXITY: O(1)\n",
    "\n",
    "Efficient solution using two pointers.\n",
    "\n"
   ]
  },
  {
   "cell_type": "code",
   "execution_count": 1,
   "metadata": {},
   "outputs": [],
   "source": [
    "def maxProfit(prices):\n",
    "    max_profit = 0\n",
    "\n",
    "    left = prices[0]\n",
    "\n",
    "    for right in prices:\n",
    "        if right < left:\n",
    "            left = right\n",
    "        elif right - left > max_profit:\n",
    "            max_profit = right - left\n",
    "        \n",
    "    return max_profit\n"
   ]
  },
  {
   "cell_type": "code",
   "execution_count": 3,
   "metadata": {},
   "outputs": [
    {
     "data": {
      "text/plain": [
       "3"
      ]
     },
     "execution_count": 3,
     "metadata": {},
     "output_type": "execute_result"
    }
   ],
   "source": [
    "### TEST CASES\n",
    "\n",
    "maxProfit([9,8,5,4,7,1])"
   ]
  },
  {
   "cell_type": "code",
   "execution_count": null,
   "metadata": {},
   "outputs": [],
   "source": []
  }
 ],
 "metadata": {
  "kernelspec": {
   "display_name": "base",
   "language": "python",
   "name": "python3"
  },
  "language_info": {
   "codemirror_mode": {
    "name": "ipython",
    "version": 3
   },
   "file_extension": ".py",
   "mimetype": "text/x-python",
   "name": "python",
   "nbconvert_exporter": "python",
   "pygments_lexer": "ipython3",
   "version": "3.9.13"
  }
 },
 "nbformat": 4,
 "nbformat_minor": 2
}
