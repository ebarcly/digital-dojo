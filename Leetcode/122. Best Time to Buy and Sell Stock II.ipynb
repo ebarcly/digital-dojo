{
 "cells": [
  {
   "cell_type": "code",
   "execution_count": 45,
   "id": "b32ed240",
   "metadata": {},
   "outputs": [],
   "source": [
    "def maxProfit2(prices: [int]) -> int:\n",
    "    min_price = prices[0]\n",
    "    max_profit = 0\n",
    "    \n",
    "    for i in range(len(prices)):\n",
    "        if prices[i] > min_price:\n",
    "            max_profit += prices[i] - min_price\n",
    "            min_price = prices[i]\n",
    "        min_price = prices[i]\n",
    "    return max_profit"
   ]
  },
  {
   "cell_type": "code",
   "execution_count": 46,
   "id": "00b13ec7",
   "metadata": {},
   "outputs": [
    {
     "data": {
      "text/plain": [
       "7"
      ]
     },
     "execution_count": 46,
     "metadata": {},
     "output_type": "execute_result"
    }
   ],
   "source": [
    "maxProfit2([7,1,5,3,6,4]) #7"
   ]
  },
  {
   "cell_type": "code",
   "execution_count": 47,
   "id": "3e628560",
   "metadata": {},
   "outputs": [
    {
     "data": {
      "text/plain": [
       "4"
      ]
     },
     "execution_count": 47,
     "metadata": {},
     "output_type": "execute_result"
    }
   ],
   "source": [
    "maxProfit2([1,2,3,4,5]) #4"
   ]
  },
  {
   "cell_type": "code",
   "execution_count": 48,
   "id": "7af7d336",
   "metadata": {},
   "outputs": [
    {
     "data": {
      "text/plain": [
       "0"
      ]
     },
     "execution_count": 48,
     "metadata": {},
     "output_type": "execute_result"
    }
   ],
   "source": [
    "maxProfit2([7,6,4,3,1]) #0"
   ]
  },
  {
   "cell_type": "code",
   "execution_count": 49,
   "id": "8ddb8226",
   "metadata": {},
   "outputs": [
    {
     "data": {
      "text/plain": [
       "7"
      ]
     },
     "execution_count": 49,
     "metadata": {},
     "output_type": "execute_result"
    }
   ],
   "source": [
    "maxProfit2([7,1,5,3,6])"
   ]
  },
  {
   "cell_type": "code",
   "execution_count": 44,
   "id": "34017da5",
   "metadata": {},
   "outputs": [
    {
     "data": {
      "text/plain": [
       "5"
      ]
     },
     "execution_count": 44,
     "metadata": {},
     "output_type": "execute_result"
    }
   ],
   "source": [
    "maxProfit2([10, 11, 6, 1, 5, 2, 2])"
   ]
  },
  {
   "cell_type": "code",
   "execution_count": 50,
   "id": "0edd17f3",
   "metadata": {},
   "outputs": [],
   "source": [
    "def maxProfit2Improved(prices: [int]) -> int:\n",
    "    max_profit = 0\n",
    "    \n",
    "    for i in range(1, len(prices)):\n",
    "        if prices[i] > prices[i-1]:\n",
    "            max_profit += prices[i] - prices[i-1]\n",
    "    return max_profit"
   ]
  },
  {
   "cell_type": "code",
   "execution_count": 54,
   "id": "e19980fb",
   "metadata": {},
   "outputs": [
    {
     "data": {
      "text/plain": [
       "7"
      ]
     },
     "execution_count": 54,
     "metadata": {},
     "output_type": "execute_result"
    }
   ],
   "source": [
    "maxProfit2Improved([7,1,5,3,6,4]) #7"
   ]
  },
  {
   "cell_type": "code",
   "execution_count": 55,
   "id": "e27bfa56",
   "metadata": {},
   "outputs": [
    {
     "data": {
      "text/plain": [
       "4"
      ]
     },
     "execution_count": 55,
     "metadata": {},
     "output_type": "execute_result"
    }
   ],
   "source": [
    "maxProfit2Improved([1,2,3,4,5]) #4"
   ]
  },
  {
   "cell_type": "code",
   "execution_count": 56,
   "id": "8a14cf8f",
   "metadata": {},
   "outputs": [
    {
     "data": {
      "text/plain": [
       "0"
      ]
     },
     "execution_count": 56,
     "metadata": {},
     "output_type": "execute_result"
    }
   ],
   "source": [
    "maxProfit2Improved([7,6,4,3,1]) #0"
   ]
  },
  {
   "cell_type": "code",
   "execution_count": 57,
   "id": "8da44ff8",
   "metadata": {},
   "outputs": [
    {
     "data": {
      "text/plain": [
       "5"
      ]
     },
     "execution_count": 57,
     "metadata": {},
     "output_type": "execute_result"
    }
   ],
   "source": [
    "maxProfit2Improved([10, 11, 6, 1, 5, 2, 2])"
   ]
  },
  {
   "cell_type": "code",
   "execution_count": null,
   "id": "16860a92",
   "metadata": {},
   "outputs": [],
   "source": []
  }
 ],
 "metadata": {
  "kernelspec": {
   "display_name": "Python 3 (ipykernel)",
   "language": "python",
   "name": "python3"
  },
  "language_info": {
   "codemirror_mode": {
    "name": "ipython",
    "version": 3
   },
   "file_extension": ".py",
   "mimetype": "text/x-python",
   "name": "python",
   "nbconvert_exporter": "python",
   "pygments_lexer": "ipython3",
   "version": "3.9.13"
  }
 },
 "nbformat": 4,
 "nbformat_minor": 5
}
