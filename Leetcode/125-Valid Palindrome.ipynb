{
 "cells": [
  {
   "cell_type": "markdown",
   "metadata": {},
   "source": [
    "Edge case: Empty string = True\n",
    "\n",
    "Clean up the str. lowercase + strip spaces\n",
    "\n",
    "loop through \n",
    "create two pointers: one at the begining of the string and another one at the end\n",
    "\n",
    "compare the characters of both ends and see if they match\n",
    "\n",
    "if the match till the index of both pointers is the same: the string is a palindrome\n",
    "\n",
    "else, if at some point one of the pointers characters is not the same, exit the loop and return false."
   ]
  },
  {
   "cell_type": "code",
   "execution_count": 108,
   "metadata": {},
   "outputs": [],
   "source": [
    "# import re\n",
    "\n",
    "# def isPalindrome(s) -> bool:\n",
    "#     if len(s) < 1:\n",
    "#         return True\n",
    "    \n",
    "#     # clean_str = ''.join(''.join(''.join(s.lower().split(' ')).split(',')).split(':'))\n",
    "#     pattern = re.compile(r'[^a-zA-Z0-9]')\n",
    "#     clean_str = pattern.sub('', s).lower()\n",
    "#     print(clean_str)\n",
    "#     return clean_str == clean_str[::-1]  \n"
   ]
  },
  {
   "cell_type": "code",
   "execution_count": 152,
   "metadata": {},
   "outputs": [],
   "source": [
    "# def isPalindrome(s) -> bool:\n",
    "#     if len(s) == 1:\n",
    "#         return True\n",
    "    \n",
    "#     new = []\n",
    "#     for i in s:\n",
    "#         if i.isdigit() or i.isalpha():\n",
    "#             new.append(i.lower())\n",
    "    \n",
    "#     left, right = 0, len(new) - 1\n",
    "#     while left <= right:\n",
    "#         if new[left] != new[right]:\n",
    "#             return False\n",
    "        \n",
    "#         left +=1\n",
    "#         right -=1\n",
    "#     return True"
   ]
  },
  {
   "cell_type": "code",
   "execution_count": 163,
   "metadata": {},
   "outputs": [],
   "source": [
    "def isPalindrome(s) -> bool:\n",
    "    if len(s) == 1:\n",
    "        return True\n",
    "    \n",
    "    new = ''\n",
    "    for i in s:\n",
    "        if i.isdigit() or i.isalpha():\n",
    "            new += i\n",
    "    new = new.lower()\n",
    "    \n",
    "    left, right = 0, len(new) - 1\n",
    "    while left <= right:\n",
    "        if new[left] != new[right]:\n",
    "            return False\n",
    "        \n",
    "        left +=1\n",
    "        right -=1\n",
    "    return True"
   ]
  },
  {
   "cell_type": "code",
   "execution_count": 164,
   "metadata": {},
   "outputs": [
    {
     "data": {
      "text/plain": [
       "True"
      ]
     },
     "execution_count": 164,
     "metadata": {},
     "output_type": "execute_result"
    }
   ],
   "source": [
    "isPalindrome(\"A man, a plan, a canal: Panama\")"
   ]
  },
  {
   "cell_type": "code",
   "execution_count": 160,
   "metadata": {},
   "outputs": [
    {
     "data": {
      "text/plain": [
       "False"
      ]
     },
     "execution_count": 160,
     "metadata": {},
     "output_type": "execute_result"
    }
   ],
   "source": [
    "isPalindrome(\"race a car\")"
   ]
  },
  {
   "cell_type": "code",
   "execution_count": 161,
   "metadata": {},
   "outputs": [
    {
     "data": {
      "text/plain": [
       "True"
      ]
     },
     "execution_count": 161,
     "metadata": {},
     "output_type": "execute_result"
    }
   ],
   "source": [
    "isPalindrome(\" \")"
   ]
  },
  {
   "cell_type": "code",
   "execution_count": 162,
   "metadata": {},
   "outputs": [
    {
     "data": {
      "text/plain": [
       "False"
      ]
     },
     "execution_count": 162,
     "metadata": {},
     "output_type": "execute_result"
    }
   ],
   "source": [
    "isPalindrome('0P')"
   ]
  },
  {
   "cell_type": "code",
   "execution_count": null,
   "metadata": {},
   "outputs": [],
   "source": []
  }
 ],
 "metadata": {
  "kernelspec": {
   "display_name": "base",
   "language": "python",
   "name": "python3"
  },
  "language_info": {
   "codemirror_mode": {
    "name": "ipython",
    "version": 3
   },
   "file_extension": ".py",
   "mimetype": "text/x-python",
   "name": "python",
   "nbconvert_exporter": "python",
   "pygments_lexer": "ipython3",
   "version": "3.9.13"
  }
 },
 "nbformat": 4,
 "nbformat_minor": 2
}
