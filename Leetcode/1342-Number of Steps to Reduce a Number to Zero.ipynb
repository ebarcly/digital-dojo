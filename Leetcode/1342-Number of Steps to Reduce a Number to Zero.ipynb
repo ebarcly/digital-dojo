{
 "cells": [
  {
   "cell_type": "code",
   "execution_count": 74,
   "metadata": {},
   "outputs": [],
   "source": [
    "def numberOfSteps(num) -> int:  # O(n) time and O(1) space\n",
    "    counter = 0  # counter to keep track of steps \n",
    "    while num != 0:  # while num is not 0 \n",
    "        if num % 2 == 0:  # if num is even \n",
    "            num /= 2  # divide by 2\n",
    "        else:  # if num is odd \n",
    "            num -= 1  # subtract 1\n",
    "        counter += 1 # increment counter \n",
    "    return counter  # return counter"
   ]
  },
  {
   "cell_type": "code",
   "execution_count": 75,
   "metadata": {},
   "outputs": [
    {
     "data": {
      "text/plain": [
       "8"
      ]
     },
     "execution_count": 75,
     "metadata": {},
     "output_type": "execute_result"
    }
   ],
   "source": [
    "numberOfSteps(30)"
   ]
  },
  {
   "cell_type": "code",
   "execution_count": 70,
   "metadata": {},
   "outputs": [],
   "source": [
    "def numberOfSteps2(num) -> int:  # O(1) time and O(1) space\n",
    "    # binary solution\n",
    "    return bin(num).count('1') - 1 + len(bin(num)) - 2\n",
    "\n",
    "# Intuition\n",
    "# Use binary representation of the number to solve the problem. \n",
    "# The number of steps is equal to the number of 1s in the binary representation of the number \n",
    "# plus the number of digits in the binary representation of the number minus 2. \n",
    "# This is because we have to subtract 1 from the number of 1s in the binary representation of the number to account for the last step of subtracting 1 from the number.(-1-1)= -2\n",
    "\n",
    "\n",
    "# Approach\n",
    "# <!-- Describe your approach to solving the problem. -->\n",
    "# 1. Convert the number to binary representation\n",
    "# 2. Count the number of 1s in the binary representation of the number\n",
    "# 3. Subtract 1 from the number of 1s in the binary representation of the number to account for the last step of subtracting 1 from the number\n",
    "# 4. Add the number of digits in the binary representation of the number minus 2 to the number of 1s in the binary representation of the number minus 1 to get the number of steps\n",
    "\n",
    "# Complexity\n",
    "# <!-- State the time and space complexity of your solution here. -->\n",
    "# - Time complexity: O(1)\n",
    "\n",
    "# - Space complexity:\n",
    "# <!-- Add your space complexity here:\n",
    "# - Time complexity: O(1)\n",
    "# - Space complexity: O(1)"
   ]
  },
  {
   "cell_type": "code",
   "execution_count": 72,
   "metadata": {},
   "outputs": [
    {
     "data": {
      "text/plain": [
       "8"
      ]
     },
     "execution_count": 72,
     "metadata": {},
     "output_type": "execute_result"
    }
   ],
   "source": [
    "numberOfSteps2(30)"
   ]
  },
  {
   "cell_type": "code",
   "execution_count": null,
   "metadata": {},
   "outputs": [],
   "source": []
  },
  {
   "cell_type": "code",
   "execution_count": null,
   "metadata": {},
   "outputs": [],
   "source": []
  }
 ],
 "metadata": {
  "kernelspec": {
   "display_name": "base",
   "language": "python",
   "name": "python3"
  },
  "language_info": {
   "name": "python",
   "version": "3.9.13"
  },
  "orig_nbformat": 4
 },
 "nbformat": 4,
 "nbformat_minor": 2
}
