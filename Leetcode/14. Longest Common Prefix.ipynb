{
 "cells": [
  {
   "cell_type": "code",
   "execution_count": 5,
   "metadata": {},
   "outputs": [],
   "source": [
    "def longestCommonPrefix(strs): # Time: O(n) Space: O(1)\n",
    "    if len(strs) == 0:\n",
    "        return \"\"\n",
    "\n",
    "    prefix = strs[0]  # Use any word as the starting prefix (vertical comparison)\n",
    "    for i in range(len(prefix)):  # Iterate over the index of the prefix word\n",
    "        for word in strs[1:]:  # Iterate over every word of the list of strs exept the prefix\n",
    "            if (i == len(word) or word[i] != prefix[i]): # if the actual index is equal to the len of the word we are out of bounds or if the word at index i is not equal to the word in the prefix base case we are done scaning \n",
    "                return prefix[:i]  # return the prefix string up till the point where our conditions matched\n",
    "\n",
    "    return prefix # If the prefix is the longest word then our prefix is the longest prefix"
   ]
  },
  {
   "cell_type": "code",
   "execution_count": 6,
   "metadata": {},
   "outputs": [
    {
     "data": {
      "text/plain": [
       "'fl'"
      ]
     },
     "execution_count": 6,
     "metadata": {},
     "output_type": "execute_result"
    }
   ],
   "source": [
    "longestCommonPrefix([\"flower\",\"flow\",\"flight\"])"
   ]
  },
  {
   "cell_type": "code",
   "execution_count": 10,
   "metadata": {},
   "outputs": [
    {
     "data": {
      "text/plain": [
       "'car'"
      ]
     },
     "execution_count": 10,
     "metadata": {},
     "output_type": "execute_result"
    }
   ],
   "source": [
    "longestCommonPrefix([\"car\",\"carro\",\"carriage\"])\n"
   ]
  },
  {
   "cell_type": "code",
   "execution_count": 2,
   "metadata": {},
   "outputs": [],
   "source": [
    "def longestCommonPrefix2(strs): # Time: O(n^2), Space: O(1)\n",
    "    \"\"\"\n",
    "    :type strs: List[str]\n",
    "    :rtype: str\n",
    "    \"\"\"\n",
    "    if not strs:\n",
    "        return \"\"\n",
    "    shortest = min(strs,key=len)\n",
    "    for i, ch in enumerate(shortest):\n",
    "        for other in strs:\n",
    "            if other[i] != ch:\n",
    "                return shortest[:i]\n",
    "    return shortest"
   ]
  },
  {
   "cell_type": "code",
   "execution_count": 3,
   "metadata": {},
   "outputs": [
    {
     "data": {
      "text/plain": [
       "'fl'"
      ]
     },
     "execution_count": 3,
     "metadata": {},
     "output_type": "execute_result"
    }
   ],
   "source": [
    "longestCommonPrefix2([\"flower\",\"flow\",\"flight\"])"
   ]
  },
  {
   "cell_type": "code",
   "execution_count": null,
   "metadata": {},
   "outputs": [],
   "source": []
  }
 ],
 "metadata": {
  "kernelspec": {
   "display_name": "base",
   "language": "python",
   "name": "python3"
  },
  "language_info": {
   "codemirror_mode": {
    "name": "ipython",
    "version": 3
   },
   "file_extension": ".py",
   "mimetype": "text/x-python",
   "name": "python",
   "nbconvert_exporter": "python",
   "pygments_lexer": "ipython3",
   "version": "3.9.13"
  },
  "orig_nbformat": 4
 },
 "nbformat": 4,
 "nbformat_minor": 2
}
