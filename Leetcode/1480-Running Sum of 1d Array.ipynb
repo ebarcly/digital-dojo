{
 "cells": [
  {
   "cell_type": "code",
   "execution_count": 82,
   "metadata": {},
   "outputs": [],
   "source": [
    "def runningSum(nums):\n",
    "    for i in range(1, len(nums)):  # logic: add the previous element to the current element and store it in the current element\n",
    "        nums[i] += nums[i - 1]     # range(1, len(nums)) because we don't want to add the first element to itself\n",
    "    return nums                    # nums[i] += nums[i - 1] because we want to add the previous element to the current element"
   ]
  },
  {
   "cell_type": "code",
   "execution_count": 81,
   "metadata": {},
   "outputs": [
    {
     "data": {
      "text/plain": [
       "[1, 3, 6, 10]"
      ]
     },
     "execution_count": 81,
     "metadata": {},
     "output_type": "execute_result"
    }
   ],
   "source": [
    "runningSum([1,2,3,4])"
   ]
  },
  {
   "attachments": {},
   "cell_type": "markdown",
   "metadata": {},
   "source": [
    "### Intuition:\n",
    "The logic is simple, we just need to add the previous sum to the current element and update the current element with the new sum. We can do this in-place, so we don't need to use extra space.\n",
    "The first line of code `range(1, len(nums))` because we don't want to add the first element to itself (since there is no previous element).\n",
    "Then, `nums[i] += nums[i - 1]` because we want to update the current element `i` with the new sum of the previous element `i - 1` and the current element `i`.\n",
    "### Solution:\n",
    "```python\n",
    "class Solution:\n",
    "    def runningSum(self, nums: List[int]) -> List[int]:\n",
    "        for i in range(1, len(nums)):\n",
    "            nums[i] += nums[i - 1]\n",
    "        return nums\n",
    "```\n",
    "### Time Complexity: O(n)\n",
    "### Space Complexity: O(n)\n"
   ]
  },
  {
   "cell_type": "code",
   "execution_count": null,
   "metadata": {},
   "outputs": [],
   "source": []
  },
  {
   "cell_type": "code",
   "execution_count": null,
   "metadata": {},
   "outputs": [],
   "source": []
  }
 ],
 "metadata": {
  "kernelspec": {
   "display_name": "base",
   "language": "python",
   "name": "python3"
  },
  "language_info": {
   "codemirror_mode": {
    "name": "ipython",
    "version": 3
   },
   "file_extension": ".py",
   "mimetype": "text/x-python",
   "name": "python",
   "nbconvert_exporter": "python",
   "pygments_lexer": "ipython3",
   "version": "3.9.13"
  },
  "orig_nbformat": 4
 },
 "nbformat": 4,
 "nbformat_minor": 2
}
