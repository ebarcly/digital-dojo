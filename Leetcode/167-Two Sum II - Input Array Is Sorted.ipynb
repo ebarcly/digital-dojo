{
 "cells": [
  {
   "cell_type": "markdown",
   "metadata": {},
   "source": [
    "# 167. Two Sum II - Input Array Is Sorted"
   ]
  },
  {
   "cell_type": "code",
   "execution_count": null,
   "metadata": {},
   "outputs": [],
   "source": []
  },
  {
   "cell_type": "code",
   "execution_count": 38,
   "metadata": {},
   "outputs": [],
   "source": [
    "def twoSum(numbers, target):\n",
    "    low = 0\n",
    "    high = len(numbers) - 1\n",
    "\n",
    "    while low < high:\n",
    "        if numbers[low] + numbers[high] > target:\n",
    "            high -= 1\n",
    "        elif numbers[low] + numbers[high] < target:\n",
    "            low += 1\n",
    "        else:\n",
    "            return [low + 1, high + 1]\n",
    "    "
   ]
  },
  {
   "cell_type": "code",
   "execution_count": 39,
   "metadata": {},
   "outputs": [
    {
     "data": {
      "text/plain": [
       "[1, 2]"
      ]
     },
     "execution_count": 39,
     "metadata": {},
     "output_type": "execute_result"
    }
   ],
   "source": [
    "twoSum([-3,3,4,90], 0)"
   ]
  },
  {
   "cell_type": "code",
   "execution_count": 40,
   "metadata": {},
   "outputs": [
    {
     "data": {
      "text/plain": [
       "[1, 2]"
      ]
     },
     "execution_count": 40,
     "metadata": {},
     "output_type": "execute_result"
    }
   ],
   "source": [
    "twoSum([2,7,11,15], 9)"
   ]
  },
  {
   "cell_type": "code",
   "execution_count": 41,
   "metadata": {},
   "outputs": [
    {
     "data": {
      "text/plain": [
       "[1, 3]"
      ]
     },
     "execution_count": 41,
     "metadata": {},
     "output_type": "execute_result"
    }
   ],
   "source": [
    "twoSum([2,3,4], 6)"
   ]
  },
  {
   "cell_type": "code",
   "execution_count": 42,
   "metadata": {},
   "outputs": [
    {
     "data": {
      "text/plain": [
       "[1, 2]"
      ]
     },
     "execution_count": 42,
     "metadata": {},
     "output_type": "execute_result"
    }
   ],
   "source": [
    "twoSum([-1,0], -1)"
   ]
  },
  {
   "cell_type": "markdown",
   "metadata": {},
   "source": [
    "This code implements a two-pointer technique to solve the \"Two Sum II - Input Array Is Sorted\" problem. The goal is to find two numbers in a sorted array that add up to a specific target number and return their indices (1-indexed). Here's a breakdown of how it works and its complexities:\n",
    "\n",
    "### How It Works:\n",
    "1. **Initialization**: Two pointers, [low] and [high], are initialized at the start and end of the array, respectively.\n",
    "2. **Iteration**: The code enters a loop that continues as long as [low]is less than [high].\n",
    "   - If the sum of `numbers[low] + numbers[high]` is greater than the target, it means the current sum is too large. To find a smaller sum, the `high` pointer is decremented.\n",
    "   - If the sum is less than the target, the current sum is too small. To increase the sum, the `low` pointer is incremented.\n",
    "   - If the sum exactly equals the target, the correct pair has been found, and the function returns their indices, adjusted to be 1-indexed by adding 1 to each.\n",
    "3. **Termination**: The loop continues until the correct pair is found or all possibilities are exhausted (when `low` meets `high`).\n",
    "\n",
    "### Time Complexity:\n",
    "- **O(n)**: Each element in the array is visited at most once. The `low` pointer moves strictly to the right, and the `high` pointer moves strictly to the left. This linear scan ensures that the algorithm has a linear time complexity.\n",
    "\n",
    "### Space Complexity:\n",
    "- **O(1)**: The space used by the algorithm is constant, regardless of the input array size. Only two pointers and a few variables are used, which occupy a constant amount of space.\n",
    "\n",
    "### Technical Aspects and Patterns for Interviews:\n",
    "- **Two-Pointer Technique**: This is a classic example of the two-pointer technique, which is highly effective for arrays that are sorted or partially sorted. It's a pattern worth remembering for solving similar problems that involve finding pairs or subarrays that meet certain criteria.\n",
    "- **No Extra Space Needed**: Unlike some other array manipulation problems that might require hash tables or sets to track seen elements, this approach does not require any additional data structures, making it space-efficient.\n",
    "- **1-Indexed Result**: It's important to note that the problem statement might require the result to be in a specific format. In this case, the indices are 1-indexed, which is a detail that can be easily overlooked.\n",
    "- **Edge Cases and Assumptions**: Always clarify or consider the assumptions about the input data. For this problem, the key assumptions include that the input array is sorted and that there is exactly one solution.\n",
    "\n",
    "Remembering these aspects and understanding the underlying principles behind the two-pointer technique can be very helpful in interviews, especially for problems involving arrays and searching."
   ]
  }
 ],
 "metadata": {
  "kernelspec": {
   "display_name": "base",
   "language": "python",
   "name": "python3"
  },
  "language_info": {
   "codemirror_mode": {
    "name": "ipython",
    "version": 3
   },
   "file_extension": ".py",
   "mimetype": "text/x-python",
   "name": "python",
   "nbconvert_exporter": "python",
   "pygments_lexer": "ipython3",
   "version": "3.9.13"
  }
 },
 "nbformat": 4,
 "nbformat_minor": 2
}
