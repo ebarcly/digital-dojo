{
 "cells": [
  {
   "attachments": {},
   "cell_type": "markdown",
   "metadata": {},
   "source": [
    "#### Solution 1:\n",
    "Using for loop and sum() function:"
   ]
  },
  {
   "cell_type": "code",
   "execution_count": 2,
   "metadata": {},
   "outputs": [],
   "source": [
    "def maximumWealth(accounts) -> int:  #  logic: sum of each list and return the max value\n",
    "    for i in range(len(accounts)):  #  iterate over the list of lists\n",
    "        accounts[i] = sum(accounts[i])  #  sum each list and replace it with the sum\n",
    "    return max(accounts)  #  return the max value of the list"
   ]
  },
  {
   "cell_type": "code",
   "execution_count": 3,
   "metadata": {},
   "outputs": [
    {
     "data": {
      "text/plain": [
       "6"
      ]
     },
     "execution_count": 3,
     "metadata": {},
     "output_type": "execute_result"
    }
   ],
   "source": [
    "maximumWealth([[1,2,3],[3,2,1]])"
   ]
  },
  {
   "attachments": {},
   "cell_type": "markdown",
   "metadata": {},
   "source": [
    "#### Solution 2:\n",
    "Using list comprehension, max() and sum() functions:"
   ]
  },
  {
   "cell_type": "code",
   "execution_count": 4,
   "metadata": {},
   "outputs": [],
   "source": [
    "def maximumWealth2(accounts) -> int: #  logic: sum of each list and return the max value\n",
    "    return max(sum(i) for i in accounts)  #  return the max value of the list of lists"
   ]
  },
  {
   "cell_type": "code",
   "execution_count": 5,
   "metadata": {},
   "outputs": [
    {
     "data": {
      "text/plain": [
       "6"
      ]
     },
     "execution_count": 5,
     "metadata": {},
     "output_type": "execute_result"
    }
   ],
   "source": [
    "maximumWealth2([[1,2,3],[3,2,1]])"
   ]
  },
  {
   "attachments": {},
   "cell_type": "markdown",
   "metadata": {},
   "source": [
    "### Intuition:\n",
    "The idea is to sum each list and return the max value of the list. If we iterate over the list of lists and sum each list, we can replace the list with the sum of the list. Then, we can return the max value of the list.\n",
    "### Algorithm:\n",
    "1. Iterate over the list of lists.\n",
    "2. Sum each list and replace it with the sum.\n",
    "3. Return the max value of the list.\n",
    "\n",
    "### Solution:\n",
    "```python\n",
    "def maximumWealth(accounts) -> int:  #  logic: sum of each list and return the max value\n",
    "    for i in range(len(accounts)):  #  iterate over the list of lists\n",
    "        accounts[i] = sum(accounts[i])  #  sum each list and replace it with the sum\n",
    "    return max(accounts)  #  return the max value of the list\n",
    "```\n",
    "### Time Complexity: O(n)\n",
    "### Space Complexity: O(1)\n"
   ]
  },
  {
   "cell_type": "code",
   "execution_count": 18,
   "metadata": {},
   "outputs": [],
   "source": []
  }
 ],
 "metadata": {
  "kernelspec": {
   "display_name": "base",
   "language": "python",
   "name": "python3"
  },
  "language_info": {
   "codemirror_mode": {
    "name": "ipython",
    "version": 3
   },
   "file_extension": ".py",
   "mimetype": "text/x-python",
   "name": "python",
   "nbconvert_exporter": "python",
   "pygments_lexer": "ipython3",
   "version": "3.9.13"
  },
  "orig_nbformat": 4
 },
 "nbformat": 4,
 "nbformat_minor": 2
}
