{
 "cells": [
  {
   "cell_type": "code",
   "execution_count": 107,
   "id": "5576a13f",
   "metadata": {},
   "outputs": [],
   "source": [
    "def majorityElement(nums: list[int]) -> int:\n",
    "    \"\"\"\n",
    "     Boyer-Moore Voting Algorithm.\n",
    "    \"\"\"\n",
    "    candidate = 0\n",
    "    counter = 0\n",
    "    \n",
    "    for i in nums:\n",
    "        if counter == 0:\n",
    "            candidate = i\n",
    "        if i == candidate:\n",
    "            counter += 1\n",
    "        else:\n",
    "            counter -= 1\n",
    "    \n",
    "    # Recount\n",
    "    counter = 0\n",
    "    \n",
    "    for i in nums:\n",
    "        if i == candidate:\n",
    "            counter += 1\n",
    "    if counter > len(nums) / 2:\n",
    "        return candidate"
   ]
  },
  {
   "cell_type": "code",
   "execution_count": 108,
   "id": "9c4cb39b",
   "metadata": {},
   "outputs": [
    {
     "data": {
      "text/plain": [
       "2"
      ]
     },
     "execution_count": 108,
     "metadata": {},
     "output_type": "execute_result"
    }
   ],
   "source": [
    "majorityElement([2,2,1,1,2,2,1,1,2,2])"
   ]
  },
  {
   "cell_type": "code",
   "execution_count": null,
   "id": "b066a8b7",
   "metadata": {},
   "outputs": [],
   "source": []
  },
  {
   "cell_type": "code",
   "execution_count": null,
   "id": "83c02e0d",
   "metadata": {},
   "outputs": [],
   "source": []
  }
 ],
 "metadata": {
  "kernelspec": {
   "display_name": "Python 3 (ipykernel)",
   "language": "python",
   "name": "python3"
  },
  "language_info": {
   "codemirror_mode": {
    "name": "ipython",
    "version": 3
   },
   "file_extension": ".py",
   "mimetype": "text/x-python",
   "name": "python",
   "nbconvert_exporter": "python",
   "pygments_lexer": "ipython3",
   "version": "3.9.13"
  }
 },
 "nbformat": 4,
 "nbformat_minor": 5
}
