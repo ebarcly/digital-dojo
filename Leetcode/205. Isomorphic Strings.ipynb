{
 "cells": [
  {
   "cell_type": "code",
   "execution_count": 1,
   "metadata": {},
   "outputs": [],
   "source": [
    "def isIsomorphic(s: str, t: str) -> bool:\n",
    "    # edge case\n",
    "    if len(s) != len(t):\n",
    "        return False\n",
    "    \n",
    "    # hash tables / dict\n",
    "    table_s = {}\n",
    "    table_t = {}\n",
    "    \n",
    "    # algorithm to check if characters are not mapped already\n",
    "    for k, v in zip(s, t):  # use zip to yield values (k, v)\n",
    "        if k in table_s and table_s[k] != v:\n",
    "            return False\n",
    "        if v in table_t and table_t[v] != k:\n",
    "            return False\n",
    "        # create mappings if characters are not mapped already\n",
    "        table_s[k] = v\n",
    "        table_t[v] = k\n",
    "    # if they pass the checkpoint then all values are mapped correctly\n",
    "    return True\n",
    "isIsomorphic(\"egg\", \"add\")"
   ]
  },
  {
   "cell_type": "code",
   "execution_count": 3,
   "metadata": {},
   "outputs": [
    {
     "data": {
      "text/plain": [
       "True"
      ]
     },
     "execution_count": 3,
     "metadata": {},
     "output_type": "execute_result"
    }
   ],
   "source": [
    "isIsomorphic(\"egg\", \"add\")"
   ]
  },
  {
   "cell_type": "code",
   "execution_count": null,
   "metadata": {},
   "outputs": [],
   "source": []
  },
  {
   "cell_type": "code",
   "execution_count": null,
   "metadata": {},
   "outputs": [],
   "source": []
  },
  {
   "cell_type": "code",
   "execution_count": null,
   "metadata": {},
   "outputs": [],
   "source": []
  },
  {
   "cell_type": "code",
   "execution_count": null,
   "metadata": {},
   "outputs": [],
   "source": []
  },
  {
   "cell_type": "code",
   "execution_count": null,
   "metadata": {},
   "outputs": [],
   "source": []
  },
  {
   "cell_type": "code",
   "execution_count": null,
   "metadata": {},
   "outputs": [],
   "source": []
  },
  {
   "cell_type": "code",
   "execution_count": null,
   "metadata": {},
   "outputs": [],
   "source": []
  },
  {
   "cell_type": "code",
   "execution_count": null,
   "metadata": {},
   "outputs": [],
   "source": []
  },
  {
   "cell_type": "code",
   "execution_count": null,
   "metadata": {},
   "outputs": [],
   "source": []
  },
  {
   "cell_type": "code",
   "execution_count": null,
   "metadata": {},
   "outputs": [],
   "source": [
    "\n",
    "        \n",
    "#         mapping.setdefault(k)\n",
    "#         for v in t:\n",
    "#             mapping[k] = v\n",
    "            \n",
    "    \n",
    "#     for i, c in enumerate(t):\n",
    "#         if mapping[k] == s[i]:\n",
    "#             return True\n",
    "#         else:\n",
    "#             return False"
   ]
  },
  {
   "cell_type": "code",
   "execution_count": null,
   "metadata": {},
   "outputs": [],
   "source": []
  }
 ],
 "metadata": {
  "kernelspec": {
   "display_name": "Python 3 (ipykernel)",
   "language": "python",
   "name": "python3"
  },
  "language_info": {
   "codemirror_mode": {
    "name": "ipython",
    "version": 3
   },
   "file_extension": ".py",
   "mimetype": "text/x-python",
   "name": "python",
   "nbconvert_exporter": "python",
   "pygments_lexer": "ipython3",
   "version": "3.9.13"
  }
 },
 "nbformat": 4,
 "nbformat_minor": 2
}
