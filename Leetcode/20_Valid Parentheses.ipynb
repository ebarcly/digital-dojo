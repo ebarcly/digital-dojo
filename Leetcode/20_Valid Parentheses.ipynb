{
 "cells": [
  {
   "cell_type": "code",
   "execution_count": 103,
   "metadata": {},
   "outputs": [],
   "source": [
    "from typing import List, Dict\n",
    "\n",
    "def isValid(s: str) -> bool:\n",
    "    stack: List[str] = []\n",
    "    brackets: Dict[str, str] =  {')': '(', ']': '[', '}': '{'}\n",
    "\n",
    "    if len(s) < 2:\n",
    "        return False\n",
    "    \n",
    "    for char in s:\n",
    "        if char in '([{':\n",
    "            stack.append(char)\n",
    "        elif char in ')]}':\n",
    "            if not stack or stack[-1] != brackets[char]:\n",
    "                return False\n",
    "            stack.pop()\n",
    "\n",
    "    return len(stack) == 0\n"
   ]
  },
  {
   "cell_type": "code",
   "execution_count": 102,
   "metadata": {},
   "outputs": [
    {
     "data": {
      "text/plain": [
       "False"
      ]
     },
     "execution_count": 102,
     "metadata": {},
     "output_type": "execute_result"
    }
   ],
   "source": [
    "isValid(\"(]\")"
   ]
  },
  {
   "cell_type": "code",
   "execution_count": 8,
   "metadata": {},
   "outputs": [
    {
     "name": "stdout",
     "output_type": "stream",
     "text": [
      "(\n",
      "{\n",
      "[\n",
      "]\n",
      "}\n",
      ")\n"
     ]
    }
   ],
   "source": [
    "from typing import List\n",
    "a = \"({[]})\"\n",
    "for i in a:\n",
    "    if i in ('([{'):\n",
    "        print(i)\n",
    "    if i in (')]}'):\n",
    "        print(i)"
   ]
  },
  {
   "cell_type": "code",
   "execution_count": null,
   "metadata": {},
   "outputs": [],
   "source": []
  }
 ],
 "metadata": {
  "kernelspec": {
   "display_name": "Python 3",
   "language": "python",
   "name": "python3"
  },
  "language_info": {
   "codemirror_mode": {
    "name": "ipython",
    "version": 3
   },
   "file_extension": ".py",
   "mimetype": "text/x-python",
   "name": "python",
   "nbconvert_exporter": "python",
   "pygments_lexer": "ipython3",
   "version": "3.13.1"
  }
 },
 "nbformat": 4,
 "nbformat_minor": 2
}
