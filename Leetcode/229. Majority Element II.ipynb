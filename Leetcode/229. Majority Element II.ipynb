{
 "cells": [
  {
   "cell_type": "code",
   "execution_count": 13,
   "id": "33dbd845",
   "metadata": {},
   "outputs": [
    {
     "data": {
      "text/plain": [
       "[0]"
      ]
     },
     "execution_count": 13,
     "metadata": {},
     "output_type": "execute_result"
    }
   ],
   "source": [
    "def majorityElement(nums: list[int]) -> list[int]:\n",
    "    cand_1 = 0\n",
    "    cand_2 = 0\n",
    "    counter_1 = 0\n",
    "    counter_2 = 0\n",
    "\n",
    "    for i in nums:\n",
    "        if i == cand_1:\n",
    "            counter_1 += 1 \n",
    "        elif i == cand_2:\n",
    "            counter_2 += 1\n",
    "        elif counter_1 == 0:\n",
    "            cand_1 = i\n",
    "            counter_1 = 1\n",
    "        elif counter_2 == 0:\n",
    "            cand_2 = i\n",
    "            counter_2 = 1\n",
    "        else:\n",
    "            counter_1 -= 1\n",
    "            counter_2 -= 1\n",
    "        \n",
    "    # validation\n",
    "    counter_1 = 0\n",
    "    counter_2 = 0\n",
    "    for i in nums:\n",
    "        if i == cand_1:\n",
    "            counter_1 += 1\n",
    "        if i == cand_2:\n",
    "            counter_2 += 1\n",
    "    majors = []\n",
    "    if counter_1 > len(nums) / 3:\n",
    "        majors.append(cand_1)\n",
    "    if counter_2 > len(nums) / 3 and cand_2 != cand_1:\n",
    "        majors.append(cand_2)\n",
    "    return majors\n",
    "\n",
    "majorityElement([0,0,0])"
   ]
  },
  {
   "cell_type": "code",
   "execution_count": 14,
   "id": "cf6b65cb",
   "metadata": {},
   "outputs": [
    {
     "data": {
      "text/plain": [
       "[0]"
      ]
     },
     "execution_count": 14,
     "metadata": {},
     "output_type": "execute_result"
    }
   ],
   "source": [
    "majorityElement([0,0,0])"
   ]
  },
  {
   "cell_type": "code",
   "execution_count": null,
   "id": "dbbfb1fc",
   "metadata": {},
   "outputs": [],
   "source": []
  }
 ],
 "metadata": {
  "kernelspec": {
   "display_name": "Python 3 (ipykernel)",
   "language": "python",
   "name": "python3"
  },
  "language_info": {
   "codemirror_mode": {
    "name": "ipython",
    "version": 3
   },
   "file_extension": ".py",
   "mimetype": "text/x-python",
   "name": "python",
   "nbconvert_exporter": "python",
   "pygments_lexer": "ipython3",
   "version": "3.9.13"
  }
 },
 "nbformat": 4,
 "nbformat_minor": 5
}
