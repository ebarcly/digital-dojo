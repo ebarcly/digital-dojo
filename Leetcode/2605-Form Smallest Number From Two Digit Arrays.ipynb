{
 "cells": [
  {
   "cell_type": "code",
   "execution_count": 47,
   "metadata": {},
   "outputs": [],
   "source": [
    "def minNumber(nums1, nums2) -> int:\n",
    "    \"\"\"\n",
    "    Given two arrays of unique digits nums1 and nums2, return the smallest number that contains at least one digit from each array.\n",
    "    \"\"\"\n",
    "    # Check if there is a common element in both arrays \n",
    "    # If there is, we can return that element\n",
    "    # Time complexity: O(n)\n",
    "\n",
    "    if common := list(set(nums1) & set(nums2)):\n",
    "        # Ensure that we return the smallest common element\n",
    "        # I have seen solutions where sort is used instead of using min\n",
    "        # Time complexity when using sort: O(nlogn)\n",
    "        # Time complexity when using min: O(n)\n",
    "        return min(common)\n",
    "\n",
    "    # If there is no common element, we will have to create a \n",
    "    # new 2-digit element such that we get the smallest value\n",
    "    min1 = min(nums1)\n",
    "    min2 = min(nums2)\n",
    "\n",
    "    # We can return the smallest 2-digit element by concatenating the smallest elements\n",
    "    # Time complexity: O(1)\n",
    "    return min2*10 + min1 if min1 > min2 else min1* 10 + min2 "
   ]
  },
  {
   "cell_type": "code",
   "execution_count": 48,
   "metadata": {},
   "outputs": [
    {
     "data": {
      "text/plain": [
       "1"
      ]
     },
     "execution_count": 48,
     "metadata": {},
     "output_type": "execute_result"
    }
   ],
   "source": [
    "minNumber([6,4,3,7,2,1,8,5], [6,8,5,3,1,7,4,2]) # expected: 1\n"
   ]
  },
  {
   "cell_type": "code",
   "execution_count": 49,
   "metadata": {},
   "outputs": [
    {
     "data": {
      "text/plain": [
       "15"
      ]
     },
     "execution_count": 49,
     "metadata": {},
     "output_type": "execute_result"
    }
   ],
   "source": [
    "minNumber([4,1,3], [5,7]) # expected: 15\n"
   ]
  },
  {
   "cell_type": "code",
   "execution_count": 50,
   "metadata": {},
   "outputs": [
    {
     "data": {
      "text/plain": [
       "3"
      ]
     },
     "execution_count": 50,
     "metadata": {},
     "output_type": "execute_result"
    }
   ],
   "source": [
    "minNumber([3,5,2,6], [3,1,7]) # expected: 3"
   ]
  },
  {
   "cell_type": "code",
   "execution_count": null,
   "metadata": {},
   "outputs": [],
   "source": []
  }
 ],
 "metadata": {
  "kernelspec": {
   "display_name": "base",
   "language": "python",
   "name": "python3"
  },
  "language_info": {
   "codemirror_mode": {
    "name": "ipython",
    "version": 3
   },
   "file_extension": ".py",
   "mimetype": "text/x-python",
   "name": "python",
   "nbconvert_exporter": "python",
   "pygments_lexer": "ipython3",
   "version": "3.9.13"
  },
  "orig_nbformat": 4
 },
 "nbformat": 4,
 "nbformat_minor": 2
}
