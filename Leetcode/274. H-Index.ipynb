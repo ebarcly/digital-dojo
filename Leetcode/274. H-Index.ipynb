{
 "cells": [
  {
   "cell_type": "code",
   "execution_count": 271,
   "id": "27a28d62",
   "metadata": {},
   "outputs": [],
   "source": [
    "def hIndex(citations: [int]) -> int:\n",
    "    citations.sort()\n",
    "    n = len(citations)\n",
    "    \n",
    "    for i in range(n):\n",
    "        papers = n - 1\n",
    "        if citations[i] >= papers:\n",
    "            return papers\n",
    "    return 0"
   ]
  },
  {
   "cell_type": "code",
   "execution_count": 272,
   "id": "b9b76cd9",
   "metadata": {},
   "outputs": [
    {
     "data": {
      "text/plain": [
       "1"
      ]
     },
     "execution_count": 272,
     "metadata": {},
     "output_type": "execute_result"
    }
   ],
   "source": [
    "hIndex([2,2])"
   ]
  },
  {
   "cell_type": "code",
   "execution_count": 273,
   "id": "395db004",
   "metadata": {},
   "outputs": [
    {
     "data": {
      "text/plain": [
       "0"
      ]
     },
     "execution_count": 273,
     "metadata": {},
     "output_type": "execute_result"
    }
   ],
   "source": [
    "hIndex([0])"
   ]
  },
  {
   "cell_type": "code",
   "execution_count": 274,
   "id": "3385dfdb",
   "metadata": {},
   "outputs": [
    {
     "data": {
      "text/plain": [
       "0"
      ]
     },
     "execution_count": 274,
     "metadata": {},
     "output_type": "execute_result"
    }
   ],
   "source": [
    "hIndex([110])"
   ]
  },
  {
   "cell_type": "code",
   "execution_count": 275,
   "id": "757ccdd8",
   "metadata": {},
   "outputs": [
    {
     "data": {
      "text/plain": [
       "4"
      ]
     },
     "execution_count": 275,
     "metadata": {},
     "output_type": "execute_result"
    }
   ],
   "source": [
    "hIndex([3,0,6,1,5])"
   ]
  },
  {
   "cell_type": "code",
   "execution_count": 276,
   "id": "66021838",
   "metadata": {},
   "outputs": [
    {
     "data": {
      "text/plain": [
       "2"
      ]
     },
     "execution_count": 276,
     "metadata": {},
     "output_type": "execute_result"
    }
   ],
   "source": [
    "hIndex([1,3,1])"
   ]
  },
  {
   "cell_type": "code",
   "execution_count": 279,
   "id": "abebc061",
   "metadata": {},
   "outputs": [
    {
     "data": {
      "text/plain": [
       "8"
      ]
     },
     "execution_count": 279,
     "metadata": {},
     "output_type": "execute_result"
    }
   ],
   "source": [
    "hIndex([5,4,6,7,8,2,0,0,1]) # 001245678"
   ]
  },
  {
   "cell_type": "code",
   "execution_count": 278,
   "id": "d251ca1c",
   "metadata": {},
   "outputs": [
    {
     "data": {
      "text/plain": [
       "2"
      ]
     },
     "execution_count": 278,
     "metadata": {},
     "output_type": "execute_result"
    }
   ],
   "source": [
    "hIndex([0,1,2])"
   ]
  },
  {
   "cell_type": "code",
   "execution_count": 133,
   "id": "facfcbc0",
   "metadata": {},
   "outputs": [
    {
     "data": {
      "text/plain": [
       "2"
      ]
     },
     "execution_count": 133,
     "metadata": {},
     "output_type": "execute_result"
    }
   ],
   "source": [
    "hIndex([0,1,2,3])"
   ]
  },
  {
   "cell_type": "code",
   "execution_count": 134,
   "id": "b38d9ad7",
   "metadata": {},
   "outputs": [
    {
     "data": {
      "text/plain": [
       "1"
      ]
     },
     "execution_count": 134,
     "metadata": {},
     "output_type": "execute_result"
    }
   ],
   "source": [
    "hIndex([100])"
   ]
  },
  {
   "cell_type": "code",
   "execution_count": null,
   "id": "d6d80cb9",
   "metadata": {},
   "outputs": [],
   "source": []
  }
 ],
 "metadata": {
  "kernelspec": {
   "display_name": "Python 3 (ipykernel)",
   "language": "python",
   "name": "python3"
  },
  "language_info": {
   "codemirror_mode": {
    "name": "ipython",
    "version": 3
   },
   "file_extension": ".py",
   "mimetype": "text/x-python",
   "name": "python",
   "nbconvert_exporter": "python",
   "pygments_lexer": "ipython3",
   "version": "3.9.13"
  }
 },
 "nbformat": 4,
 "nbformat_minor": 5
}
