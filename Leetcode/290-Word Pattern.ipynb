{
 "cells": [
  {
   "cell_type": "code",
   "execution_count": 35,
   "metadata": {},
   "outputs": [
    {
     "data": {
      "text/plain": [
       "False"
      ]
     },
     "execution_count": 35,
     "metadata": {},
     "output_type": "execute_result"
    }
   ],
   "source": [
    "# Example 1:\n",
    "pattern1 = \"abba\"\n",
    "s1 = \"dog cat cat dog\"\n",
    "# Output: true\n",
    "\n",
    "# Example 2:\n",
    "pattern2 = \"abba\"\n",
    "s2 = \"dog cat cat fish\"\n",
    "# Output: false\n",
    "\n",
    "# Example 3:\n",
    "pattern3 = \"aaaa\"\n",
    "s3 = \"dog cat cat dog\"\n",
    "# Output: false\n",
    "\n",
    "\n",
    "# Approach 1: hash map\n",
    "def wordPattern (pattern: str, s: str) -> bool:\n",
    "\n",
    "    # Create two maps (Mapping letters to words and words to letters using dictionary is a straight fordward approach to solve this problem).\n",
    "    charToWords, wordsToChar = {}, {}\n",
    "\n",
    "    # Get an array of the words without spaces (clean the words of spaces)\n",
    "    strArray = s.split(' ')\n",
    "    \n",
    "    # Check if the lengths are equal, if not equall they cannot follow the same pattern (number of characters should be equal number of words for this to work).\n",
    "    if len(pattern) != len(strArray):\n",
    "        return False\n",
    "    \n",
    "    # Loop through the char in string and words in array simultaneously:\n",
    "    for char, word in zip(pattern, strArray):\n",
    "        # if either mapping does not match their corresponding assignment then the result is false.\n",
    "        if (char in charToWords and word != charToWords[char]) or (word in wordsToChar and char != wordsToChar[word]):\n",
    "            return False\n",
    "        charToWords[char] = word\n",
    "        wordsToChar[word] = char\n",
    "    return True\n",
    "\n",
    "wordPattern(pattern2, s2)"
   ]
  },
  {
   "cell_type": "code",
   "execution_count": null,
   "metadata": {},
   "outputs": [],
   "source": []
  }
 ],
 "metadata": {
  "kernelspec": {
   "display_name": "base",
   "language": "python",
   "name": "python3"
  },
  "language_info": {
   "codemirror_mode": {
    "name": "ipython",
    "version": 3
   },
   "file_extension": ".py",
   "mimetype": "text/x-python",
   "name": "python",
   "nbconvert_exporter": "python",
   "pygments_lexer": "ipython3",
   "version": "3.9.13"
  }
 },
 "nbformat": 4,
 "nbformat_minor": 2
}
