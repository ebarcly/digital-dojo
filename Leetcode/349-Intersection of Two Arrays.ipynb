{
 "cells": [
  {
   "cell_type": "code",
   "execution_count": 99,
   "metadata": {},
   "outputs": [],
   "source": [
    "def compile_ingredients(dishes):\n",
    "    \"\"\"Create a master list of ingredients.\n",
    "\n",
    "    :param dishes: list - of dish ingredient sets.\n",
    "    :return: set - of ingredients compiled from `dishes`.\n",
    "\n",
    "    This function should return a `set` of all ingredients from all listed dishes.\n",
    "    \"\"\"\n",
    "    dishes_set = []\n",
    "    for sets in dishes:\n",
    "        print(sets.union(sets))\n",
    "        # dishes_set.append(convert)\n",
    "    # return dishes_set"
   ]
  },
  {
   "cell_type": "code",
   "execution_count": 100,
   "metadata": {},
   "outputs": [
    {
     "name": "stdout",
     "output_type": "stream",
     "text": [
      "{'ginger', 'lemon juice', 'sesame seeds', 'corn starch', 'tofu', 'garlic', 'brown sugar', 'soy sauce'}\n",
      "{'arugula', 'pears', 'onions', 'blue cheese', 'pork tenderloin', 'black pepper', 'pine nuts', 'balsamic vinegar'}\n",
      "{'coconut water', 'mint leaves', 'lime juice', 'honeydew', 'salt', 'english cucumber'}\n"
     ]
    }
   ],
   "source": [
    "dishes = [ {'tofu', 'soy sauce', 'ginger', 'corn starch', 'garlic', 'brown sugar', 'sesame seeds', 'lemon juice'},\n",
    "           {'pork tenderloin', 'arugula', 'pears', 'blue cheese', 'pine nuts',\n",
    "           'balsamic vinegar', 'onions', 'black pepper'},\n",
    "           {'honeydew', 'coconut water', 'mint leaves', 'lime juice', 'salt', 'english cucumber'}]\n",
    "\n",
    "compile_ingredients(dishes)"
   ]
  },
  {
   "cell_type": "code",
   "execution_count": null,
   "metadata": {},
   "outputs": [],
   "source": []
  },
  {
   "cell_type": "code",
   "execution_count": null,
   "metadata": {},
   "outputs": [],
   "source": []
  }
 ],
 "metadata": {
  "kernelspec": {
   "display_name": "base",
   "language": "python",
   "name": "python3"
  },
  "language_info": {
   "codemirror_mode": {
    "name": "ipython",
    "version": 3
   },
   "file_extension": ".py",
   "mimetype": "text/x-python",
   "name": "python",
   "nbconvert_exporter": "python",
   "pygments_lexer": "ipython3",
   "version": "3.9.13"
  }
 },
 "nbformat": 4,
 "nbformat_minor": 2
}
