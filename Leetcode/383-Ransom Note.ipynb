{
 "cells": [
  {
   "cell_type": "code",
   "execution_count": 2,
   "metadata": {},
   "outputs": [],
   "source": [
    "def canConstruct(ransomNote, magazine):\n",
    "      \"\"\"\n",
    "      :type ransomNote: str\n",
    "      :type magazine: str\n",
    "      :rtype: bool\n",
    "      \"\"\"\n",
    "\n",
    "      # create a dictionary of the magazine - Why? Because we can use the dictionary to check if the ransomNote is in the magazine \n",
    "      mag_dict = {}\n",
    "\n",
    "      # loop through the magazine and add the letters to the dictionary\n",
    "      for i in magazine:\n",
    "            if i not in mag_dict:\n",
    "                  mag_dict[i] = 1\n",
    "            else:\n",
    "                  mag_dict[i] += 1\n",
    "\n",
    "      # loop through the ransomNote and check if the letters are in the dictionary\n",
    "      for i in ransomNote: \n",
    "            if i not in mag_dict:  # if the letter is not in the dictionary, return False\n",
    "                  return False\n",
    "            mag_dict[i] -= 1  # if the letter is in the dictionary, subtract 1 from the value\n",
    "            if mag_dict[i] < 0:  # if the value is less than 0, return False\n",
    "                  return False  \n",
    "      \n",
    "      return True  # if the ransomNote is in the magazine, return True"
   ]
  },
  {
   "cell_type": "code",
   "execution_count": 3,
   "metadata": {},
   "outputs": [
    {
     "data": {
      "text/plain": [
       "True"
      ]
     },
     "execution_count": 3,
     "metadata": {},
     "output_type": "execute_result"
    }
   ],
   "source": [
    "canConstruct(ransomNote=\"aa\", magazine=\"aab\")"
   ]
  },
  {
   "cell_type": "code",
   "execution_count": 4,
   "metadata": {},
   "outputs": [
    {
     "data": {
      "text/plain": [
       "True"
      ]
     },
     "execution_count": 4,
     "metadata": {},
     "output_type": "execute_result"
    }
   ],
   "source": [
    "canConstruct(ransomNote=\"car\", magazine=\"carwash\")\n"
   ]
  },
  {
   "cell_type": "code",
   "execution_count": 99,
   "metadata": {},
   "outputs": [],
   "source": [
    "def canConstruct2(ransomNote, magazine):\n",
    "        my_dict = {}\n",
    "        for c in magazine:\n",
    "            if c in my_dict:\n",
    "                my_dict[c] += 1\n",
    "            else:\n",
    "                my_dict[c] = 1\n",
    "        for c in ransomNote:\n",
    "            if c not in my_dict or my_dict[c] == 0:\n",
    "                return False\n",
    "            my_dict[c] -= 1\n",
    "        return True"
   ]
  },
  {
   "cell_type": "code",
   "execution_count": 93,
   "metadata": {},
   "outputs": [
    {
     "data": {
      "text/plain": [
       "True"
      ]
     },
     "execution_count": 93,
     "metadata": {},
     "output_type": "execute_result"
    }
   ],
   "source": [
    "canConstruct2(ransomNote=\"aa\", magazine=\"aab\")"
   ]
  },
  {
   "cell_type": "code",
   "execution_count": 105,
   "metadata": {},
   "outputs": [],
   "source": [
    "def canConstruct3(ransomNote: str, magazine: str) -> bool:\n",
    "        for c in ransomNote:\n",
    "            if c not in magazine:\n",
    "                return False\n",
    "            magazine = magazine.replace(c, '', 1)\n",
    "        return True\n",
    "        "
   ]
  },
  {
   "cell_type": "code",
   "execution_count": 106,
   "metadata": {},
   "outputs": [
    {
     "data": {
      "text/plain": [
       "True"
      ]
     },
     "execution_count": 106,
     "metadata": {},
     "output_type": "execute_result"
    }
   ],
   "source": [
    "canConstruct3(ransomNote=\"aa\", magazine=\"aab\")"
   ]
  },
  {
   "cell_type": "code",
   "execution_count": null,
   "metadata": {},
   "outputs": [],
   "source": []
  }
 ],
 "metadata": {
  "kernelspec": {
   "display_name": "base",
   "language": "python",
   "name": "python3"
  },
  "language_info": {
   "codemirror_mode": {
    "name": "ipython",
    "version": 3
   },
   "file_extension": ".py",
   "mimetype": "text/x-python",
   "name": "python",
   "nbconvert_exporter": "python",
   "pygments_lexer": "ipython3",
   "version": "3.9.13"
  },
  "orig_nbformat": 4
 },
 "nbformat": 4,
 "nbformat_minor": 2
}
