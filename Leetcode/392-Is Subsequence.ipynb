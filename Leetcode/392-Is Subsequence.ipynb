{
 "cells": [
  {
   "cell_type": "code",
   "execution_count": 11,
   "metadata": {},
   "outputs": [],
   "source": [
    "def isSubsequence(s: str, t: str) -> bool:\n",
    "    if s == 0:\n",
    "        return True\n",
    "    if t == 0:\n",
    "        return False\n",
    "    \n",
    "    i = 0\n",
    "    j = 0\n",
    "\n",
    "    while i < len(s) and j < len(t):\n",
    "        if s[i] == t[j]:\n",
    "            i += 1\n",
    "        j += 1\n",
    "    return i == len(s)"
   ]
  },
  {
   "cell_type": "code",
   "execution_count": 12,
   "metadata": {},
   "outputs": [
    {
     "data": {
      "text/plain": [
       "True"
      ]
     },
     "execution_count": 12,
     "metadata": {},
     "output_type": "execute_result"
    }
   ],
   "source": [
    "isSubsequence(\"cc\", \"fcfc\")"
   ]
  },
  {
   "cell_type": "code",
   "execution_count": 18,
   "metadata": {},
   "outputs": [],
   "source": [
    "# Can we do better? Yes, we can use binary search to find the next index of the character\n",
    "\n",
    "# Binary Search\n",
    "\n",
    "import collections\n",
    "\n",
    "\n",
    "def isSubsequenceBinary(s: str, t: str) -> bool:\n",
    "    if s == 0:\n",
    "        return True\n",
    "    if t == 0:\n",
    "        return False\n",
    "    \n",
    "    lookup = collections.defaultdict(list)\n",
    "    for i, char in enumerate(t):\n",
    "        lookup[char].append(i)\n",
    "    \n",
    "    index = 0\n",
    "    for char in s:\n",
    "        if char not in lookup:\n",
    "            return False\n",
    "        char_indexes = lookup[char]\n",
    "        found = False\n",
    "        for i in char_indexes:\n",
    "            if i >= index:\n",
    "                index = i + 1\n",
    "                found = True\n",
    "                break\n",
    "        if not found:\n",
    "            return False\n",
    "    return True"
   ]
  },
  {
   "cell_type": "code",
   "execution_count": null,
   "metadata": {},
   "outputs": [],
   "source": [
    "# What is the time complexity? O(nlogm) where n is the length of s and m is the length of t\n"
   ]
  },
  {
   "cell_type": "code",
   "execution_count": 19,
   "metadata": {},
   "outputs": [
    {
     "data": {
      "text/plain": [
       "True"
      ]
     },
     "execution_count": 19,
     "metadata": {},
     "output_type": "execute_result"
    }
   ],
   "source": [
    "# Tests\n",
    "isSubsequenceBinary(\"abc\", \"ahbgdc\")"
   ]
  },
  {
   "cell_type": "code",
   "execution_count": 14,
   "metadata": {},
   "outputs": [
    {
     "ename": "IndentationError",
     "evalue": "expected an indented block (2081859828.py, line 16)",
     "output_type": "error",
     "traceback": [
      "\u001b[0;36m  File \u001b[0;32m\"/var/folders/xd/1cw16g4d0m94ftkyqspyyr9c0000gn/T/ipykernel_6776/2081859828.py\"\u001b[0;36m, line \u001b[0;32m16\u001b[0m\n\u001b[0;31m    \u001b[0m\n\u001b[0m    ^\u001b[0m\n\u001b[0;31mIndentationError\u001b[0m\u001b[0;31m:\u001b[0m expected an indented block\n"
     ]
    }
   ],
   "source": [
    "def isSubsequence2(s: str, t: str) -> bool:\n",
    "\n",
    "    if not s:\n",
    "        return True\n",
    "    if not t:\n",
    "        return False\n",
    "\n",
    "    i = 0\n",
    "    j = 0\n",
    "\n",
    "    while i < len(s) and j < len(t):\n",
    "        if s[i] == t[j]:\n",
    "            i += 1\n",
    "            j += 1\n",
    "            if i == len(s):\n",
    "                "
   ]
  },
  {
   "cell_type": "code",
   "execution_count": 60,
   "metadata": {},
   "outputs": [],
   "source": [
    "isSubsequence2(\"ace\", \"ahbgdc\")"
   ]
  },
  {
   "cell_type": "code",
   "execution_count": 57,
   "metadata": {},
   "outputs": [
    {
     "data": {
      "text/plain": [
       "True"
      ]
     },
     "execution_count": 57,
     "metadata": {},
     "output_type": "execute_result"
    }
   ],
   "source": [
    "isSubsequence2(\"ace\", \"ahgdcffffe\")"
   ]
  },
  {
   "cell_type": "code",
   "execution_count": null,
   "metadata": {},
   "outputs": [],
   "source": []
  },
  {
   "cell_type": "code",
   "execution_count": null,
   "metadata": {},
   "outputs": [],
   "source": []
  }
 ],
 "metadata": {
  "kernelspec": {
   "display_name": "base",
   "language": "python",
   "name": "python3"
  },
  "language_info": {
   "codemirror_mode": {
    "name": "ipython",
    "version": 3
   },
   "file_extension": ".py",
   "mimetype": "text/x-python",
   "name": "python",
   "nbconvert_exporter": "python",
   "pygments_lexer": "ipython3",
   "version": "3.9.13"
  },
  "orig_nbformat": 4
 },
 "nbformat": 4,
 "nbformat_minor": 2
}
