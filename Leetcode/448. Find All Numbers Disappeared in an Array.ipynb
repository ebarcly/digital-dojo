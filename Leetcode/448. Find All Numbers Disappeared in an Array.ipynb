{
 "cells": [
  {
   "cell_type": "markdown",
   "id": "b2b2c761",
   "metadata": {},
   "source": [
    "### Approach\n",
    "\n",
    "Given that the numbers are between 1 and \\( n \\) (where \\( n \\) is the size of the list), each number in the list can be used as an index to the list. \n",
    "\n",
    "**Conceptual Step**:\n",
    "When you encounter a number in the array, consider marking the position indicated by that number. One way to mark it is by making the value at that position negative. This allows us to keep the original value (by taking the absolute value) while also marking the position.\n",
    "\n",
    "For example, if you encounter the number 4, you can make the value at index 3 (since indexes are 0-based) negative. If later you encounter another 4, the value at index 3 will already be negative, so you'll know you've seen a 4 before.\n",
    "\n",
    "**Once you've done this marking for every number in the array**, any position that has a positive value indicates that the number corresponding to that position (index + 1) was not present in the original array.\n",
    "\n",
    "Would you like to try implementing this approach based on the hint and conceptual steps?"
   ]
  },
  {
   "cell_type": "code",
   "execution_count": 256,
   "id": "ea988f3c",
   "metadata": {},
   "outputs": [],
   "source": [
    "def findDisappearedNumbers(nums):\n",
    "    # Initialize an empty list to store the results.\n",
    "    new = []\n",
    "    \n",
    "    # Iterate over each number in the list.\n",
    "    for i in range(len(nums)):\n",
    "        # Take the absolute value of nums[i] to get the original number\n",
    "        # (in case it was made negative in a previous iteration).\n",
    "        number = abs(nums[i])\n",
    "        \n",
    "        # If the corresponding position for this number hasn't been marked negative yet,\n",
    "        # mark it. This step helps us keep track of numbers we've already seen.\n",
    "        # The number itself acts as an index (hence number-1 because of 0-based indexing).\n",
    "        if nums[number-1] > 0:\n",
    "            nums[number-1] = -nums[number-1]\n",
    "            \n",
    "    # Now, iterate over the modified list to find positions that are positive.\n",
    "    # These positions+1 represent numbers that didn't appear in the original list.\n",
    "    for n in range(len(nums)):\n",
    "        if nums[n] > 0:\n",
    "            # Add 1 to convert from 0-based indexing to actual number.\n",
    "            new.append(n+1)\n",
    "    \n",
    "    # Return the list of missing numbers.\n",
    "    return new\n"
   ]
  },
  {
   "cell_type": "code",
   "execution_count": 257,
   "id": "dc5d5d11",
   "metadata": {},
   "outputs": [
    {
     "data": {
      "text/plain": [
       "[2]"
      ]
     },
     "execution_count": 257,
     "metadata": {},
     "output_type": "execute_result"
    }
   ],
   "source": [
    "findDisappearedNumbers([1,1])"
   ]
  },
  {
   "cell_type": "code",
   "execution_count": 258,
   "id": "0946dd9f",
   "metadata": {},
   "outputs": [
    {
     "data": {
      "text/plain": [
       "[5, 6]"
      ]
     },
     "execution_count": 258,
     "metadata": {},
     "output_type": "execute_result"
    }
   ],
   "source": [
    "findDisappearedNumbers([4,3,2,7,8,2,3,1])"
   ]
  },
  {
   "cell_type": "code",
   "execution_count": null,
   "id": "30725a12",
   "metadata": {},
   "outputs": [],
   "source": []
  },
  {
   "cell_type": "code",
   "execution_count": null,
   "id": "8ed3e35f",
   "metadata": {},
   "outputs": [],
   "source": []
  }
 ],
 "metadata": {
  "kernelspec": {
   "display_name": "Python 3 (ipykernel)",
   "language": "python",
   "name": "python3"
  },
  "language_info": {
   "codemirror_mode": {
    "name": "ipython",
    "version": 3
   },
   "file_extension": ".py",
   "mimetype": "text/x-python",
   "name": "python",
   "nbconvert_exporter": "python",
   "pygments_lexer": "ipython3",
   "version": "3.9.13"
  }
 },
 "nbformat": 4,
 "nbformat_minor": 5
}
