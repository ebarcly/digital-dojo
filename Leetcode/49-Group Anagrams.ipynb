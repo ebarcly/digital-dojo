{
 "cells": [
  {
   "cell_type": "code",
   "execution_count": 108,
   "metadata": {},
   "outputs": [],
   "source": [
    "from typing import List\n",
    "from collections import defaultdict\n",
    "def groupAnagrams(strs: List[str]) -> List[List[str]]:\n",
    "    \"\"\"\n",
    "    Given an array of strings, group anagrams together.\n",
    "    Let's optimize the solution.\n",
    "\n",
    "    \"\"\"\n",
    "    # Create a dictionary to store the words\n",
    "    # and their sorted version\n",
    "    anagrams = defaultdict(list) # defaultdict is a dictionary that has a default value for a key that does not exists\n",
    "    for s in strs:\n",
    "        count = [0] * 26\n",
    "\n",
    "        for c in s:\n",
    "            count[ord(c) - ord('a')] += 1\n",
    "\n",
    "        anagrams[tuple(count)].append(s)\n",
    "\n",
    "    return anagrams.values()\n",
    "\n"
   ]
  },
  {
   "cell_type": "code",
   "execution_count": 109,
   "metadata": {},
   "outputs": [
    {
     "data": {
      "text/plain": [
       "dict_values([['eat', 'tea', 'ate'], ['tan', 'nat'], ['bat']])"
      ]
     },
     "execution_count": 109,
     "metadata": {},
     "output_type": "execute_result"
    }
   ],
   "source": [
    "groupAnagrams([\"eat\",\"tea\",\"tan\",\"ate\",\"nat\",\"bat\"])"
   ]
  },
  {
   "cell_type": "code",
   "execution_count": 101,
   "metadata": {},
   "outputs": [],
   "source": [
    "# What is the time complexity? "
   ]
  },
  {
   "cell_type": "code",
   "execution_count": null,
   "metadata": {},
   "outputs": [],
   "source": []
  }
 ],
 "metadata": {
  "kernelspec": {
   "display_name": "base",
   "language": "python",
   "name": "python3"
  },
  "language_info": {
   "codemirror_mode": {
    "name": "ipython",
    "version": 3
   },
   "file_extension": ".py",
   "mimetype": "text/x-python",
   "name": "python",
   "nbconvert_exporter": "python",
   "pygments_lexer": "ipython3",
   "version": "3.9.13"
  },
  "orig_nbformat": 4
 },
 "nbformat": 4,
 "nbformat_minor": 2
}
