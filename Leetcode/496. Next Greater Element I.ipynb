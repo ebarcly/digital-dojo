{
 "cells": [
  {
   "cell_type": "markdown",
   "id": "cd2e81ce",
   "metadata": {},
   "source": [
    "### Naive"
   ]
  },
  {
   "cell_type": "code",
   "execution_count": 113,
   "id": "9fed644e",
   "metadata": {},
   "outputs": [
    {
     "data": {
      "text/plain": [
       "[-1, 3, -1]"
      ]
     },
     "execution_count": 113,
     "metadata": {},
     "output_type": "execute_result"
    }
   ],
   "source": [
    "def nextGreaterElement(nums1:list[int], nums2:list[int]) -> list[int]:\n",
    "    result = []\n",
    "    \n",
    "    for num in nums1:\n",
    "        found = False\n",
    "        start_index = nums2.index(num) if num in nums2 else 0\n",
    "        \n",
    "        for j in range(start_index, len(nums2)):\n",
    "            if nums2[j] > num:\n",
    "                result.append(nums2[j])\n",
    "                found = True\n",
    "                break\n",
    "        if not found:\n",
    "            result.append(-1)\n",
    "    return result\n",
    "\n",
    "nextGreaterElement([4,1,2], [1,3,4,2])"
   ]
  },
  {
   "cell_type": "code",
   "execution_count": 114,
   "id": "203074c2",
   "metadata": {},
   "outputs": [
    {
     "data": {
      "text/plain": [
       "[3, -1]"
      ]
     },
     "execution_count": 114,
     "metadata": {},
     "output_type": "execute_result"
    }
   ],
   "source": [
    "nextGreaterElement([2,4], [1,2,3,4])"
   ]
  },
  {
   "cell_type": "markdown",
   "id": "28afae7a",
   "metadata": {},
   "source": [
    "###  Efficient, using a Stack"
   ]
  },
  {
   "cell_type": "code",
   "execution_count": 119,
   "id": "8318f3d8",
   "metadata": {},
   "outputs": [
    {
     "data": {
      "text/plain": [
       "[-1, 3, -1]"
      ]
     },
     "execution_count": 119,
     "metadata": {},
     "output_type": "execute_result"
    }
   ],
   "source": [
    "def nextGreaterElement(nums1:list[int], nums2:list[int]) -> list[int]:\n",
    "    stack, mapping = [], {}\n",
    "    \n",
    "    for num in nums2:\n",
    "        while stack and stack[-1] < num:\n",
    "            mapping[stack.pop()] = num\n",
    "        stack.append(num)\n",
    "        \n",
    "    return [mapping.get(num, -1) for num in nums1]\n",
    "\n",
    "nextGreaterElement([4,1,2], [1,3,4,2])"
   ]
  },
  {
   "cell_type": "code",
   "execution_count": null,
   "id": "9713dcca",
   "metadata": {},
   "outputs": [],
   "source": []
  }
 ],
 "metadata": {
  "kernelspec": {
   "display_name": "Python 3 (ipykernel)",
   "language": "python",
   "name": "python3"
  },
  "language_info": {
   "codemirror_mode": {
    "name": "ipython",
    "version": 3
   },
   "file_extension": ".py",
   "mimetype": "text/x-python",
   "name": "python",
   "nbconvert_exporter": "python",
   "pygments_lexer": "ipython3",
   "version": "3.9.13"
  }
 },
 "nbformat": 4,
 "nbformat_minor": 5
}
