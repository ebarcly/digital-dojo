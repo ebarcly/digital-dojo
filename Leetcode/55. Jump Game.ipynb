{
 "cells": [
  {
   "cell_type": "code",
   "execution_count": 198,
   "id": "b82ece1b",
   "metadata": {},
   "outputs": [],
   "source": [
    "# Backwards Approach. Clever\n",
    "def canJump(nums: [int]) -> bool:\n",
    "    end = len(nums) - 1\n",
    "    \n",
    "    for i in range(len(nums) -2, -1, -1):\n",
    "        if i + nums[i] >= end:\n",
    "            end = i\n",
    "    return end == 0"
   ]
  },
  {
   "cell_type": "code",
   "execution_count": null,
   "id": "4899e09d",
   "metadata": {},
   "outputs": [],
   "source": [
    "# Forward Approach. Intuitive\n",
    "def canJump2(nums: [int]) -> bool:\n",
    "    max_reach = 0\n",
    "    \n",
    "    for i in range(len(nums)):\n",
    "        if i > max_reach:\n",
    "            return False\n",
    "        max_reach = max(max_reach, i + nums[i])\n",
    "        if max_reach >= len(nums) -1:\n",
    "            return True"
   ]
  },
  {
   "cell_type": "code",
   "execution_count": 199,
   "id": "e5585373",
   "metadata": {},
   "outputs": [
    {
     "data": {
      "text/plain": [
       "True"
      ]
     },
     "execution_count": 199,
     "metadata": {},
     "output_type": "execute_result"
    }
   ],
   "source": [
    "canJump([1,3,2]) #True"
   ]
  },
  {
   "cell_type": "code",
   "execution_count": 200,
   "id": "523c6280",
   "metadata": {},
   "outputs": [
    {
     "data": {
      "text/plain": [
       "True"
      ]
     },
     "execution_count": 200,
     "metadata": {},
     "output_type": "execute_result"
    }
   ],
   "source": [
    "canJump([2,3,1,1,4]) #true"
   ]
  },
  {
   "cell_type": "code",
   "execution_count": 201,
   "id": "e18bcce2",
   "metadata": {},
   "outputs": [
    {
     "data": {
      "text/plain": [
       "False"
      ]
     },
     "execution_count": 201,
     "metadata": {},
     "output_type": "execute_result"
    }
   ],
   "source": [
    "canJump([3,2,1,0,4]) #false"
   ]
  },
  {
   "cell_type": "code",
   "execution_count": 202,
   "id": "98c5c1eb",
   "metadata": {},
   "outputs": [
    {
     "data": {
      "text/plain": [
       "True"
      ]
     },
     "execution_count": 202,
     "metadata": {},
     "output_type": "execute_result"
    }
   ],
   "source": [
    "canJump([3,2,1])"
   ]
  },
  {
   "cell_type": "code",
   "execution_count": 203,
   "id": "e9822ee8",
   "metadata": {},
   "outputs": [
    {
     "data": {
      "text/plain": [
       "True"
      ]
     },
     "execution_count": 203,
     "metadata": {},
     "output_type": "execute_result"
    }
   ],
   "source": [
    "canJump([2,0])"
   ]
  },
  {
   "cell_type": "code",
   "execution_count": 204,
   "id": "ab404f9e",
   "metadata": {},
   "outputs": [
    {
     "data": {
      "text/plain": [
       "False"
      ]
     },
     "execution_count": 204,
     "metadata": {},
     "output_type": "execute_result"
    }
   ],
   "source": [
    "canJump([0,2,3])"
   ]
  },
  {
   "cell_type": "code",
   "execution_count": 205,
   "id": "46ef4fed",
   "metadata": {},
   "outputs": [
    {
     "data": {
      "text/plain": [
       "True"
      ]
     },
     "execution_count": 205,
     "metadata": {},
     "output_type": "execute_result"
    }
   ],
   "source": [
    "canJump([5,9,3,2,1,0,2,3,3,1,0,0])  # Should return True"
   ]
  },
  {
   "cell_type": "code",
   "execution_count": 206,
   "id": "5cd16586",
   "metadata": {},
   "outputs": [
    {
     "data": {
      "text/plain": [
       "True"
      ]
     },
     "execution_count": 206,
     "metadata": {},
     "output_type": "execute_result"
    }
   ],
   "source": [
    "canJump([4,2,0,0,1,1,4,4,4,0,4,0])  # Should return True"
   ]
  },
  {
   "cell_type": "code",
   "execution_count": 4,
   "id": "1d6bdeb7",
   "metadata": {},
   "outputs": [],
   "source": [
    "def canJump2(nums: [int]) -> bool:\n",
    "    max_reach = 0\n",
    "    \n",
    "    for i in range(len(nums)):\n",
    "        if i > max_reach:\n",
    "            return False\n",
    "        max_reach = max(max_reach, i + nums[i])\n",
    "        if max_reach >= len(nums) -1:\n",
    "            return True"
   ]
  },
  {
   "cell_type": "code",
   "execution_count": 5,
   "id": "c2deadf6",
   "metadata": {},
   "outputs": [
    {
     "data": {
      "text/plain": [
       "True"
      ]
     },
     "execution_count": 5,
     "metadata": {},
     "output_type": "execute_result"
    }
   ],
   "source": [
    "canJump2([5,9,3,2,1,0,2,3,3,1,0,0])  # Should return True"
   ]
  },
  {
   "cell_type": "code",
   "execution_count": null,
   "id": "40a50e87",
   "metadata": {},
   "outputs": [],
   "source": []
  }
 ],
 "metadata": {
  "kernelspec": {
   "display_name": "Python 3 (ipykernel)",
   "language": "python",
   "name": "python3"
  },
  "language_info": {
   "codemirror_mode": {
    "name": "ipython",
    "version": 3
   },
   "file_extension": ".py",
   "mimetype": "text/x-python",
   "name": "python",
   "nbconvert_exporter": "python",
   "pygments_lexer": "ipython3",
   "version": "3.9.13"
  }
 },
 "nbformat": 4,
 "nbformat_minor": 5
}
