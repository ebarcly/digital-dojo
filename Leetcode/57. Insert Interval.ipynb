{
 "cells": [
  {
   "cell_type": "code",
   "execution_count": 18,
   "metadata": {},
   "outputs": [],
   "source": [
    "# def insert(intervals, newInterval):\n",
    "#     result = []\n",
    "#     i = 0\n",
    "#     n = len(intervals)\n",
    "\n",
    "#     while i < n and intervals[i][1] < newInterval[0]:\n",
    "#         result.append(intervals[i])\n",
    "#         i += 1\n",
    "    \n",
    "#     # overlap: a1 < b2 and b1 < a2 --> [a1, b1 ,a2, b2]\n",
    "#     merged = [newInterval[0], newInterval[1]]\n",
    "#     while i < n and intervals[i][0] <= merged[1]:\n",
    "#         merged[0] = min(intervals[i][0], merged[0])\n",
    "#         merged[1] = max(intervals[i][1], merged[1])\n",
    "#         i += 1\n",
    "#     result.append(merged)\n",
    "\n",
    "#     # \n",
    "#     while i < n:\n",
    "#         result.append(intervals[i])\n",
    "#         i += 1\n",
    "\n",
    "#     return result"
   ]
  },
  {
   "cell_type": "code",
   "execution_count": 1,
   "metadata": {},
   "outputs": [],
   "source": [
    "def insert(intervals, newInterval):\n",
    "    res = []\n",
    "\n",
    "    for i in range(len(intervals)):\n",
    "        if newInterval[1] < intervals[i][0]:\n",
    "            res.append(newInterval)\n",
    "            return res + intervals[i:]\n",
    "        elif newInterval[0] > intervals[i][1]:\n",
    "            res.append(intervals[i])\n",
    "        else:\n",
    "            newInterval = [\n",
    "                min(intervals[i][0], newInterval[0]),\n",
    "                max(intervals[i][1], newInterval[1])\n",
    "            ]\n",
    "    res.append(newInterval)\n",
    "    return res"
   ]
  },
  {
   "cell_type": "code",
   "execution_count": 2,
   "metadata": {},
   "outputs": [
    {
     "data": {
      "text/plain": [
       "[[1, 7], [8, 9], [10, 13]]"
      ]
     },
     "execution_count": 2,
     "metadata": {},
     "output_type": "execute_result"
    }
   ],
   "source": [
    "intervals = [[1,3],[5,7],[8,9],[10,13]]\n",
    "newInterval = [2,6]\n",
    "insert(intervals, newInterval)"
   ]
  },
  {
   "cell_type": "code",
   "execution_count": 3,
   "metadata": {},
   "outputs": [
    {
     "data": {
      "text/plain": [
       "[[1, 2], [3, 10], [12, 16]]"
      ]
     },
     "execution_count": 3,
     "metadata": {},
     "output_type": "execute_result"
    }
   ],
   "source": [
    "intervals = [[1,2],[3,5],[6,7],[8,10],[12,16]]\n",
    "newInterval = [4,8]\n",
    "insert(intervals, newInterval)"
   ]
  },
  {
   "cell_type": "code",
   "execution_count": null,
   "metadata": {},
   "outputs": [],
   "source": []
  }
 ],
 "metadata": {
  "kernelspec": {
   "display_name": "Python 3",
   "language": "python",
   "name": "python3"
  },
  "language_info": {
   "codemirror_mode": {
    "name": "ipython",
    "version": 3
   },
   "file_extension": ".py",
   "mimetype": "text/x-python",
   "name": "python",
   "nbconvert_exporter": "python",
   "pygments_lexer": "ipython3",
   "version": "3.13.1"
  }
 },
 "nbformat": 4,
 "nbformat_minor": 2
}
