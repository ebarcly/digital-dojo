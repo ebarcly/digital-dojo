{
 "cells": [
  {
   "cell_type": "markdown",
   "metadata": {},
   "source": [
    "# Leetcode solution:"
   ]
  },
  {
   "cell_type": "code",
   "execution_count": 61,
   "metadata": {},
   "outputs": [],
   "source": [
    "# class MyHashSet:\n",
    "\n",
    "#     def __init__(self):\n",
    "#         self.hashset = []\n",
    "        \n",
    "#     def add(self, key: int) -> None:\n",
    "#         if not self.contains(key):\n",
    "#             self.hashset.append(key)\n",
    "\n",
    "#     def remove(self, key: int) -> None:\n",
    "#         if self.contains(key):\n",
    "#             self.hashset.remove(key)\n",
    "\n",
    "#     def contains(self, key: int) -> bool:\n",
    "#         return True if key in self.hashset else False\n",
    "    \n",
    "#     def size(self) -> int:\n",
    "#         return len(self.hashset)\n",
    "\n"
   ]
  },
  {
   "cell_type": "code",
   "execution_count": 62,
   "metadata": {},
   "outputs": [
    {
     "data": {
      "text/plain": [
       "1"
      ]
     },
     "execution_count": 62,
     "metadata": {},
     "output_type": "execute_result"
    }
   ],
   "source": [
    "# obj = MyHashSet()\n",
    "# obj.size()\n",
    "# obj.add(2)\n",
    "# obj.size()"
   ]
  },
  {
   "cell_type": "code",
   "execution_count": 64,
   "metadata": {},
   "outputs": [],
   "source": []
  },
  {
   "cell_type": "markdown",
   "metadata": {},
   "source": [
    "# Optimized Approach:\n",
    "\n",
    "In this implementation:\n",
    "\n",
    "- Bucket is a helper class that encapsulates the bucket's functionality (insert, delete, exists).\n",
    "- MyHashSet uses an array of Bucket instances. The key_space defines the number of buckets, which helps in reducing collision and distributing keys evenly.\n",
    "- Each key is assigned to a bucket based on the hash function (key % key_space).\n",
    "- The insert, remove, and contains methods are delegated to the corresponding bucket. \n",
    "- The time complexity is O(N/K) where N is the number of all possible keys and K is the number of buckets.\n"
   ]
  },
  {
   "cell_type": "code",
   "execution_count": 67,
   "metadata": {},
   "outputs": [],
   "source": [
    "class Bucket:\n",
    "    def __init__(self) -> None:\n",
    "        self.bucket = []\n",
    "    \n",
    "    def insert(self, key):\n",
    "        if key not in self.bucket:\n",
    "            self.bucket.append(key)\n",
    "\n",
    "    def delete(self, key):\n",
    "        if key in self.bucket:\n",
    "            self.bucket.remove(key)\n",
    "\n",
    "    def exists(self, key):\n",
    "        return key in self.bucket\n",
    "\n",
    "\n",
    "class MyHashSet:\n",
    "\n",
    "    def __init__(self) -> None:\n",
    "        self.key_space = 1024   # A prime number for better distribution\n",
    "        self.hash_table = [Bucket() for _ in range(self.key_space)]\n",
    "\n",
    "    def add (self, key: int) -> None:\n",
    "        hash_key = key % self.key_space\n",
    "        self.hash_table[hash_key].insert(key)\n",
    "\n",
    "    def remove (self, key: int) -> None:\n",
    "        hash_key = key % self.key_space\n",
    "        self.hash_table[hash_key].delete(key)\n",
    "\n",
    "    def contains (self, key: int) -> bool:\n",
    "        hash_key = key % self.key_space\n",
    "        return self.hash_table[hash_key].exists(key)"
   ]
  },
  {
   "cell_type": "code",
   "execution_count": 76,
   "metadata": {},
   "outputs": [],
   "source": [
    "obj = MyHashSet()\n",
    "obj.add(2)"
   ]
  },
  {
   "cell_type": "code",
   "execution_count": null,
   "metadata": {},
   "outputs": [],
   "source": []
  }
 ],
 "metadata": {
  "kernelspec": {
   "display_name": "base",
   "language": "python",
   "name": "python3"
  },
  "language_info": {
   "codemirror_mode": {
    "name": "ipython",
    "version": 3
   },
   "file_extension": ".py",
   "mimetype": "text/x-python",
   "name": "python",
   "nbconvert_exporter": "python",
   "pygments_lexer": "ipython3",
   "version": "3.9.13"
  }
 },
 "nbformat": 4,
 "nbformat_minor": 2
}
