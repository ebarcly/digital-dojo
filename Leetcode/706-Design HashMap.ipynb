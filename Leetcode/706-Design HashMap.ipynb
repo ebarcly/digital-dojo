{
 "cells": [
  {
   "cell_type": "code",
   "execution_count": null,
   "metadata": {},
   "outputs": [],
   "source": [
    "class Bucket:\n",
    "    \n",
    "    def __init__(self):\n",
    "        self.bucket = []\n",
    "    \n",
    "    def get(self, key):\n",
    "        for (k, v) in self.bucket:\n",
    "            if k == key:\n",
    "                return v\n",
    "        return -1\n",
    "    \n",
    "    def update(self, key, value):\n",
    "        for i, (k, v) in enumerate(self.bucket):\n",
    "            if k == key:\n",
    "                self.bucket[i] = (key, value)\n",
    "                return\n",
    "        self.bucket.append((key, value))\n",
    "    \n",
    "    def remove(self, key):\n",
    "        for i, (k, v) in enumerate(self.bucket):\n",
    "            if k == key:\n",
    "                del self.bucket[i]\n",
    "                break\n",
    "\n",
    "class MyHashMap:\n",
    "\n",
    "    def __init__(self):\n",
    "        self.key_space = 1024\n",
    "        self.hash_table = [Bucket() for _ in range(self.key_space)]\n",
    "\n",
    "    def put(self, key: int, value: int) -> None:\n",
    "        hash_key = key % self.key_space\n",
    "        self.hash_table[hash_key].update(key, value)\n",
    "        \n",
    "\n",
    "    def get(self, key: int) -> int:\n",
    "        hash_key = key % self.key_space\n",
    "        return self.hash_table[hash_key].get(key)\n",
    "\n",
    "    def remove(self, key: int) -> None:\n",
    "        hash_key = key % self.key_space\n",
    "        self.hash_table[hash_key].remove(key)\n",
    "\n",
    "\n",
    "# Your MyHashMap object will be instantiated and called as such:\n",
    "# obj = MyHashMap()\n",
    "# obj.put(key,value)\n",
    "# param_2 = obj.get(key)\n",
    "# obj.remove(key)"
   ]
  },
  {
   "cell_type": "code",
   "execution_count": null,
   "metadata": {},
   "outputs": [],
   "source": []
  }
 ],
 "metadata": {
  "language_info": {
   "name": "python"
  }
 },
 "nbformat": 4,
 "nbformat_minor": 2
}
