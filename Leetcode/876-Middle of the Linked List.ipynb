{
 "cells": [
  {
   "cell_type": "code",
   "execution_count": 24,
   "id": "6da04ff4",
   "metadata": {},
   "outputs": [],
   "source": [
    "#Definition for singly-linked list.\n",
    "class ListNode:\n",
    "    def __init__(self, val=0, next=None):\n",
    "        self.val = val\n",
    "        self.next = next\n",
    "class Solution:\n",
    "    def middleNode(self, head : ListNode) -> ListNode:\n",
    "        # Create two pointers\n",
    "        slow = head\n",
    "        fast = head\n",
    "\n",
    "        # fast pointer is moving twice as fast as slow so we need to check we always have space left to move\n",
    "        # When fast reaches the end of the list, slow must be in the middle.\n",
    "        while fast and fast.next:\n",
    "            slow = slow.next\n",
    "            fast = fast.next.next\n",
    "\n",
    "        return slow \n"
   ]
  },
  {
   "cell_type": "code",
   "execution_count": null,
   "id": "6b5c55fd",
   "metadata": {},
   "outputs": [],
   "source": [
    "# Q: What is th time complexity of this function? A: O(n) where n is the number of nodes in the list\n",
    "# Q: What is the space complexity of this function? A: O(1) we are not creating any new data structures\n",
    "# Q: Can we do better? A: No, we have to traverse the entire list to find the middle node.\n"
   ]
  }
 ],
 "metadata": {
  "kernelspec": {
   "display_name": "Python 3 (ipykernel)",
   "language": "python",
   "name": "python3"
  },
  "language_info": {
   "codemirror_mode": {
    "name": "ipython",
    "version": 3
   },
   "file_extension": ".py",
   "mimetype": "text/x-python",
   "name": "python",
   "nbconvert_exporter": "python",
   "pygments_lexer": "ipython3",
   "version": "3.9.13"
  }
 },
 "nbformat": 4,
 "nbformat_minor": 5
}
