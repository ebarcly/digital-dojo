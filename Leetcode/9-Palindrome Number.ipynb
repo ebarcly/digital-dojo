{
 "cells": [
  {
   "cell_type": "code",
   "execution_count": 1,
   "metadata": {},
   "outputs": [],
   "source": [
    "def isPalindrome(x: int) -> bool:  # solve without converting to string\n",
    "    \n",
    "    if x < 0:\n",
    "        return False\n",
    "    if x < 10:\n",
    "        return True\n",
    "    if x % 10 == 0:  # if last digit is 0, then x must be 0 to be palindrome\n",
    "        return False\n",
    "    rev = 0  # reverse of x\n",
    "    while x > rev:  # only need to check half of x\n",
    "        rev = rev * 10 + x % 10  # add last digit of x to rev\n",
    "        x //= 10  # remove last digit of x\n",
    "    return x in [rev, rev // 10]"
   ]
  },
  {
   "cell_type": "code",
   "execution_count": null,
   "metadata": {},
   "outputs": [],
   "source": [
    "# Essentially what this does is it reverses half of x and compares it to the other half\n",
    "# If x has an odd number of digits, then rev will have one more digit than x\n",
    "# So we need to check if x == rev // 10, which removes the middle digit of rev\n",
    "\n",
    "# Time complexity: O(log10(x))\n",
    "# Space complexity: O(1)"
   ]
  },
  {
   "cell_type": "code",
   "execution_count": null,
   "metadata": {},
   "outputs": [],
   "source": []
  }
 ],
 "metadata": {
  "kernelspec": {
   "display_name": "base",
   "language": "python",
   "name": "python3"
  },
  "language_info": {
   "codemirror_mode": {
    "name": "ipython",
    "version": 3
   },
   "file_extension": ".py",
   "mimetype": "text/x-python",
   "name": "python",
   "nbconvert_exporter": "python",
   "pygments_lexer": "ipython3",
   "version": "3.9.13"
  },
  "orig_nbformat": 4
 },
 "nbformat": 4,
 "nbformat_minor": 2
}
