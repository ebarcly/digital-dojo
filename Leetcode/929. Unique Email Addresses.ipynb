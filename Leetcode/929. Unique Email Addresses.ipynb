{
 "cells": [
  {
   "cell_type": "code",
   "execution_count": 98,
   "metadata": {},
   "outputs": [],
   "source": [
    "def numUniqueEmails(emails: [str]) -> int:  # Time O(n), Space O(n)\n",
    "    uniques = set()  # store unique emails on a set\n",
    "    for email in emails:  # loop through emails\n",
    "        local, domain = email.split(\"@\")  # isolate parts to apply rules\n",
    "        local = local.replace(\".\", \"\")  # replace dots for empty spaces\n",
    "        local = local.split(\"+\")[0]  # ignore characters after the \"+\" sign (if one)\n",
    "        email = f\"{local}@{domain}\"  # concatenate both parts\n",
    "        uniques.add(email)  # add them to the set\n",
    "    return len(uniques)  # the size of the set should be equal to the unique emails\n",
    "    \n"
   ]
  },
  {
   "cell_type": "code",
   "execution_count": 99,
   "metadata": {},
   "outputs": [
    {
     "data": {
      "text/plain": [
       "2"
      ]
     },
     "execution_count": 99,
     "metadata": {},
     "output_type": "execute_result"
    }
   ],
   "source": [
    "numUniqueEmails([\"test.email+alex@leetcode.com\",\"test.e.mail+bob.cathy@leetcode.com\",\"testemail+david@lee.tcode.com\"])"
   ]
  },
  {
   "cell_type": "code",
   "execution_count": null,
   "metadata": {},
   "outputs": [],
   "source": []
  }
 ],
 "metadata": {
  "kernelspec": {
   "display_name": "base",
   "language": "python",
   "name": "python3"
  },
  "language_info": {
   "codemirror_mode": {
    "name": "ipython",
    "version": 3
   },
   "file_extension": ".py",
   "mimetype": "text/x-python",
   "name": "python",
   "nbconvert_exporter": "python",
   "pygments_lexer": "ipython3",
   "version": "3.9.13"
  },
  "orig_nbformat": 4
 },
 "nbformat": 4,
 "nbformat_minor": 2
}
