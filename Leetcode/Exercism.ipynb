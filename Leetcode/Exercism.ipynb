{
 "cells": [
  {
   "cell_type": "code",
   "execution_count": 16,
   "metadata": {},
   "outputs": [],
   "source": [
    "def separate_appetizers(dishes, appetizers):\n",
    "    \"\"\"Determine which `dishes` are designated `appetizers` and remove them.\n",
    "\n",
    "    :param dishes: list - of dish names.\n",
    "    :param appetizers: list - of appetizer names.\n",
    "    :return: list - of dish names that do not appear on appetizer list.\n",
    "\n",
    "    The function should return the list of dish names with appetizer names removed.\n",
    "    Either list could contain duplicates and may require de-duping.\n",
    "    \"\"\"\n",
    "    return list(set(dishes).difference(appetizers))"
   ]
  },
  {
   "cell_type": "code",
   "execution_count": 18,
   "metadata": {},
   "outputs": [
    {
     "data": {
      "text/plain": [
       "['Vegetarian Khoresh Bademjan',\n",
       " 'Flank Steak with Chimichurri and Asparagus',\n",
       " 'Barley Risotto',\n",
       " 'Grilled Flank Steak with Caesar Salad']"
      ]
     },
     "execution_count": 18,
     "metadata": {},
     "output_type": "execute_result"
    }
   ],
   "source": [
    "dishes =    ['Avocado Deviled Eggs','Flank Steak with Chimichurri and Asparagus', 'Kingfish Lettuce Cups',\n",
    "             'Grilled Flank Steak with Caesar Salad','Vegetarian Khoresh Bademjan','Avocado Deviled Eggs',\n",
    "             'Barley Risotto','Kingfish Lettuce Cups']\n",
    "          \n",
    "appetizers = ['Kingfish Lettuce Cups','Avocado Deviled Eggs','Satay Steak Skewers',\n",
    "              'Dahi Puri with Black Chickpeas','Avocado Deviled Eggs','Asparagus Puffs',\n",
    "              'Asparagus Puffs']\n",
    "              \n",
    "separate_appetizers(dishes, appetizers)"
   ]
  },
  {
   "cell_type": "code",
   "execution_count": 19,
   "metadata": {},
   "outputs": [
    {
     "data": {
      "text/plain": [
       "['Vegetarian Khoresh Bademjan',\n",
       " 'Barley Risotto',\n",
       " 'Flank Steak with Chimichurri and Asparagus',\n",
       " 'Grilled Flank Steak with Caesar Salad']"
      ]
     },
     "execution_count": 19,
     "metadata": {},
     "output_type": "execute_result"
    }
   ],
   "source": []
  },
  {
   "cell_type": "code",
   "execution_count": 2,
   "metadata": {},
   "outputs": [],
   "source": [
    "\n",
    "def singleton_ingredients(dishes, intersection):\n",
    "    \"\"\"Determine which `dishes` have a singleton ingredient (an ingredient that only appears once across dishes).\n",
    "\n",
    "    :param dishes: list - of ingredient sets.\n",
    "    :param intersection: constant - can be one of `<CATEGORY>_INTERSECTIONS` constants imported from `sets_categories_data.py`.\n",
    "    :return: set - containing singleton ingredients.\n",
    "\n",
    "    Each dish is represented by a `set` of its ingredients.\n",
    "\n",
    "    Each `<CATEGORY>_INTERSECTIONS` is an `intersection` of all dishes in the category. `<CATEGORY>` can be any one of:\n",
    "        (VEGAN, VEGETARIAN, PALEO, KETO, or OMNIVORE).\n",
    "\n",
    "    The function should return a `set` of ingredients that only appear in a single dish.\n",
    "    \"\"\"\n",
    "    ingredients = set()\n",
    "    for dish in dishes:\n",
    "        ingredients = ingredients.union(dish)\n",
    "    return {ingredient for ingredient in ingredients if sum(ingredient in dish for dish in dishes) == 1}"
   ]
  },
  {
   "cell_type": "code",
   "execution_count": null,
   "metadata": {},
   "outputs": [],
   "source": [
    "def proverb(words):\n",
    "    \"\"\"For want of a horseshoe nail, a kingdom was lost, or so the saying goes.\n",
    "\n",
    "Given a list of inputs, generate the relevant proverb. For example, given the list [\"nail\", \"shoe\", \"horse\", \"rider\", \"message\", \"battle\", \"kingdom\"], you will output the full text of this proverbial rhyme:\n",
    "\n",
    "For want of a nail the shoe was lost.\n",
    "For want of a shoe the horse was lost.\n",
    "For want of a horse the rider was lost.\n",
    "For want of a rider the message was lost.\n",
    "For want of a message the battle was lost.\n",
    "For want of a battle the kingdom was lost.\n",
    "And all for the want of a nail.\n",
    "Note that the list of inputs may vary; your solution should be able to handle lists of arbitrary length and content. No line of the output text should be a static, unchanging string; all should vary according to the input given.\n",
    "\n",
    "In unpacking-and-multiple-assignment, you learned multiple techniques for working with lists/tuples of arbitrary length as well as function arguments of arbitrary length. This exercise would be a great place to practice those techniques.\n",
    "    \"\"\"\n",
    "    if not words:\n",
    "        return ''\n",
    "    proverb = []\n",
    "    for i in range(len(words) - 1):\n",
    "        proverb.append(f'For want of a {words[i]} the {words[i + 1]} was lost.')\n",
    "    proverb.append(f'And all for the want of a {words[0]}.')\n",
    "    return '\\n'.join(proverb)"
   ]
  }
 ],
 "metadata": {
  "kernelspec": {
   "display_name": "base",
   "language": "python",
   "name": "python3"
  },
  "language_info": {
   "codemirror_mode": {
    "name": "ipython",
    "version": 3
   },
   "file_extension": ".py",
   "mimetype": "text/x-python",
   "name": "python",
   "nbconvert_exporter": "python",
   "pygments_lexer": "ipython3",
   "version": "3.9.13"
  }
 },
 "nbformat": 4,
 "nbformat_minor": 2
}
