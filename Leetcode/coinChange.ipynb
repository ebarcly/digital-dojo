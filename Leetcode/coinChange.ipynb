{
 "cells": [
  {
   "cell_type": "code",
   "execution_count": 6,
   "metadata": {},
   "outputs": [
    {
     "data": {
      "text/plain": [
       "3"
      ]
     },
     "execution_count": 6,
     "metadata": {},
     "output_type": "execute_result"
    }
   ],
   "source": [
    "def change(coins, amount):\n",
    "    combinations = [0] * (amount + 1)\n",
    "    combinations[0] = 1\n",
    "\n",
    "    for coin in coins:\n",
    "        for j in range(coin, len(combinations)):\n",
    "            combinations[j] += combinations[j - coin]\n",
    "    \n",
    "    return combinations[amount]\n",
    "\n",
    "def coinChangeMin(coins, amount):\n",
    "    mapping = {0: 1}\n",
    "    \n",
    "    for i in range(1, amount + 1):\n",
    "        min_val = float('inf')\n",
    "        for coin in coins:\n",
    "            if i < coin:\n",
    "                continue\n",
    "            min_val = min(min_val, 1 + mapping.get(i - coin, float('inf')))\n",
    "        \n",
    "        mapping[i] = min_val\n",
    "\n",
    "    return -1 if mapping[amount] == float('inf') else mapping[amount] - 1\n",
    "\n",
    "change([1, 2, 5], 5)  \n",
    "coinChangeMin([1, 2, 5], 11)"
   ]
  },
  {
   "cell_type": "code",
   "execution_count": 4,
   "metadata": {},
   "outputs": [
    {
     "name": "stdout",
     "output_type": "stream",
     "text": [
      "5\n",
      "2\n"
     ]
    }
   ],
   "source": [
    "# Test\n",
    "coins = [1, 2, 5] \n",
    "amount = 6\n",
    "print(change(coins, amount))\n",
    "print(coinChangeMin(coins, amount))"
   ]
  },
  {
   "cell_type": "code",
   "execution_count": null,
   "metadata": {},
   "outputs": [],
   "source": []
  }
 ],
 "metadata": {
  "kernelspec": {
   "display_name": "Python 3",
   "language": "python",
   "name": "python3"
  },
  "language_info": {
   "codemirror_mode": {
    "name": "ipython",
    "version": 3
   },
   "file_extension": ".py",
   "mimetype": "text/x-python",
   "name": "python",
   "nbconvert_exporter": "python",
   "pygments_lexer": "ipython3",
   "version": "3.9.13"
  },
  "orig_nbformat": 4
 },
 "nbformat": 4,
 "nbformat_minor": 2
}
