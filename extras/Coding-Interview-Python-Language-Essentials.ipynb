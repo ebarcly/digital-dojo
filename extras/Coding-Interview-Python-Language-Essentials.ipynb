{
 "cells": [
  {
   "cell_type": "markdown",
   "id": "f702b6bb",
   "metadata": {},
   "source": [
    "## Coding Interview Python Language Essentials\n",
    "_________________________________________________________________________________"
   ]
  },
  {
   "cell_type": "markdown",
   "id": "8f8f6017",
   "metadata": {},
   "source": [
    "### 1. Hash - backed maps "
   ]
  },
  {
   "cell_type": "code",
   "execution_count": 10,
   "id": "8167113c",
   "metadata": {
    "collapsed": true
   },
   "outputs": [
    {
     "name": "stdout",
     "output_type": "stream",
     "text": [
      "BOB'S VALUE:\n",
      "2467\n",
      "\n",
      "ONLY KEYS:\n",
      "bob\n",
      "alice\n",
      "jack\n",
      "\n",
      "ONLY VALUES:\n",
      "2467\n",
      "1356\n",
      "5630\n"
     ]
    }
   ],
   "source": [
    "# define Dict\n",
    "thisdict = {\n",
    "    'bob' : 2467,\n",
    "    'alice' : 9452,\n",
    "    'jack' : 5630\n",
    "}\n",
    "\n",
    "# Get value by key\n",
    "print(\"BOB'S VALUE:\")\n",
    "x = thisdict['bob']\n",
    "print(x)\n",
    "\n",
    "# Set value by key\n",
    "thisdict[\"alice\"] = 1356\n",
    "\n",
    "# print all keys\n",
    "print(\"\\nONLY KEYS:\")\n",
    "for x in thisdict:\n",
    "    print(x)\n",
    "    \n",
    "# prin all values\n",
    "print(\"\\nONLY VALUES:\")\n",
    "for x in thisdict.values():\n",
    "    print(x)"
   ]
  },
  {
   "cell_type": "markdown",
   "id": "f4937003",
   "metadata": {},
   "source": [
    "### 2. Queue "
   ]
  },
  {
   "cell_type": "code",
   "execution_count": 25,
   "id": "31a115c9",
   "metadata": {
    "collapsed": true
   },
   "outputs": [
    {
     "data": {
      "text/plain": [
       "False"
      ]
     },
     "execution_count": 25,
     "metadata": {},
     "output_type": "execute_result"
    }
   ],
   "source": [
    "from queue import Queue\n",
    "\n",
    "# Init a queue\n",
    "q = Queue(maxsize = 3)\n",
    "\n",
    "# qsize() give the maxsize of the queue\n",
    "q.qsize()\n",
    "\n",
    "# Put an item into the queue\n",
    "q.put('a')\n",
    "q.put('f')\n",
    "q.put('z')\n",
    "\n",
    "# Return True if the queue is full, False otherwise (not reliable!)\n",
    "# use q.size() > n instead\n",
    "q.full()\n",
    "\n",
    "# Remove and return an item from the queue\n",
    "q.get()\n",
    "\n",
    "# Return True if the queue is empty, False otherwise (not reliable!)\n",
    "# use q.size() == 0 instead\n",
    "q.empty()"
   ]
  },
  {
   "cell_type": "markdown",
   "id": "e375f3af",
   "metadata": {},
   "source": [
    "### 3. Stack "
   ]
  },
  {
   "cell_type": "code",
   "execution_count": 30,
   "id": "1072826e",
   "metadata": {},
   "outputs": [],
   "source": [
    "# Approach 1\n",
    "stack = [3, 4, 5]\n",
    "stack.append(6)  # [3, 4, 5, 6]\n",
    "stack.pop()      # [3, 4, 5]\n",
    "\n",
    "# Approach 2\n",
    "class Stack:\n",
    "    def __init__(self):\n",
    "        self.stack = []\n",
    "        \n",
    "        # check if empty\n",
    "    def isEmpty(self):\n",
    "        return len(self.stack) == 0\n",
    "        \n",
    "        # push an element\n",
    "    def push(self, p):\n",
    "        self.stack.append(p)\n",
    "        \n",
    "        # remove and return an element\n",
    "    def pop(self):\n",
    "        return self.stack.pop()\n",
    "        \n",
    "        # return size of the queue\n",
    "    def size(self):\n",
    "        return len(self.stack)"
   ]
  },
  {
   "cell_type": "code",
   "execution_count": 36,
   "id": "c3e5389c",
   "metadata": {
    "collapsed": true
   },
   "outputs": [
    {
     "name": "stdout",
     "output_type": "stream",
     "text": [
      "1\n",
      "0\n"
     ]
    }
   ],
   "source": [
    "newStack = Stack()\n",
    "\n",
    "newStack.isEmpty()\n",
    "newStack.push(1)\n",
    "print(newStack.size())\n",
    "newStack.pop()\n",
    "print(newStack.size())"
   ]
  },
  {
   "cell_type": "markdown",
   "id": "7461f952",
   "metadata": {},
   "source": [
    "### 4. Exceptions "
   ]
  },
  {
   "cell_type": "code",
   "execution_count": 45,
   "id": "7b8a57b5",
   "metadata": {
    "collapsed": true
   },
   "outputs": [
    {
     "name": "stdout",
     "output_type": "stream",
     "text": [
      "Error: can't find file or read data\n",
      "Error can't find file or read data\n"
     ]
    }
   ],
   "source": [
    "try:\n",
    "    fh = open(\"testfile\", \"r\")\n",
    "    fh.write(\"This is my test file for exeption handling!\")\n",
    "except IOError:\n",
    "    print(\"Error: can\\'t find file or read data\")\n",
    "# No exception runs this code\n",
    "else:\n",
    "    print(\"Written content in the file successfully\")\n",
    "finally:\n",
    "    print(\"Error can\\'t find file or read data\")\n",
    "    \n",
    "# Raise an exception\n",
    "# x = 10\n",
    "# if x > 5:\n",
    "#     raise Exception(f'x should not exceed 5. The value of x is: {x}')\n",
    "    \n",
    "# Assert an error\n",
    "import sys\n",
    "# assert('linux' in sys.platform), \"This code runs on Linux only\""
   ]
  },
  {
   "cell_type": "markdown",
   "id": "af1396a0",
   "metadata": {},
   "source": [
    "### 5. Strings "
   ]
  },
  {
   "cell_type": "markdown",
   "id": "8602c142",
   "metadata": {},
   "source": [
    "`Strings in Python are treated as arrays of characters, allowing for various methods of accessing individual characters:`\n",
    "\n",
    "- **Indexing**: Access a character by its position (starting from 0).\n",
    "  \n",
    "  ```python\n",
    "  greet = 'hello'\n",
    "  print(greet[1])  # Output: e\n",
    "  ```\n",
    "\n",
    "- **Negative Indexing**: Access characters from the end of the string using negative indices.\n",
    "  \n",
    "  ```python\n",
    "  print(greet[-4])  # Output: l\n",
    "  ```\n",
    "\n",
    "- **Slicing**: Retrieve a substring by specifying a range.\n",
    "  \n",
    "  ```python\n",
    "  print(greet[1:4])  # Output: ell\n",
    "  ```\n",
    "\n",
    "#### String Length and Membership\n",
    "\n",
    "To determine the length of a string, use the `len()` function:\n",
    "\n",
    "```python\n",
    "print(len(a))  # Returns the length of string a\n",
    "```\n",
    "\n",
    "To check for the presence of a substring, use the `in` keyword:\n",
    "\n",
    "```python\n",
    "txt = \"The best things in life are free!\"\n",
    "print(\"free\" in txt)  # Output: True\n",
    "```\n",
    "\n",
    "#### String Manipulation\n",
    "\n",
    "Python strings come with numerous built-in methods for manipulation, including:\n",
    "\n",
    "- **Concatenation**: Combine strings using the `+` operator.\n",
    "  \n",
    "  ```python\n",
    "  greeting = \"Hello\" + \" \" + \"World!\"  # Output: Hello World!\n",
    "  ```\n",
    "\n",
    "- **Repetition**: Repeat strings using the `*` operator.\n",
    "  \n",
    "  ```python\n",
    "  repeated = \"Ha\" * 3  # Output: HaHaHa\n",
    "  ```\n",
    "\n",
    "- **Changing Case**: Use methods like `.upper()`, `.lower()`, and `.title()` to change string case.\n",
    "\n",
    "#### Special Characters and Escape Sequences\n",
    "\n",
    "Strings can include special characters using escape sequences. For example, to include a newline or a single quote within a string:\n",
    "\n",
    "```python\n",
    "print(\"Hello\\nWorld\")    # New line\n",
    "print('It\\'s alright')    # Single quote\n",
    "```"
   ]
  },
  {
   "cell_type": "markdown",
   "id": "77258034",
   "metadata": {},
   "source": [
    "### 6. Casting"
   ]
  },
  {
   "cell_type": "code",
   "execution_count": 8,
   "id": "a9ae8fd2",
   "metadata": {
    "collapsed": true
   },
   "outputs": [
    {
     "name": "stdout",
     "output_type": "stream",
     "text": [
      "<class 'int'>\n",
      "<class 'str'>\n"
     ]
    }
   ],
   "source": [
    "# String to int\n",
    "n = int(\"12\")\n",
    "print(type(n))\n",
    "\n",
    "# Int to string\n",
    "s = str(21)\n",
    "print(type(s))"
   ]
  },
  {
   "cell_type": "markdown",
   "id": "50cbe52c",
   "metadata": {},
   "source": [
    "### 7. Arithmetic "
   ]
  },
  {
   "cell_type": "code",
   "execution_count": 33,
   "id": "1cfbd7fc",
   "metadata": {
    "collapsed": true
   },
   "outputs": [
    {
     "name": "stdout",
     "output_type": "stream",
     "text": [
      "1\n",
      "2.5\n",
      "2\n",
      "\n",
      "ROUND METHOD:\n",
      "22\n",
      "22\n",
      "21\n",
      "2.67\n",
      "2.7\n"
     ]
    }
   ],
   "source": [
    "# Modulus operator (%)\n",
    "print(5 % 2)\n",
    "\n",
    "# Division (/)\n",
    "print(5 / 2)\n",
    "\n",
    "# Floor division (//) (round off)\n",
    "print(5 // 2)\n",
    "\n",
    "print(\"\\nROUND METHOD:\")\n",
    "# Round method:\n",
    "print(round(21.6))\n",
    "print(round(21.5))\n",
    "print(round(21.4))\n",
    "print(round(2.665, 2)) # round to two decimal points (more precise)\n",
    "print(round(2.676, 1)) # round with less precision..."
   ]
  },
  {
   "cell_type": "markdown",
   "id": "1bb2065e",
   "metadata": {},
   "source": [
    "### 8. 2-D Array"
   ]
  },
  {
   "cell_type": "code",
   "execution_count": 48,
   "id": "a3d24c90",
   "metadata": {
    "collapsed": true
   },
   "outputs": [
    {
     "name": "stdout",
     "output_type": "stream",
     "text": [
      "[[0, 0, 0], [0, 0, 0], [0, 0, 0]]\n",
      "[[0, 0, 0], [0, 0, 0], [0, 0, 0]]\n"
     ]
    }
   ],
   "source": [
    "rows, cols = 3, 3\n",
    "\n",
    "# Approach 1\n",
    "matrix = []\n",
    "for i in range(rows):\n",
    "    row = []\n",
    "    for j in range(cols):\n",
    "        row.append(0)\n",
    "    matrix.append(row)\n",
    "print(matrix)\n",
    "\n",
    "# Approach 2\n",
    "matrix2 = [[0 for i in range(rows)] for j in range(cols)]\n",
    "print(matrix2)"
   ]
  },
  {
   "cell_type": "markdown",
   "id": "9366f8dc",
   "metadata": {},
   "source": [
    "### 9. Sorting "
   ]
  },
  {
   "cell_type": "code",
   "execution_count": 70,
   "id": "4e6bcd26",
   "metadata": {},
   "outputs": [
    {
     "name": "stdout",
     "output_type": "stream",
     "text": [
      "[1, 3, 4, 5, 6]\n",
      "[6, 5, 4, 3, 1]\n",
      "\n",
      "APPROACH 2:\n",
      "[1, 3, 4, 5, 6]\n",
      "[6, 5, 4, 3, 1]\n"
     ]
    }
   ],
   "source": [
    "# Approach 1: \n",
    "\"\"\"\n",
    "Return a new list containing all items \n",
    "from the iterable in ascending or descending order.\n",
    "\"\"\"\n",
    "asc = sorted([5, 3, 1, 6, 4])\n",
    "des = sorted([5, 3, 1, 6, 4], reverse=True)\n",
    "print(asc)\n",
    "print(des)\n",
    "\n",
    "print(\"\\nAPPROACH 2:\")\n",
    "# Approach 2\n",
    "\"\"\"\n",
    "The sort is in-place (i.e. the list itself is modified) and stable (i.e. the\n",
    "order of two equal elements is maintained).\n",
    "\"\"\"\n",
    "a = [5, 3, 1, 6, 4]\n",
    "a.sort()\n",
    "print(a)\n",
    "a.sort(reverse=True)\n",
    "print(a)"
   ]
  },
  {
   "cell_type": "markdown",
   "id": "2ea9f201",
   "metadata": {},
   "source": [
    "### 10. Switch"
   ]
  },
  {
   "cell_type": "code",
   "execution_count": 88,
   "id": "9c054fb2",
   "metadata": {},
   "outputs": [],
   "source": [
    "def numbers_to_str(argument):\n",
    "    switcher = {\n",
    "        0: 'zero',\n",
    "        1: 'one',\n",
    "        2: 'two',\n",
    "    }\n",
    "    \n",
    "    return switcher.get(argument, 'nothing')"
   ]
  },
  {
   "cell_type": "code",
   "execution_count": 87,
   "id": "3ba2f6c2",
   "metadata": {},
   "outputs": [
    {
     "name": "stdout",
     "output_type": "stream",
     "text": [
      "zero\n",
      "one\n",
      "nothing\n"
     ]
    }
   ],
   "source": [
    "print(numbers_to_str(0))\n",
    "print(numbers_to_str(1))\n",
    "print(numbers_to_str(5))"
   ]
  },
  {
   "cell_type": "code",
   "execution_count": null,
   "id": "0728591d",
   "metadata": {},
   "outputs": [],
   "source": []
  }
 ],
 "metadata": {
  "kernelspec": {
   "display_name": "Python 3 (ipykernel)",
   "language": "python",
   "name": "python3"
  },
  "language_info": {
   "codemirror_mode": {
    "name": "ipython",
    "version": 3
   },
   "file_extension": ".py",
   "mimetype": "text/x-python",
   "name": "python",
   "nbconvert_exporter": "python",
   "pygments_lexer": "ipython3",
   "version": "3.9.13"
  }
 },
 "nbformat": 4,
 "nbformat_minor": 5
}
